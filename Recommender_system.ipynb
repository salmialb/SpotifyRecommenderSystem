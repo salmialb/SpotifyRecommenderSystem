{
 "cells": [
  {
   "cell_type": "markdown",
   "metadata": {},
   "source": [
    "# Getting Data"
   ]
  },
  {
   "cell_type": "code",
   "execution_count": 1,
   "metadata": {},
   "outputs": [],
   "source": [
    "import spotipy\n",
    "from spotipy.oauth2 import SpotifyClientCredentials\n",
    "\n",
    "# Setting up info for API\n",
    "SPOTIPY_CLIENT_ID='',
    "SPOTIPY_CLIENT_SECRET='',
    "\n",
    "auth_manager = SpotifyClientCredentials(SPOTIPY_CLIENT_ID,SPOTIPY_CLIENT_SECRET)\n",
    "sp = spotipy.Spotify(auth_manager=auth_manager)\n",
    "\n",
    "api = spotipy.Spotify(client_credentials_manager=auth_manager)"
   ]
  },
  {
   "cell_type": "code",
   "execution_count": 2,
   "metadata": {},
   "outputs": [],
   "source": [
    "import pandas as pd\n",
    "import json\n",
    "import csv\n",
    "\n",
    "\n",
    "# Gets all audio features from API for every track\n",
    "def bbb(data):\n",
    "    lista = [['artist','playlist','name','track_id','acousticness','danceability','energy','instrumentalness','mode',\n",
    "                         'loudness','speechiness','tempo','time_signature','valence','key']]\n",
    "    for i in data['playlists']:\n",
    "        counter = 0\n",
    "        counter_tot = 0\n",
    "        listerine = []\n",
    "        limit = len(i['tracks'])\n",
    "        names = []\n",
    "        artists = []\n",
    "        playlist = i['name']\n",
    "        for j in i['tracks']:\n",
    "            listerine.append(j['track_uri'].split(':')[2])\n",
    "            counter = counter + 1\n",
    "            counter_tot = counter_tot + 1\n",
    "            names.append(j['track_name'])\n",
    "            artists.append(j['artist_name'])\n",
    "            if counter == 50 or counter_tot == limit: # The limit for each api request is 50 tracks so we had to set a limit\n",
    "                features = api.audio_features(listerine)\n",
    "                for c,feature in enumerate(features):\n",
    "                    lusta = [artists[c],playlist,names[c],feature['id'],feature['acousticness'],feature['danceability'],\n",
    "                             feature['energy'],feature['instrumentalness'],feature['mode'],feature['loudness'],\n",
    "                             feature['speechiness'],feature['tempo'],feature['time_signature'],feature['valence'],\n",
    "                             feature['key']]\n",
    "                    lista.append(lusta)\n",
    "                counter = 0\n",
    "                del listerine[:]\n",
    "                del names[:]\n",
    "                del artists[:]\n",
    "    return lista\n",
    "        "
   ]
  },
  {
   "cell_type": "code",
   "execution_count": 3,
   "metadata": {},
   "outputs": [
    {
     "name": "stdout",
     "output_type": "stream",
     "text": [
      "Getting all features...\n"
     ]
    }
   ],
   "source": [
    "import os\n",
    "path = \"spotify_million_playlist_dataset/data/\"\n",
    "dirs = os.listdir( path )\n",
    "\n",
    "print(\"Getting all features...\")\n",
    "# Gets all the features from the api using the challenge dataset\n",
    "for file in dirs[0:10:1]:\n",
    "    data = json.load(open(\"spotify_million_playlist_dataset/data/\"+file))\n",
    "    if data != None:\n",
    "        print(file)\n",
    "        lista = bbb(data)\n",
    "        with open(\"new_playlists/new/\"+'.'.join(i for i in file.split('.')[0:3])+\".csv\", \"w\", newline=\"\", encoding='utf-8') as f:\n",
    "            writer = csv.writer(f)\n",
    "            writer.writerows(lista)\n",
    "        "
   ]
  },
  {
   "cell_type": "markdown",
   "metadata": {},
   "source": [
    "# Data Preparation\n"
   ]
  },
  {
   "cell_type": "code",
   "execution_count": 15,
   "metadata": {},
   "outputs": [
    {
     "name": "stdout",
     "output_type": "stream",
     "text": [
      "mpd.slice.0-999.csv\n",
      "mpd.slice.1000-1999.csv\n",
      "mpd.slice.10000-10999.csv\n",
      "mpd.slice.100000-100999.csv\n",
      "mpd.slice.101000-101999.csv\n",
      "mpd.slice.102000-102999.csv\n",
      "mpd.slice.103000-103999.csv\n",
      "mpd.slice.104000-104999.csv\n",
      "mpd.slice.105000-105999.csv\n",
      "mpd.slice.106000-106999.csv\n"
     ]
    }
   ],
   "source": [
    "import warnings\n",
    "import numpy as np\n",
    "import pandas as pd\n",
    "import matplotlib.pyplot as plt\n",
    "import seaborn as sns\n",
    "from tqdm import tqdm\n",
    "from sklearn.preprocessing import MinMaxScaler\n",
    "sns.set()\n",
    "\n",
    "# Get the data from the previously created csv files\n",
    "path = \"new_playlists/new/\"\n",
    "direct = os.listdir( path )\n",
    "data = pd.DataFrame(columns=['artist','playlist','name','track_id','acousticness','danceability','energy','instrumentalness','mode',\n",
    "                         'loudness','speechiness','tempo','time_signature','valence','key'])\n",
    "for file in direct:\n",
    "    print(file)\n",
    "    data = data.append(pd.read_csv(\"new_playlists/new/\"+file), ignore_index=True)\n",
    "\n",
    "    \n",
    "data = data.drop_duplicates(subset=['name', 'artist'], keep='first')             # Drop duplicate songs \n",
    "data = data.reset_index(drop=True)                                               # Reset the index for later use\n",
    "data[['mode','time_signature','key']]=data[['mode','time_signature','key']].astype('int32')\n",
    "\n",
    "\n",
    "# Normalize data\n",
    "datatypes = ['int16', 'int32', 'int64', 'float16', 'float32', 'float64']\n",
    "normarization = data.select_dtypes(include=datatypes)\n",
    "for col in normarization.columns:\n",
    "    MinMaxScaler(col)\n",
    "   "
   ]
  },
  {
   "cell_type": "markdown",
   "metadata": {},
   "source": [
    "# Data Exploration"
   ]
  },
  {
   "cell_type": "code",
   "execution_count": 18,
   "metadata": {},
   "outputs": [
    {
     "name": "stdout",
     "output_type": "stream",
     "text": [
      "<class 'pandas.core.frame.DataFrame'>\n",
      "RangeIndex: 167544 entries, 0 to 167543\n",
      "Data columns (total 15 columns):\n",
      " #   Column            Non-Null Count   Dtype  \n",
      "---  ------            --------------   -----  \n",
      " 0   artist            167544 non-null  object \n",
      " 1   playlist          167544 non-null  object \n",
      " 2   name              167544 non-null  object \n",
      " 3   track_id          167544 non-null  object \n",
      " 4   acousticness      167544 non-null  float64\n",
      " 5   danceability      167544 non-null  float64\n",
      " 6   energy            167544 non-null  float64\n",
      " 7   instrumentalness  167544 non-null  float64\n",
      " 8   mode              167544 non-null  int32  \n",
      " 9   loudness          167544 non-null  float64\n",
      " 10  speechiness       167544 non-null  float64\n",
      " 11  tempo             167544 non-null  float64\n",
      " 12  time_signature    167544 non-null  int32  \n",
      " 13  valence           167544 non-null  float64\n",
      " 14  key               167544 non-null  int32  \n",
      "dtypes: float64(8), int32(3), object(4)\n",
      "memory usage: 17.3+ MB\n",
      "artist              0\n",
      "playlist            0\n",
      "name                0\n",
      "track_id            0\n",
      "acousticness        0\n",
      "danceability        0\n",
      "energy              0\n",
      "instrumentalness    0\n",
      "mode                0\n",
      "loudness            0\n",
      "speechiness         0\n",
      "tempo               0\n",
      "time_signature      0\n",
      "valence             0\n",
      "key                 0\n",
      "dtype: int64\n"
     ]
    },
    {
     "data": {
      "text/html": [
       "<div>\n",
       "<style scoped>\n",
       "    .dataframe tbody tr th:only-of-type {\n",
       "        vertical-align: middle;\n",
       "    }\n",
       "\n",
       "    .dataframe tbody tr th {\n",
       "        vertical-align: top;\n",
       "    }\n",
       "\n",
       "    .dataframe thead th {\n",
       "        text-align: right;\n",
       "    }\n",
       "</style>\n",
       "<table border=\"1\" class=\"dataframe\">\n",
       "  <thead>\n",
       "    <tr style=\"text-align: right;\">\n",
       "      <th></th>\n",
       "      <th>acousticness</th>\n",
       "      <th>danceability</th>\n",
       "      <th>energy</th>\n",
       "      <th>instrumentalness</th>\n",
       "      <th>mode</th>\n",
       "      <th>loudness</th>\n",
       "      <th>speechiness</th>\n",
       "      <th>tempo</th>\n",
       "      <th>time_signature</th>\n",
       "      <th>valence</th>\n",
       "      <th>key</th>\n",
       "    </tr>\n",
       "  </thead>\n",
       "  <tbody>\n",
       "    <tr>\n",
       "      <th>acousticness</th>\n",
       "      <td>1.000000</td>\n",
       "      <td>-0.236086</td>\n",
       "      <td>-0.718727</td>\n",
       "      <td>0.179151</td>\n",
       "      <td>0.081217</td>\n",
       "      <td>-0.601204</td>\n",
       "      <td>-0.087918</td>\n",
       "      <td>-0.171178</td>\n",
       "      <td>-0.179517</td>\n",
       "      <td>-0.196614</td>\n",
       "      <td>-0.028060</td>\n",
       "    </tr>\n",
       "    <tr>\n",
       "      <th>danceability</th>\n",
       "      <td>-0.236086</td>\n",
       "      <td>1.000000</td>\n",
       "      <td>0.179857</td>\n",
       "      <td>-0.204277</td>\n",
       "      <td>-0.084060</td>\n",
       "      <td>0.250241</td>\n",
       "      <td>0.195550</td>\n",
       "      <td>-0.088164</td>\n",
       "      <td>0.180623</td>\n",
       "      <td>0.488726</td>\n",
       "      <td>0.029030</td>\n",
       "    </tr>\n",
       "    <tr>\n",
       "      <th>energy</th>\n",
       "      <td>-0.718727</td>\n",
       "      <td>0.179857</td>\n",
       "      <td>1.000000</td>\n",
       "      <td>-0.193486</td>\n",
       "      <td>-0.071984</td>\n",
       "      <td>0.777464</td>\n",
       "      <td>0.141952</td>\n",
       "      <td>0.204790</td>\n",
       "      <td>0.181027</td>\n",
       "      <td>0.343268</td>\n",
       "      <td>0.033453</td>\n",
       "    </tr>\n",
       "    <tr>\n",
       "      <th>instrumentalness</th>\n",
       "      <td>0.179151</td>\n",
       "      <td>-0.204277</td>\n",
       "      <td>-0.193486</td>\n",
       "      <td>1.000000</td>\n",
       "      <td>-0.043690</td>\n",
       "      <td>-0.389421</td>\n",
       "      <td>-0.126931</td>\n",
       "      <td>-0.036622</td>\n",
       "      <td>-0.062195</td>\n",
       "      <td>-0.232752</td>\n",
       "      <td>-0.009653</td>\n",
       "    </tr>\n",
       "    <tr>\n",
       "      <th>mode</th>\n",
       "      <td>0.081217</td>\n",
       "      <td>-0.084060</td>\n",
       "      <td>-0.071984</td>\n",
       "      <td>-0.043690</td>\n",
       "      <td>1.000000</td>\n",
       "      <td>-0.036059</td>\n",
       "      <td>-0.086714</td>\n",
       "      <td>0.011217</td>\n",
       "      <td>-0.028162</td>\n",
       "      <td>0.003234</td>\n",
       "      <td>-0.148231</td>\n",
       "    </tr>\n",
       "    <tr>\n",
       "      <th>loudness</th>\n",
       "      <td>-0.601204</td>\n",
       "      <td>0.250241</td>\n",
       "      <td>0.777464</td>\n",
       "      <td>-0.389421</td>\n",
       "      <td>-0.036059</td>\n",
       "      <td>1.000000</td>\n",
       "      <td>0.075181</td>\n",
       "      <td>0.171500</td>\n",
       "      <td>0.157185</td>\n",
       "      <td>0.271086</td>\n",
       "      <td>0.024126</td>\n",
       "    </tr>\n",
       "    <tr>\n",
       "      <th>speechiness</th>\n",
       "      <td>-0.087918</td>\n",
       "      <td>0.195550</td>\n",
       "      <td>0.141952</td>\n",
       "      <td>-0.126931</td>\n",
       "      <td>-0.086714</td>\n",
       "      <td>0.075181</td>\n",
       "      <td>1.000000</td>\n",
       "      <td>0.026699</td>\n",
       "      <td>0.040222</td>\n",
       "      <td>0.091384</td>\n",
       "      <td>0.023834</td>\n",
       "    </tr>\n",
       "    <tr>\n",
       "      <th>tempo</th>\n",
       "      <td>-0.171178</td>\n",
       "      <td>-0.088164</td>\n",
       "      <td>0.204790</td>\n",
       "      <td>-0.036622</td>\n",
       "      <td>0.011217</td>\n",
       "      <td>0.171500</td>\n",
       "      <td>0.026699</td>\n",
       "      <td>1.000000</td>\n",
       "      <td>0.015661</td>\n",
       "      <td>0.064545</td>\n",
       "      <td>0.001902</td>\n",
       "    </tr>\n",
       "    <tr>\n",
       "      <th>time_signature</th>\n",
       "      <td>-0.179517</td>\n",
       "      <td>0.180623</td>\n",
       "      <td>0.181027</td>\n",
       "      <td>-0.062195</td>\n",
       "      <td>-0.028162</td>\n",
       "      <td>0.157185</td>\n",
       "      <td>0.040222</td>\n",
       "      <td>0.015661</td>\n",
       "      <td>1.000000</td>\n",
       "      <td>0.107574</td>\n",
       "      <td>0.009378</td>\n",
       "    </tr>\n",
       "    <tr>\n",
       "      <th>valence</th>\n",
       "      <td>-0.196614</td>\n",
       "      <td>0.488726</td>\n",
       "      <td>0.343268</td>\n",
       "      <td>-0.232752</td>\n",
       "      <td>0.003234</td>\n",
       "      <td>0.271086</td>\n",
       "      <td>0.091384</td>\n",
       "      <td>0.064545</td>\n",
       "      <td>0.107574</td>\n",
       "      <td>1.000000</td>\n",
       "      <td>0.036207</td>\n",
       "    </tr>\n",
       "    <tr>\n",
       "      <th>key</th>\n",
       "      <td>-0.028060</td>\n",
       "      <td>0.029030</td>\n",
       "      <td>0.033453</td>\n",
       "      <td>-0.009653</td>\n",
       "      <td>-0.148231</td>\n",
       "      <td>0.024126</td>\n",
       "      <td>0.023834</td>\n",
       "      <td>0.001902</td>\n",
       "      <td>0.009378</td>\n",
       "      <td>0.036207</td>\n",
       "      <td>1.000000</td>\n",
       "    </tr>\n",
       "  </tbody>\n",
       "</table>\n",
       "</div>"
      ],
      "text/plain": [
       "                  acousticness  danceability    energy  instrumentalness  \\\n",
       "acousticness          1.000000     -0.236086 -0.718727          0.179151   \n",
       "danceability         -0.236086      1.000000  0.179857         -0.204277   \n",
       "energy               -0.718727      0.179857  1.000000         -0.193486   \n",
       "instrumentalness      0.179151     -0.204277 -0.193486          1.000000   \n",
       "mode                  0.081217     -0.084060 -0.071984         -0.043690   \n",
       "loudness             -0.601204      0.250241  0.777464         -0.389421   \n",
       "speechiness          -0.087918      0.195550  0.141952         -0.126931   \n",
       "tempo                -0.171178     -0.088164  0.204790         -0.036622   \n",
       "time_signature       -0.179517      0.180623  0.181027         -0.062195   \n",
       "valence              -0.196614      0.488726  0.343268         -0.232752   \n",
       "key                  -0.028060      0.029030  0.033453         -0.009653   \n",
       "\n",
       "                      mode  loudness  speechiness     tempo  time_signature  \\\n",
       "acousticness      0.081217 -0.601204    -0.087918 -0.171178       -0.179517   \n",
       "danceability     -0.084060  0.250241     0.195550 -0.088164        0.180623   \n",
       "energy           -0.071984  0.777464     0.141952  0.204790        0.181027   \n",
       "instrumentalness -0.043690 -0.389421    -0.126931 -0.036622       -0.062195   \n",
       "mode              1.000000 -0.036059    -0.086714  0.011217       -0.028162   \n",
       "loudness         -0.036059  1.000000     0.075181  0.171500        0.157185   \n",
       "speechiness      -0.086714  0.075181     1.000000  0.026699        0.040222   \n",
       "tempo             0.011217  0.171500     0.026699  1.000000        0.015661   \n",
       "time_signature   -0.028162  0.157185     0.040222  0.015661        1.000000   \n",
       "valence           0.003234  0.271086     0.091384  0.064545        0.107574   \n",
       "key              -0.148231  0.024126     0.023834  0.001902        0.009378   \n",
       "\n",
       "                   valence       key  \n",
       "acousticness     -0.196614 -0.028060  \n",
       "danceability      0.488726  0.029030  \n",
       "energy            0.343268  0.033453  \n",
       "instrumentalness -0.232752 -0.009653  \n",
       "mode              0.003234 -0.148231  \n",
       "loudness          0.271086  0.024126  \n",
       "speechiness       0.091384  0.023834  \n",
       "tempo             0.064545  0.001902  \n",
       "time_signature    0.107574  0.009378  \n",
       "valence           1.000000  0.036207  \n",
       "key               0.036207  1.000000  "
      ]
     },
     "execution_count": 18,
     "metadata": {},
     "output_type": "execute_result"
    }
   ],
   "source": [
    "data.info()\n",
    "print(data.isnull().sum())\n",
    "df = data.drop(columns=['track_id','name','playlist'])\n",
    "df.corr()"
   ]
  },
  {
   "cell_type": "code",
   "execution_count": 5,
   "metadata": {},
   "outputs": [
    {
     "data": {
      "text/plain": [
       "MinMaxScaler(feature_range=0         6\n",
       "1         0\n",
       "2         8\n",
       "3         8\n",
       "4         1\n",
       "         ..\n",
       "167539    6\n",
       "167540    3\n",
       "167541    6\n",
       "167542    4\n",
       "167543    0\n",
       "Name: features, Length: 167544, dtype: int32)"
      ]
     },
     "execution_count": 5,
     "metadata": {},
     "output_type": "execute_result"
    }
   ],
   "source": [
    "from sklearn.cluster import KMeans\n",
    "kmeans = KMeans(n_clusters=10)\n",
    "features = kmeans.fit_predict(normarization)\n",
    "data['features'] = features\n",
    "MinMaxScaler(data['features'])"
   ]
  },
  {
   "cell_type": "code",
   "execution_count": 19,
   "metadata": {},
   "outputs": [
    {
     "name": "stdout",
     "output_type": "stream",
     "text": [
      "\n",
      "Number of clusters = 2\n",
      "Silhouette score = 0.5118833289068876\n",
      "\n",
      "Number of clusters = 3\n",
      "Silhouette score = 0.5166771494554608\n",
      "\n",
      "Number of clusters = 4\n",
      "Silhouette score = 0.4346965487556783\n",
      "\n",
      "Number of clusters = 5\n",
      "Silhouette score = 0.4224815958718733\n",
      "\n",
      "Number of clusters = 6\n",
      "Silhouette score = 0.3767354522712349\n",
      "\n",
      "Number of clusters = 7\n",
      "Silhouette score = 0.3663423572064752\n",
      "\n",
      "Number of clusters = 8\n",
      "Silhouette score = 0.35389640411063544\n",
      "\n",
      "Number of clusters = 9\n",
      "Silhouette score = 0.3441358151059373\n",
      "\n",
      "Number of clusters = 10\n",
      "Silhouette score = 0.3165012979893557\n",
      "\n",
      "Optimal number of clusters = 3\n"
     ]
    }
   ],
   "source": [
    "import numpy as np\n",
    "from sklearn import metrics\n",
    "\n",
    "scores = []\n",
    "values = np.arange(2, 11)\n",
    "\n",
    "# Silhouette analysis to get an idea of the data and clustering performance\n",
    "for num_clusters in values:\n",
    "    kmeans_test = KMeans(init = 'k-means++', n_clusters = num_clusters, n_init = 10)\n",
    "    kmeans_test.fit(normarization)\n",
    "    score = metrics.silhouette_score(normarization, kmeans_test.labels_, metric = 'euclidean', sample_size = len(normarization))\n",
    "    \n",
    "    print(\"\\nNumber of clusters =\", num_clusters)\n",
    "    print(\"Silhouette score =\", score)\n",
    "    scores.append(score)\n",
    "\n",
    "num_clusters = np.argmax(scores) + values[0]\n",
    "print('\\nOptimal number of clusters =', num_clusters)"
   ]
  },
  {
   "cell_type": "markdown",
   "metadata": {},
   "source": [
    "# Content based Recommender System"
   ]
  },
  {
   "cell_type": "code",
   "execution_count": 7,
   "metadata": {},
   "outputs": [
    {
     "data": {
      "image/png": "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\n",
      "text/plain": [
       "<IPython.core.display.Image object>"
      ]
     },
     "execution_count": 7,
     "metadata": {},
     "output_type": "execute_result"
    }
   ],
   "source": [
    "from IPython.display import Image\n",
    "Image(filename='scatterplot.png')"
   ]
  },
  {
   "cell_type": "code",
   "execution_count": 26,
   "metadata": {},
   "outputs": [
    {
     "name": "stderr",
     "output_type": "stream",
     "text": [
      "100%|███████████████████████████████████████████████████████████████████████| 167542/167542 [00:03<00:00, 44184.42it/s]\n",
      "<ipython-input-26-1852cf367183>:54: SettingWithCopyWarning: \n",
      "A value is trying to be set on a copy of a slice from a DataFrame.\n",
      "Try using .loc[row_indexer,col_indexer] = value instead\n",
      "\n",
      "See the caveats in the documentation: https://pandas.pydata.org/pandas-docs/stable/user_guide/indexing.html#returning-a-view-versus-a-copy\n",
      "  rec['distance'] = distance\n",
      "100%|███████████████████████████████████████████████████████████████████████| 167543/167543 [00:03<00:00, 44028.28it/s]\n",
      "100%|███████████████████████████████████████████████████████████████████████| 167543/167543 [00:03<00:00, 44178.76it/s]\n",
      "100%|███████████████████████████████████████████████████████████████████████████████| 30/30 [00:00<00:00, 30109.86it/s]\n"
     ]
    },
    {
     "data": {
      "text/html": [
       "<div>\n",
       "<style scoped>\n",
       "    .dataframe tbody tr th:only-of-type {\n",
       "        vertical-align: middle;\n",
       "    }\n",
       "\n",
       "    .dataframe tbody tr th {\n",
       "        vertical-align: top;\n",
       "    }\n",
       "\n",
       "    .dataframe thead th {\n",
       "        text-align: right;\n",
       "    }\n",
       "</style>\n",
       "<table border=\"1\" class=\"dataframe\">\n",
       "  <thead>\n",
       "    <tr style=\"text-align: right;\">\n",
       "      <th></th>\n",
       "      <th>artist</th>\n",
       "      <th>name</th>\n",
       "    </tr>\n",
       "  </thead>\n",
       "  <tbody>\n",
       "    <tr>\n",
       "      <th>71075</th>\n",
       "      <td>DEAN</td>\n",
       "      <td>The Unknown Guest</td>\n",
       "    </tr>\n",
       "    <tr>\n",
       "      <th>9873</th>\n",
       "      <td>Trans-Siberian Orchestra</td>\n",
       "      <td>Christmas Jazz - Instrumental</td>\n",
       "    </tr>\n",
       "    <tr>\n",
       "      <th>105658</th>\n",
       "      <td>Faust</td>\n",
       "      <td>It's A Bit Of A Pain</td>\n",
       "    </tr>\n",
       "    <tr>\n",
       "      <th>136862</th>\n",
       "      <td>Death Cab for Cutie</td>\n",
       "      <td>Little Fury Bugs</td>\n",
       "    </tr>\n",
       "    <tr>\n",
       "      <th>154656</th>\n",
       "      <td>Lotus</td>\n",
       "      <td>Colorado</td>\n",
       "    </tr>\n",
       "    <tr>\n",
       "      <th>93728</th>\n",
       "      <td>Les Misérables - 10th Anniversary Concert Cast</td>\n",
       "      <td>Valjean's Soliloquy</td>\n",
       "    </tr>\n",
       "    <tr>\n",
       "      <th>132844</th>\n",
       "      <td>Johnny Cash</td>\n",
       "      <td>Dark as the Dungeon - Live</td>\n",
       "    </tr>\n",
       "    <tr>\n",
       "      <th>88783</th>\n",
       "      <td>The Avett Brothers</td>\n",
       "      <td>Divorce Separation Blues</td>\n",
       "    </tr>\n",
       "    <tr>\n",
       "      <th>157180</th>\n",
       "      <td>Simon &amp; Garfunkel</td>\n",
       "      <td>So Long, Frank Lloyd Wright</td>\n",
       "    </tr>\n",
       "    <tr>\n",
       "      <th>66390</th>\n",
       "      <td>Dia Frampton</td>\n",
       "      <td>Daniel</td>\n",
       "    </tr>\n",
       "  </tbody>\n",
       "</table>\n",
       "</div>"
      ],
      "text/plain": [
       "                                                artist  \\\n",
       "71075                                             DEAN   \n",
       "9873                          Trans-Siberian Orchestra   \n",
       "105658                                           Faust   \n",
       "136862                             Death Cab for Cutie   \n",
       "154656                                          Lotus    \n",
       "93728   Les Misérables - 10th Anniversary Concert Cast   \n",
       "132844                                     Johnny Cash   \n",
       "88783                               The Avett Brothers   \n",
       "157180                               Simon & Garfunkel   \n",
       "66390                                     Dia Frampton   \n",
       "\n",
       "                                 name  \n",
       "71075               The Unknown Guest  \n",
       "9873    Christmas Jazz - Instrumental  \n",
       "105658           It's A Bit Of A Pain  \n",
       "136862               Little Fury Bugs  \n",
       "154656                       Colorado  \n",
       "93728             Valjean's Soliloquy  \n",
       "132844     Dark as the Dungeon - Live  \n",
       "88783        Divorce Separation Blues  \n",
       "157180    So Long, Frank Lloyd Wright  \n",
       "66390                          Daniel  "
      ]
     },
     "execution_count": 26,
     "metadata": {},
     "output_type": "execute_result"
    }
   ],
   "source": [
    "\n",
    "class Spotify_Recommendation():\n",
    "    def __init__(self, dataset):\n",
    "        self.dataset = dataset\n",
    "        self.songs = None\n",
    "        \n",
    "    # Gets the centroid for a list of songs\n",
    "    def getCentroid(self, songs): \n",
    "        \"\"\"\n",
    "            Takes a list of songs and returns the centroid for all of these\n",
    "            songs based on the features of the songs.\n",
    "        \"\"\"\n",
    "        songs = [self.dataset[(self.dataset.name.str.lower() == x.lower())].head(1).values[0] for x in songs]\n",
    "        avg = np.zeros(songs[0].shape)\n",
    "        for i in range(1,len(songs)):\n",
    "            avg[4:16] = songs[i][4:16]+songs[i-1][4:16]+avg[4:16]\n",
    "        return avg/len(songs)\n",
    "    \n",
    "    # Takes a list of songs and recommends similar songs based on these\n",
    "    def suggestSongs(self, songs, amount=1,end=True):\n",
    "        \"\"\"\n",
    "            Takes a list of songs and tries to recommend appropriate songs \n",
    "            that are similar to these based on distance between their features.\n",
    "            It also gets the centroid for each given song and measures the \n",
    "            distance of these to find songs that best represent the list of \n",
    "            given songs as a whole. \n",
    "        \"\"\"\n",
    "        self.songs = songs\n",
    "        cent = self.getCentroid(songs)\n",
    "        suggestions = pd.DataFrame(columns=self.dataset.columns)\n",
    "        for i in songs:\n",
    "            song = self.dataset[(self.dataset.name.str.lower() == i.lower())].head(1).values[0]\n",
    "            rec = self.dataset[self.dataset.name.str.lower() != i.lower()]\n",
    "            suggestions = suggestions.append(self.recommend(song,rec,amount).drop(columns=['distance']))\n",
    "        return self.recommend(cent,suggestions,10,end)\n",
    "        \n",
    "    # Recommends a number of points in a n-dimensional space based on distance\n",
    "    def recommend(self, song, rec, amount=1, end=False):\n",
    "        \"\"\"\n",
    "            Takes a song and a list of possible songs to recommend and \n",
    "            recommends the ones with smallest distance to the first song.\n",
    "            The song does not have to be a song, but can also be a centroid\n",
    "            in the same format as a song, i.e a point in the n-dimensional space.\n",
    "        \"\"\"\n",
    "        strs = [0,1,2,3]\n",
    "        if 'ids' in rec.columns:                                                 # Checks if user ids are present\n",
    "            strs = [0,1,2,3,15]\n",
    "        distance = []\n",
    "        for songs in tqdm(rec.values):\n",
    "            d = 0\n",
    "            for col in np.arange(len(rec.columns)):\n",
    "                if not col in strs:\n",
    "                    d = d + np.absolute(float(song[col]) - float(songs[col]))\n",
    "            distance.append(d)\n",
    "        rec['distance'] = distance\n",
    "        rec = rec.sort_values('distance')\n",
    "        columns = ['artist', 'name']\n",
    "        if 'ids' in rec.columns:\n",
    "            return rec[['ids']][:amount]\n",
    "        if end==True:\n",
    "            return rec[columns][:amount]\n",
    "        return rec[:amount]\n",
    "\n",
    "recommendations = Spotify_Recommendation(data)\n",
    "recommendations.suggestSongs([\"All I Ask Of You\",\"Love Is an Open Door\",\"I'm Your Angel\"], 10)"
   ]
  },
  {
   "cell_type": "markdown",
   "metadata": {},
   "source": [
    "# User-based Collaborative Recommender System"
   ]
  },
  {
   "cell_type": "code",
   "execution_count": 39,
   "metadata": {},
   "outputs": [],
   "source": [
    "import random\n",
    "\n",
    "# A class the represents a user\n",
    "class User():\n",
    "    def __init__(self,userid):\n",
    "        self.playlist = None\n",
    "        self.centroid = None\n",
    "        self.userid = userid\n",
    "        self.createPlaylist()\n",
    "        \n",
    "    # Select songs and find playlist\n",
    "    def createPlaylist(self):\n",
    "        songs = []\n",
    "        recoms = Spotify_Recommendation(data)\n",
    "        rows = data[data['playlist'] == data.iloc[random.randint(0,len(data))]['playlist']]\n",
    "        for i in range(random.randint(1,3)):\n",
    "            songs.append(rows.iloc[random.randint(0,len(rows)-1)]['name'])\n",
    "        self.playlist = recoms.suggestSongs(songs,10,end=False)\n",
    "        self.centroid = recoms.getCentroid(songs)\n",
    "    \n",
    "    def showSongs(self):\n",
    "        return self.playlist['name']\n",
    "    \n",
    "    def getSongs(self):\n",
    "        return self.playlist\n",
    "    \n",
    "# A class that represents a group of users\n",
    "class Roster():\n",
    "    def __init__(self,amount):\n",
    "        self.users = None\n",
    "        self.songs = None\n",
    "        self.createUsers(amount)\n",
    "    \n",
    "    # Creates all the users\n",
    "    def createUsers(self,amount):        \n",
    "        users = []\n",
    "        for i in range(amount):\n",
    "            users.append(User(i))\n",
    "            print(\"User: \"+str(i))\n",
    "        self.users = users\n",
    "    \n",
    "    # Gets songs of users from the roster that are similar to the given user  \n",
    "    def getSimilar(self, user, amount=1):\n",
    "        ids = []\n",
    "        dat = pd.DataFrame(columns=data.columns)\n",
    "        for i in self.users:\n",
    "            ids.append(i.userid)\n",
    "            dat.loc[len(dat)] = i.centroid\n",
    "        dat['ids'] =  ids\n",
    "        recoms = Spotify_Recommendation(data)\n",
    "        recs = recoms.recommend(user.centroid,dat,amount)\n",
    "        self.users.append(user)\n",
    "        return recs.iloc[0].tolist()\n",
    "        \n",
    "            \n",
    "        \n"
   ]
  },
  {
   "cell_type": "code",
   "execution_count": 41,
   "metadata": {},
   "outputs": [
    {
     "name": "stderr",
     "output_type": "stream",
     "text": [
      "100%|███████████████████████████████████████████████████████████████████████| 167539/167539 [00:03<00:00, 44280.91it/s]\n",
      "<ipython-input-26-1852cf367183>:54: SettingWithCopyWarning: \n",
      "A value is trying to be set on a copy of a slice from a DataFrame.\n",
      "Try using .loc[row_indexer,col_indexer] = value instead\n",
      "\n",
      "See the caveats in the documentation: https://pandas.pydata.org/pandas-docs/stable/user_guide/indexing.html#returning-a-view-versus-a-copy\n",
      "  rec['distance'] = distance\n",
      "100%|███████████████████████████████████████████████████████████████████████| 167543/167543 [00:03<00:00, 44596.00it/s]\n",
      "100%|███████████████████████████████████████████████████████████████████████████████| 20/20 [00:00<00:00, 20490.00it/s]\n",
      "100%|███████████████████████████████████████████████████████████████████████| 167543/167543 [00:03<00:00, 44914.21it/s]\n",
      "100%|███████████████████████████████████████████████████████████████████████████████| 10/10 [00:00<00:00, 10029.42it/s]\n"
     ]
    },
    {
     "name": "stdout",
     "output_type": "stream",
     "text": [
      "User: 0\n"
     ]
    },
    {
     "name": "stderr",
     "output_type": "stream",
     "text": [
      "100%|███████████████████████████████████████████████████████████████████████| 167543/167543 [00:03<00:00, 44677.99it/s]\n",
      "100%|███████████████████████████████████████████████████████████████████████| 167543/167543 [00:03<00:00, 44763.65it/s]\n",
      "100%|███████████████████████████████████████████████████████████████████████████████| 20/20 [00:00<00:00, 20006.22it/s]\n"
     ]
    },
    {
     "name": "stdout",
     "output_type": "stream",
     "text": [
      "User: 1\n"
     ]
    },
    {
     "name": "stderr",
     "output_type": "stream",
     "text": [
      "100%|███████████████████████████████████████████████████████████████████████| 167543/167543 [00:03<00:00, 45321.50it/s]\n",
      "100%|███████████████████████████████████████████████████████████████████████| 167543/167543 [00:03<00:00, 45229.01it/s]\n",
      "100%|███████████████████████████████████████████████████████████████████████| 167543/167543 [00:03<00:00, 44499.94it/s]\n",
      "100%|███████████████████████████████████████████████████████████████████████████████| 30/30 [00:00<00:00, 15040.54it/s]\n"
     ]
    },
    {
     "name": "stdout",
     "output_type": "stream",
     "text": [
      "User: 2\n"
     ]
    },
    {
     "name": "stderr",
     "output_type": "stream",
     "text": [
      "100%|███████████████████████████████████████████████████████████████████████| 167534/167534 [00:03<00:00, 43564.67it/s]\n",
      "100%|███████████████████████████████████████████████████████████████████████| 167543/167543 [00:04<00:00, 41435.65it/s]\n",
      "100%|███████████████████████████████████████████████████████████████████████| 167543/167543 [00:03<00:00, 44766.58it/s]\n",
      "100%|███████████████████████████████████████████████████████████████████████████████| 30/30 [00:00<00:00, 30102.66it/s]\n"
     ]
    },
    {
     "name": "stdout",
     "output_type": "stream",
     "text": [
      "User: 3\n"
     ]
    },
    {
     "name": "stderr",
     "output_type": "stream",
     "text": [
      "100%|███████████████████████████████████████████████████████████████████████| 167543/167543 [00:03<00:00, 44901.79it/s]\n",
      "100%|███████████████████████████████████████████████████████████████████████| 167543/167543 [00:03<00:00, 44391.86it/s]\n",
      "100%|███████████████████████████████████████████████████████████████████████| 167543/167543 [00:03<00:00, 44468.71it/s]\n",
      "100%|███████████████████████████████████████████████████████████████████████████████| 30/30 [00:00<00:00, 30073.88it/s]\n"
     ]
    },
    {
     "name": "stdout",
     "output_type": "stream",
     "text": [
      "User: 4\n"
     ]
    },
    {
     "name": "stderr",
     "output_type": "stream",
     "text": [
      "100%|███████████████████████████████████████████████████████████████████████| 167543/167543 [00:03<00:00, 45801.02it/s]\n",
      "100%|███████████████████████████████████████████████████████████████████████████████| 10/10 [00:00<00:00, 10022.23it/s]\n"
     ]
    },
    {
     "name": "stdout",
     "output_type": "stream",
     "text": [
      "User: 5\n"
     ]
    },
    {
     "name": "stderr",
     "output_type": "stream",
     "text": [
      "100%|███████████████████████████████████████████████████████████████████████| 167543/167543 [00:03<00:00, 45385.04it/s]\n",
      "100%|███████████████████████████████████████████████████████████████████████| 167542/167542 [00:03<00:00, 44995.06it/s]\n",
      "100%|███████████████████████████████████████████████████████████████████████████████| 20/20 [00:00<00:00, 20049.25it/s]\n"
     ]
    },
    {
     "name": "stdout",
     "output_type": "stream",
     "text": [
      "User: 6\n"
     ]
    },
    {
     "name": "stderr",
     "output_type": "stream",
     "text": [
      "100%|███████████████████████████████████████████████████████████████████████| 167535/167535 [00:03<00:00, 45275.83it/s]\n",
      "100%|███████████████████████████████████████████████████████████████████████| 167543/167543 [00:03<00:00, 45470.33it/s]\n",
      "100%|███████████████████████████████████████████████████████████████████████████████| 20/20 [00:00<00:00, 19873.51it/s]\n"
     ]
    },
    {
     "name": "stdout",
     "output_type": "stream",
     "text": [
      "User: 7\n"
     ]
    },
    {
     "name": "stderr",
     "output_type": "stream",
     "text": [
      "100%|███████████████████████████████████████████████████████████████████████| 167543/167543 [00:03<00:00, 44447.09it/s]\n",
      "100%|███████████████████████████████████████████████████████████████████████| 167543/167543 [00:03<00:00, 44460.28it/s]\n",
      "100%|███████████████████████████████████████████████████████████████████████| 167543/167543 [00:03<00:00, 45133.02it/s]\n",
      "100%|███████████████████████████████████████████████████████████████████████████████| 30/30 [00:00<00:00, 30102.66it/s]\n"
     ]
    },
    {
     "name": "stdout",
     "output_type": "stream",
     "text": [
      "User: 8\n"
     ]
    },
    {
     "name": "stderr",
     "output_type": "stream",
     "text": [
      "100%|███████████████████████████████████████████████████████████████████████| 167543/167543 [00:03<00:00, 45102.44it/s]\n",
      "100%|███████████████████████████████████████████████████████████████████████| 167543/167543 [00:03<00:00, 45261.85it/s]\n",
      "100%|███████████████████████████████████████████████████████████████████████| 167543/167543 [00:03<00:00, 45406.23it/s]\n",
      "100%|███████████████████████████████████████████████████████████████████████████████| 30/30 [00:00<00:00, 30066.70it/s]\n"
     ]
    },
    {
     "name": "stdout",
     "output_type": "stream",
     "text": [
      "User: 9\n"
     ]
    },
    {
     "name": "stderr",
     "output_type": "stream",
     "text": [
      "100%|███████████████████████████████████████████████████████████████████████| 167543/167543 [00:03<00:00, 44735.39it/s]\n",
      "100%|███████████████████████████████████████████████████████████████████████████████| 10/10 [00:00<00:00, 10024.63it/s]\n"
     ]
    },
    {
     "name": "stdout",
     "output_type": "stream",
     "text": [
      "User: 10\n"
     ]
    },
    {
     "name": "stderr",
     "output_type": "stream",
     "text": [
      "100%|███████████████████████████████████████████████████████████████████████| 167543/167543 [00:03<00:00, 45061.95it/s]\n",
      "100%|███████████████████████████████████████████████████████████████████████| 167543/167543 [00:03<00:00, 45197.69it/s]\n",
      "100%|███████████████████████████████████████████████████████████████████████| 167543/167543 [00:03<00:00, 45078.13it/s]\n",
      "100%|███████████████████████████████████████████████████████████████████████████████| 30/30 [00:00<00:00, 30081.07it/s]\n"
     ]
    },
    {
     "name": "stdout",
     "output_type": "stream",
     "text": [
      "User: 11\n"
     ]
    },
    {
     "name": "stderr",
     "output_type": "stream",
     "text": [
      "100%|███████████████████████████████████████████████████████████████████████| 167543/167543 [00:03<00:00, 45259.85it/s]\n",
      "100%|███████████████████████████████████████████████████████████████████████| 167538/167538 [00:03<00:00, 45405.84it/s]\n",
      "100%|███████████████████████████████████████████████████████████████████████████████| 20/20 [00:00<00:00, 20126.22it/s]\n"
     ]
    },
    {
     "name": "stdout",
     "output_type": "stream",
     "text": [
      "User: 12\n"
     ]
    },
    {
     "name": "stderr",
     "output_type": "stream",
     "text": [
      "100%|███████████████████████████████████████████████████████████████████████| 167543/167543 [00:03<00:00, 45150.54it/s]\n",
      "100%|███████████████████████████████████████████████████████████████████████| 167543/167543 [00:03<00:00, 44894.49it/s]\n",
      "100%|███████████████████████████████████████████████████████████████████████████████| 20/20 [00:00<00:00, 20058.84it/s]\n"
     ]
    },
    {
     "name": "stdout",
     "output_type": "stream",
     "text": [
      "User: 13\n"
     ]
    },
    {
     "name": "stderr",
     "output_type": "stream",
     "text": [
      "100%|███████████████████████████████████████████████████████████████████████| 167543/167543 [00:03<00:00, 45310.86it/s]\n",
      "100%|██████████████████████████████████████████████████████████████████████████████████████████| 10/10 [00:00<?, ?it/s]\n"
     ]
    },
    {
     "name": "stdout",
     "output_type": "stream",
     "text": [
      "User: 14\n"
     ]
    },
    {
     "name": "stderr",
     "output_type": "stream",
     "text": [
      "100%|███████████████████████████████████████████████████████████████████████| 167543/167543 [00:03<00:00, 45239.90it/s]\n",
      "100%|███████████████████████████████████████████████████████████████████████| 167543/167543 [00:03<00:00, 45702.70it/s]\n",
      "100%|███████████████████████████████████████████████████████████████████████████████| 20/20 [00:00<00:00, 20063.64it/s]\n"
     ]
    },
    {
     "name": "stdout",
     "output_type": "stream",
     "text": [
      "User: 15\n"
     ]
    },
    {
     "name": "stderr",
     "output_type": "stream",
     "text": [
      "100%|███████████████████████████████████████████████████████████████████████| 167543/167543 [00:03<00:00, 45674.19it/s]\n",
      "100%|███████████████████████████████████████████████████████████████████████| 167543/167543 [00:03<00:00, 45041.90it/s]\n",
      "100%|███████████████████████████████████████████████████████████████████████| 167538/167538 [00:03<00:00, 45441.21it/s]\n",
      "100%|███████████████████████████████████████████████████████████████████████████████| 30/30 [00:00<00:00, 30102.66it/s]\n"
     ]
    },
    {
     "name": "stdout",
     "output_type": "stream",
     "text": [
      "User: 16\n"
     ]
    },
    {
     "name": "stderr",
     "output_type": "stream",
     "text": [
      "100%|███████████████████████████████████████████████████████████████████████| 167543/167543 [00:03<00:00, 44733.03it/s]\n",
      "100%|██████████████████████████████████████████████████████████████████████████████████████████| 10/10 [00:00<?, ?it/s]\n"
     ]
    },
    {
     "name": "stdout",
     "output_type": "stream",
     "text": [
      "User: 17\n"
     ]
    },
    {
     "name": "stderr",
     "output_type": "stream",
     "text": [
      "100%|███████████████████████████████████████████████████████████████████████| 167543/167543 [00:03<00:00, 45318.72it/s]\n",
      "100%|███████████████████████████████████████████████████████████████████████| 167543/167543 [00:03<00:00, 44485.01it/s]\n",
      "100%|███████████████████████████████████████████████████████████████████████| 167542/167542 [00:03<00:00, 45584.56it/s]\n",
      "100%|███████████████████████████████████████████████████████████████████████████████| 30/30 [00:00<00:00, 30735.01it/s]\n"
     ]
    },
    {
     "name": "stdout",
     "output_type": "stream",
     "text": [
      "User: 18\n"
     ]
    },
    {
     "name": "stderr",
     "output_type": "stream",
     "text": [
      "100%|███████████████████████████████████████████████████████████████████████| 167543/167543 [00:03<00:00, 44056.14it/s]\n",
      "100%|███████████████████████████████████████████████████████████████████████| 167543/167543 [00:03<00:00, 45313.81it/s]\n",
      "100%|███████████████████████████████████████████████████████████████████████| 167529/167529 [00:03<00:00, 44904.35it/s]\n",
      "100%|███████████████████████████████████████████████████████████████████████████████| 30/30 [00:00<00:00, 30002.17it/s]\n"
     ]
    },
    {
     "name": "stdout",
     "output_type": "stream",
     "text": [
      "User: 19\n"
     ]
    },
    {
     "name": "stderr",
     "output_type": "stream",
     "text": [
      "100%|███████████████████████████████████████████████████████████████████████| 167543/167543 [00:03<00:00, 45313.95it/s]\n",
      "100%|███████████████████████████████████████████████████████████████████████| 167543/167543 [00:03<00:00, 45399.33it/s]\n",
      "100%|███████████████████████████████████████████████████████████████████████| 167543/167543 [00:03<00:00, 45085.69it/s]\n",
      "100%|███████████████████████████████████████████████████████████████████████████████| 30/30 [00:00<00:00, 30045.16it/s]\n"
     ]
    },
    {
     "name": "stdout",
     "output_type": "stream",
     "text": [
      "User: 20\n"
     ]
    },
    {
     "name": "stderr",
     "output_type": "stream",
     "text": [
      "100%|███████████████████████████████████████████████████████████████████████| 167543/167543 [00:03<00:00, 44617.01it/s]\n",
      "100%|███████████████████████████████████████████████████████████████████████████████| 10/10 [00:00<00:00, 10034.22it/s]\n"
     ]
    },
    {
     "name": "stdout",
     "output_type": "stream",
     "text": [
      "User: 21\n"
     ]
    },
    {
     "name": "stderr",
     "output_type": "stream",
     "text": [
      "100%|███████████████████████████████████████████████████████████████████████| 167543/167543 [00:03<00:00, 45182.22it/s]\n",
      "100%|███████████████████████████████████████████████████████████████████████| 167543/167543 [00:04<00:00, 41468.19it/s]\n",
      "100%|███████████████████████████████████████████████████████████████████████████████| 20/20 [00:00<00:00, 19996.68it/s]\n"
     ]
    },
    {
     "name": "stdout",
     "output_type": "stream",
     "text": [
      "User: 22\n"
     ]
    },
    {
     "name": "stderr",
     "output_type": "stream",
     "text": [
      "100%|███████████████████████████████████████████████████████████████████████| 167543/167543 [00:03<00:00, 42377.49it/s]\n",
      "100%|███████████████████████████████████████████████████████████████████████| 167527/167527 [00:03<00:00, 44472.84it/s]\n",
      "100%|███████████████████████████████████████████████████████████████████████████████| 20/20 [00:00<00:00, 20145.55it/s]\n"
     ]
    },
    {
     "name": "stdout",
     "output_type": "stream",
     "text": [
      "User: 23\n"
     ]
    },
    {
     "name": "stderr",
     "output_type": "stream",
     "text": [
      "100%|███████████████████████████████████████████████████████████████████████| 167542/167542 [00:03<00:00, 43227.49it/s]\n",
      "100%|███████████████████████████████████████████████████████████████████████| 167543/167543 [00:03<00:00, 44949.18it/s]\n",
      "100%|███████████████████████████████████████████████████████████████████████| 167543/167543 [00:03<00:00, 45193.49it/s]\n",
      "100%|███████████████████████████████████████████████████████████████████████████████| 30/30 [00:00<00:00, 29995.02it/s]\n"
     ]
    },
    {
     "name": "stdout",
     "output_type": "stream",
     "text": [
      "User: 24\n"
     ]
    },
    {
     "name": "stderr",
     "output_type": "stream",
     "text": [
      "100%|███████████████████████████████████████████████████████████████████████| 167543/167543 [00:03<00:00, 44442.10it/s]\n",
      "100%|███████████████████████████████████████████████████████████████████████████████| 10/10 [00:00<00:00, 10029.42it/s]\n"
     ]
    },
    {
     "name": "stdout",
     "output_type": "stream",
     "text": [
      "User: 25\n"
     ]
    },
    {
     "name": "stderr",
     "output_type": "stream",
     "text": [
      "100%|███████████████████████████████████████████████████████████████████████| 167518/167518 [00:04<00:00, 41171.78it/s]\n",
      "100%|███████████████████████████████████████████████████████████████████████| 167543/167543 [00:03<00:00, 42454.15it/s]\n",
      "100%|███████████████████████████████████████████████████████████████████████| 167543/167543 [00:03<00:00, 44037.88it/s]\n",
      "100%|███████████████████████████████████████████████████████████████████████████████| 30/30 [00:00<00:00, 30016.49it/s]\n"
     ]
    },
    {
     "name": "stdout",
     "output_type": "stream",
     "text": [
      "User: 26\n"
     ]
    },
    {
     "name": "stderr",
     "output_type": "stream",
     "text": [
      "100%|███████████████████████████████████████████████████████████████████████| 167543/167543 [00:03<00:00, 44806.49it/s]\n",
      "100%|███████████████████████████████████████████████████████████████████████| 167543/167543 [00:03<00:00, 42712.00it/s]\n",
      "100%|███████████████████████████████████████████████████████████████████████| 167542/167542 [00:03<00:00, 43543.54it/s]\n",
      "100%|███████████████████████████████████████████████████████████████████████████████| 30/30 [00:00<00:00, 15033.35it/s]\n"
     ]
    },
    {
     "name": "stdout",
     "output_type": "stream",
     "text": [
      "User: 27\n"
     ]
    },
    {
     "name": "stderr",
     "output_type": "stream",
     "text": [
      "100%|███████████████████████████████████████████████████████████████████████| 167543/167543 [00:03<00:00, 43544.44it/s]\n",
      "100%|███████████████████████████████████████████████████████████████████████████████| 10/10 [00:00<00:00, 10022.23it/s]\n"
     ]
    },
    {
     "name": "stdout",
     "output_type": "stream",
     "text": [
      "User: 28\n"
     ]
    },
    {
     "name": "stderr",
     "output_type": "stream",
     "text": [
      "100%|███████████████████████████████████████████████████████████████████████| 167542/167542 [00:03<00:00, 43846.93it/s]\n",
      "100%|███████████████████████████████████████████████████████████████████████| 167541/167541 [00:03<00:00, 43741.88it/s]\n",
      "100%|███████████████████████████████████████████████████████████████████████████████| 20/20 [00:00<00:00, 20044.46it/s]\n"
     ]
    },
    {
     "name": "stdout",
     "output_type": "stream",
     "text": [
      "User: 29\n"
     ]
    },
    {
     "name": "stderr",
     "output_type": "stream",
     "text": [
      "100%|███████████████████████████████████████████████████████████████████████| 167543/167543 [00:03<00:00, 44642.44it/s]\n",
      "100%|██████████████████████████████████████████████████████████████████████████████████████████| 10/10 [00:00<?, ?it/s]\n"
     ]
    },
    {
     "name": "stdout",
     "output_type": "stream",
     "text": [
      "User: 30\n"
     ]
    },
    {
     "name": "stderr",
     "output_type": "stream",
     "text": [
      "100%|███████████████████████████████████████████████████████████████████████| 167543/167543 [00:03<00:00, 44588.65it/s]\n",
      "100%|███████████████████████████████████████████████████████████████████████| 167542/167542 [00:03<00:00, 44339.60it/s]\n",
      "100%|███████████████████████████████████████████████████████████████████████████████| 20/20 [00:00<00:00, 20039.68it/s]\n"
     ]
    },
    {
     "name": "stdout",
     "output_type": "stream",
     "text": [
      "User: 31\n"
     ]
    },
    {
     "name": "stderr",
     "output_type": "stream",
     "text": [
      "100%|███████████████████████████████████████████████████████████████████████| 167543/167543 [00:03<00:00, 44214.71it/s]\n",
      "100%|███████████████████████████████████████████████████████████████████████| 167543/167543 [00:03<00:00, 44394.26it/s]\n",
      "100%|███████████████████████████████████████████████████████████████████████████████| 20/20 [00:00<00:00, 19608.71it/s]\n"
     ]
    },
    {
     "name": "stdout",
     "output_type": "stream",
     "text": [
      "User: 32\n"
     ]
    },
    {
     "name": "stderr",
     "output_type": "stream",
     "text": [
      "100%|███████████████████████████████████████████████████████████████████████| 167543/167543 [00:03<00:00, 44157.75it/s]\n",
      "100%|███████████████████████████████████████████████████████████████████████████████| 10/10 [00:00<00:00, 10272.60it/s]\n"
     ]
    },
    {
     "name": "stdout",
     "output_type": "stream",
     "text": [
      "User: 33\n"
     ]
    },
    {
     "name": "stderr",
     "output_type": "stream",
     "text": [
      "100%|███████████████████████████████████████████████████████████████████████| 167543/167543 [00:03<00:00, 44246.93it/s]\n",
      "100%|██████████████████████████████████████████████████████████████████████████████████████████| 10/10 [00:00<?, ?it/s]\n"
     ]
    },
    {
     "name": "stdout",
     "output_type": "stream",
     "text": [
      "User: 34\n"
     ]
    },
    {
     "name": "stderr",
     "output_type": "stream",
     "text": [
      "100%|███████████████████████████████████████████████████████████████████████| 167541/167541 [00:03<00:00, 44168.15it/s]\n",
      "100%|██████████████████████████████████████████████████████████████████████████████████████████| 10/10 [00:00<?, ?it/s]\n"
     ]
    },
    {
     "name": "stdout",
     "output_type": "stream",
     "text": [
      "User: 35\n"
     ]
    },
    {
     "name": "stderr",
     "output_type": "stream",
     "text": [
      "100%|███████████████████████████████████████████████████████████████████████| 167543/167543 [00:03<00:00, 43959.59it/s]\n",
      "100%|███████████████████████████████████████████████████████████████████████| 167543/167543 [00:03<00:00, 44493.43it/s]\n",
      "100%|███████████████████████████████████████████████████████████████████████| 167536/167536 [00:03<00:00, 44187.26it/s]\n",
      "100%|███████████████████████████████████████████████████████████████████████████████| 30/30 [00:00<00:00, 29544.29it/s]\n"
     ]
    },
    {
     "name": "stdout",
     "output_type": "stream",
     "text": [
      "User: 36\n"
     ]
    },
    {
     "name": "stderr",
     "output_type": "stream",
     "text": [
      "100%|███████████████████████████████████████████████████████████████████████| 167541/167541 [00:03<00:00, 44242.16it/s]\n",
      "100%|███████████████████████████████████████████████████████████████████████████████| 10/10 [00:00<00:00, 10027.02it/s]\n"
     ]
    },
    {
     "name": "stdout",
     "output_type": "stream",
     "text": [
      "User: 37\n"
     ]
    },
    {
     "name": "stderr",
     "output_type": "stream",
     "text": [
      "100%|███████████████████████████████████████████████████████████████████████| 167543/167543 [00:03<00:00, 44130.56it/s]\n",
      "100%|███████████████████████████████████████████████████████████████████████| 167543/167543 [00:03<00:00, 43578.15it/s]\n",
      "100%|███████████████████████████████████████████████████████████████████████████████| 20/20 [00:00<00:00, 19427.07it/s]\n"
     ]
    },
    {
     "name": "stdout",
     "output_type": "stream",
     "text": [
      "User: 38\n"
     ]
    },
    {
     "name": "stderr",
     "output_type": "stream",
     "text": [
      "100%|███████████████████████████████████████████████████████████████████████| 167543/167543 [00:03<00:00, 43824.90it/s]\n",
      "100%|███████████████████████████████████████████████████████████████████████| 167543/167543 [00:03<00:00, 44158.79it/s]\n",
      "100%|███████████████████████████████████████████████████████████████████████| 167543/167543 [00:03<00:00, 44010.71it/s]\n",
      "100%|███████████████████████████████████████████████████████████████████████████████| 30/30 [00:00<00:00, 30081.07it/s]\n"
     ]
    },
    {
     "name": "stdout",
     "output_type": "stream",
     "text": [
      "User: 39\n"
     ]
    },
    {
     "name": "stderr",
     "output_type": "stream",
     "text": [
      "100%|███████████████████████████████████████████████████████████████████████| 167543/167543 [00:03<00:00, 44103.94it/s]\n",
      "100%|██████████████████████████████████████████████████████████████████████████████████████████| 10/10 [00:00<?, ?it/s]\n"
     ]
    },
    {
     "name": "stdout",
     "output_type": "stream",
     "text": [
      "User: 40\n"
     ]
    },
    {
     "name": "stderr",
     "output_type": "stream",
     "text": [
      "100%|███████████████████████████████████████████████████████████████████████| 167543/167543 [00:03<00:00, 43796.06it/s]\n",
      "100%|███████████████████████████████████████████████████████████████████████| 167543/167543 [00:03<00:00, 43729.42it/s]\n",
      "100%|███████████████████████████████████████████████████████████████████████| 167543/167543 [00:03<00:00, 43989.67it/s]\n",
      "100%|███████████████████████████████████████████████████████████████████████████████| 30/30 [00:00<00:00, 30045.16it/s]\n"
     ]
    },
    {
     "name": "stdout",
     "output_type": "stream",
     "text": [
      "User: 41\n"
     ]
    },
    {
     "name": "stderr",
     "output_type": "stream",
     "text": [
      "100%|███████████████████████████████████████████████████████████████████████| 167540/167540 [00:03<00:00, 44592.26it/s]\n",
      "100%|███████████████████████████████████████████████████████████████████████| 167543/167543 [00:03<00:00, 43548.31it/s]\n",
      "100%|███████████████████████████████████████████████████████████████████████| 167543/167543 [00:03<00:00, 44503.38it/s]\n",
      "100%|███████████████████████████████████████████████████████████████████████████████| 30/30 [00:00<00:00, 30081.07it/s]\n"
     ]
    },
    {
     "name": "stdout",
     "output_type": "stream",
     "text": [
      "User: 42\n"
     ]
    },
    {
     "name": "stderr",
     "output_type": "stream",
     "text": [
      "100%|███████████████████████████████████████████████████████████████████████| 167496/167496 [00:03<00:00, 43409.92it/s]\n",
      "100%|███████████████████████████████████████████████████████████████████████████████| 10/10 [00:00<00:00, 10024.63it/s]\n"
     ]
    },
    {
     "name": "stdout",
     "output_type": "stream",
     "text": [
      "User: 43\n"
     ]
    },
    {
     "name": "stderr",
     "output_type": "stream",
     "text": [
      "100%|███████████████████████████████████████████████████████████████████████| 167543/167543 [00:03<00:00, 43496.22it/s]\n",
      "100%|███████████████████████████████████████████████████████████████████████| 167541/167541 [00:03<00:00, 44022.46it/s]\n",
      "100%|███████████████████████████████████████████████████████████████████████| 167543/167543 [00:03<00:00, 43541.56it/s]\n",
      "100%|███████████████████████████████████████████████████████████████████████████████| 30/30 [00:00<00:00, 30016.49it/s]\n"
     ]
    },
    {
     "name": "stdout",
     "output_type": "stream",
     "text": [
      "User: 44\n"
     ]
    },
    {
     "name": "stderr",
     "output_type": "stream",
     "text": [
      "100%|███████████████████████████████████████████████████████████████████████| 167543/167543 [00:03<00:00, 44106.54it/s]\n",
      "100%|███████████████████████████████████████████████████████████████████████| 167543/167543 [00:03<00:00, 44052.23it/s]\n",
      "100%|███████████████████████████████████████████████████████████████████████| 167543/167543 [00:03<00:00, 43627.45it/s]\n",
      "100%|███████████████████████████████████████████████████████████████████████████████| 30/30 [00:00<00:00, 29495.81it/s]\n"
     ]
    },
    {
     "name": "stdout",
     "output_type": "stream",
     "text": [
      "User: 45\n"
     ]
    },
    {
     "name": "stderr",
     "output_type": "stream",
     "text": [
      "100%|███████████████████████████████████████████████████████████████████████| 167542/167542 [00:03<00:00, 42909.65it/s]\n",
      "100%|██████████████████████████████████████████████████████████████████████████████████████████| 10/10 [00:00<?, ?it/s]\n"
     ]
    },
    {
     "name": "stdout",
     "output_type": "stream",
     "text": [
      "User: 46\n"
     ]
    },
    {
     "name": "stderr",
     "output_type": "stream",
     "text": [
      "100%|███████████████████████████████████████████████████████████████████████| 167543/167543 [00:03<00:00, 43679.08it/s]\n",
      "100%|███████████████████████████████████████████████████████████████████████| 167540/167540 [00:03<00:00, 44344.36it/s]\n",
      "100%|███████████████████████████████████████████████████████████████████████| 167542/167542 [00:03<00:00, 44530.06it/s]\n",
      "100%|███████████████████████████████████████████████████████████████████████████████| 30/30 [00:00<00:00, 30059.51it/s]\n"
     ]
    },
    {
     "name": "stdout",
     "output_type": "stream",
     "text": [
      "User: 47\n"
     ]
    },
    {
     "name": "stderr",
     "output_type": "stream",
     "text": [
      "100%|███████████████████████████████████████████████████████████████████████| 167543/167543 [00:03<00:00, 44706.76it/s]\n",
      "100%|███████████████████████████████████████████████████████████████████████| 167543/167543 [00:03<00:00, 44380.01it/s]\n",
      "100%|██████████████████████████████████████████████████████████████████████████████████████████| 20/20 [00:00<?, ?it/s]\n"
     ]
    },
    {
     "name": "stdout",
     "output_type": "stream",
     "text": [
      "User: 48\n"
     ]
    },
    {
     "name": "stderr",
     "output_type": "stream",
     "text": [
      "100%|███████████████████████████████████████████████████████████████████████| 167542/167542 [00:03<00:00, 44182.93it/s]\n",
      "100%|███████████████████████████████████████████████████████████████████████| 167543/167543 [00:03<00:00, 43579.74it/s]\n",
      "100%|███████████████████████████████████████████████████████████████████████████████| 20/20 [00:00<00:00, 20058.84it/s]\n"
     ]
    },
    {
     "name": "stdout",
     "output_type": "stream",
     "text": [
      "User: 49\n"
     ]
    },
    {
     "name": "stderr",
     "output_type": "stream",
     "text": [
      "100%|███████████████████████████████████████████████████████████████████████| 167543/167543 [00:03<00:00, 43823.27it/s]\n",
      "100%|███████████████████████████████████████████████████████████████████████| 167529/167529 [00:03<00:00, 44318.44it/s]\n",
      "100%|███████████████████████████████████████████████████████████████████████| 167543/167543 [00:03<00:00, 44289.48it/s]\n",
      "100%|███████████████████████████████████████████████████████████████████████████████| 30/30 [00:00<00:00, 30095.46it/s]\n"
     ]
    },
    {
     "name": "stdout",
     "output_type": "stream",
     "text": [
      "User: 50\n"
     ]
    },
    {
     "name": "stderr",
     "output_type": "stream",
     "text": [
      "100%|███████████████████████████████████████████████████████████████████████| 167543/167543 [00:03<00:00, 44473.16it/s]\n",
      "100%|███████████████████████████████████████████████████████████████████████| 167543/167543 [00:03<00:00, 44259.75it/s]\n",
      "100%|███████████████████████████████████████████████████████████████████████████████| 20/20 [00:00<00:00, 20058.84it/s]\n"
     ]
    },
    {
     "name": "stdout",
     "output_type": "stream",
     "text": [
      "User: 51\n"
     ]
    },
    {
     "name": "stderr",
     "output_type": "stream",
     "text": [
      "100%|███████████████████████████████████████████████████████████████████████| 167543/167543 [00:03<00:00, 44340.69it/s]\n",
      "100%|███████████████████████████████████████████████████████████████████████| 167543/167543 [00:03<00:00, 44121.41it/s]\n",
      "100%|███████████████████████████████████████████████████████████████████████| 167543/167543 [00:03<00:00, 43997.78it/s]\n",
      "100%|███████████████████████████████████████████████████████████████████████████████| 30/30 [00:00<00:00, 29419.95it/s]\n"
     ]
    },
    {
     "name": "stdout",
     "output_type": "stream",
     "text": [
      "User: 52\n"
     ]
    },
    {
     "name": "stderr",
     "output_type": "stream",
     "text": [
      "100%|███████████████████████████████████████████████████████████████████████| 167543/167543 [00:03<00:00, 43854.19it/s]\n",
      "100%|██████████████████████████████████████████████████████████████████████████████████████████| 10/10 [00:00<?, ?it/s]\n"
     ]
    },
    {
     "name": "stdout",
     "output_type": "stream",
     "text": [
      "User: 53\n"
     ]
    },
    {
     "name": "stderr",
     "output_type": "stream",
     "text": [
      "100%|███████████████████████████████████████████████████████████████████████| 167543/167543 [00:03<00:00, 43386.60it/s]\n",
      "100%|██████████████████████████████████████████████████████████████████████████████████████████| 10/10 [00:00<?, ?it/s]\n"
     ]
    },
    {
     "name": "stdout",
     "output_type": "stream",
     "text": [
      "User: 54\n"
     ]
    },
    {
     "name": "stderr",
     "output_type": "stream",
     "text": [
      "100%|███████████████████████████████████████████████████████████████████████| 167543/167543 [00:03<00:00, 43846.21it/s]\n",
      "100%|███████████████████████████████████████████████████████████████████████| 167543/167543 [00:03<00:00, 43641.21it/s]\n",
      "100%|███████████████████████████████████████████████████████████████████████████████| 20/20 [00:00<00:00, 19659.26it/s]\n"
     ]
    },
    {
     "name": "stdout",
     "output_type": "stream",
     "text": [
      "User: 55\n"
     ]
    },
    {
     "name": "stderr",
     "output_type": "stream",
     "text": [
      "100%|███████████████████████████████████████████████████████████████████████| 167543/167543 [00:03<00:00, 43807.84it/s]\n",
      "100%|███████████████████████████████████████████████████████████████████████████████| 10/10 [00:00<00:00, 10245.00it/s]\n"
     ]
    },
    {
     "name": "stdout",
     "output_type": "stream",
     "text": [
      "User: 56\n"
     ]
    },
    {
     "name": "stderr",
     "output_type": "stream",
     "text": [
      "100%|███████████████████████████████████████████████████████████████████████| 167543/167543 [00:03<00:00, 43983.58it/s]\n",
      "100%|███████████████████████████████████████████████████████████████████████| 167542/167542 [00:03<00:00, 44002.06it/s]\n",
      "100%|██████████████████████████████████████████████████████████████████████████████████████████| 20/20 [00:00<?, ?it/s]\n"
     ]
    },
    {
     "name": "stdout",
     "output_type": "stream",
     "text": [
      "User: 57\n"
     ]
    },
    {
     "name": "stderr",
     "output_type": "stream",
     "text": [
      "100%|███████████████████████████████████████████████████████████████████████| 167543/167543 [00:03<00:00, 44272.07it/s]\n",
      "100%|███████████████████████████████████████████████████████████████████████████████| 10/10 [00:00<00:00, 10015.05it/s]\n"
     ]
    },
    {
     "name": "stdout",
     "output_type": "stream",
     "text": [
      "User: 58\n"
     ]
    },
    {
     "name": "stderr",
     "output_type": "stream",
     "text": [
      "100%|███████████████████████████████████████████████████████████████████████| 167543/167543 [00:03<00:00, 44131.87it/s]\n",
      "100%|███████████████████████████████████████████████████████████████████████| 167542/167542 [00:03<00:00, 44043.26it/s]\n",
      "100%|███████████████████████████████████████████████████████████████████████████████| 20/20 [00:00<00:00, 20058.84it/s]\n"
     ]
    },
    {
     "name": "stdout",
     "output_type": "stream",
     "text": [
      "User: 59\n"
     ]
    },
    {
     "name": "stderr",
     "output_type": "stream",
     "text": [
      "100%|███████████████████████████████████████████████████████████████████████| 167543/167543 [00:03<00:00, 44121.73it/s]\n",
      "100%|██████████████████████████████████████████████████████████████████████████████████████████| 10/10 [00:00<?, ?it/s]\n"
     ]
    },
    {
     "name": "stdout",
     "output_type": "stream",
     "text": [
      "User: 60\n"
     ]
    },
    {
     "name": "stderr",
     "output_type": "stream",
     "text": [
      "100%|███████████████████████████████████████████████████████████████████████| 167539/167539 [00:03<00:00, 44722.15it/s]\n",
      "100%|███████████████████████████████████████████████████████████████████████████████| 10/10 [00:00<00:00, 10084.89it/s]\n"
     ]
    },
    {
     "name": "stdout",
     "output_type": "stream",
     "text": [
      "User: 61\n"
     ]
    },
    {
     "name": "stderr",
     "output_type": "stream",
     "text": [
      "100%|███████████████████████████████████████████████████████████████████████| 167543/167543 [00:03<00:00, 44512.45it/s]\n",
      "100%|███████████████████████████████████████████████████████████████████████| 167543/167543 [00:03<00:00, 44403.17it/s]\n",
      "100%|███████████████████████████████████████████████████████████████████████████████| 20/20 [00:00<00:00, 20525.10it/s]\n"
     ]
    },
    {
     "name": "stdout",
     "output_type": "stream",
     "text": [
      "User: 62\n"
     ]
    },
    {
     "name": "stderr",
     "output_type": "stream",
     "text": [
      "100%|███████████████████████████████████████████████████████████████████████| 167543/167543 [00:03<00:00, 44324.29it/s]\n",
      "100%|███████████████████████████████████████████████████████████████████████| 167543/167543 [00:03<00:00, 44205.46it/s]\n",
      "100%|███████████████████████████████████████████████████████████████████████| 167543/167543 [00:03<00:00, 44074.79it/s]\n",
      "100%|███████████████████████████████████████████████████████████████████████████████| 30/30 [00:00<00:00, 29502.72it/s]\n"
     ]
    },
    {
     "name": "stdout",
     "output_type": "stream",
     "text": [
      "User: 63\n"
     ]
    },
    {
     "name": "stderr",
     "output_type": "stream",
     "text": [
      "100%|███████████████████████████████████████████████████████████████████████| 167543/167543 [00:03<00:00, 44388.19it/s]\n",
      "100%|███████████████████████████████████████████████████████████████████████| 167542/167542 [00:03<00:00, 44384.78it/s]\n",
      "100%|███████████████████████████████████████████████████████████████████████| 167542/167542 [00:03<00:00, 43995.61it/s]\n",
      "100%|███████████████████████████████████████████████████████████████████████████████| 30/30 [00:00<00:00, 30102.66it/s]\n"
     ]
    },
    {
     "name": "stdout",
     "output_type": "stream",
     "text": [
      "User: 64\n"
     ]
    },
    {
     "name": "stderr",
     "output_type": "stream",
     "text": [
      "100%|███████████████████████████████████████████████████████████████████████| 167543/167543 [00:03<00:00, 44136.25it/s]\n",
      "100%|███████████████████████████████████████████████████████████████████████████████| 10/10 [00:00<00:00, 10024.63it/s]\n"
     ]
    },
    {
     "name": "stdout",
     "output_type": "stream",
     "text": [
      "User: 65\n"
     ]
    },
    {
     "name": "stderr",
     "output_type": "stream",
     "text": [
      "100%|███████████████████████████████████████████████████████████████████████| 167543/167543 [00:03<00:00, 44004.77it/s]\n",
      "100%|███████████████████████████████████████████████████████████████████████| 167543/167543 [00:03<00:00, 44176.79it/s]\n",
      "100%|███████████████████████████████████████████████████████████████████████████████| 20/20 [00:00<00:00, 19613.30it/s]\n"
     ]
    },
    {
     "name": "stdout",
     "output_type": "stream",
     "text": [
      "User: 66\n"
     ]
    },
    {
     "name": "stderr",
     "output_type": "stream",
     "text": [
      "100%|███████████████████████████████████████████████████████████████████████| 167543/167543 [00:03<00:00, 44482.02it/s]\n",
      "100%|███████████████████████████████████████████████████████████████████████████████| 10/10 [00:00<00:00, 10240.00it/s]\n"
     ]
    },
    {
     "name": "stdout",
     "output_type": "stream",
     "text": [
      "User: 67\n"
     ]
    },
    {
     "name": "stderr",
     "output_type": "stream",
     "text": [
      "100%|███████████████████████████████████████████████████████████████████████| 167543/167543 [00:03<00:00, 44324.60it/s]\n",
      "100%|███████████████████████████████████████████████████████████████████████████████| 10/10 [00:00<00:00, 10012.66it/s]\n"
     ]
    },
    {
     "name": "stdout",
     "output_type": "stream",
     "text": [
      "User: 68\n"
     ]
    },
    {
     "name": "stderr",
     "output_type": "stream",
     "text": [
      "100%|███████████████████████████████████████████████████████████████████████| 167543/167543 [00:03<00:00, 44086.18it/s]\n",
      "100%|███████████████████████████████████████████████████████████████████████| 167543/167543 [00:03<00:00, 43950.99it/s]\n",
      "100%|███████████████████████████████████████████████████████████████████████| 167543/167543 [00:03<00:00, 44128.19it/s]\n",
      "100%|███████████████████████████████████████████████████████████████████████████████| 30/30 [00:00<00:00, 30059.51it/s]\n"
     ]
    },
    {
     "name": "stdout",
     "output_type": "stream",
     "text": [
      "User: 69\n"
     ]
    },
    {
     "name": "stderr",
     "output_type": "stream",
     "text": [
      "100%|███████████████████████████████████████████████████████████████████████| 167543/167543 [00:03<00:00, 44376.64it/s]\n",
      "100%|███████████████████████████████████████████████████████████████████████| 167543/167543 [00:03<00:00, 44070.13it/s]\n",
      "100%|███████████████████████████████████████████████████████████████████████| 167543/167543 [00:03<00:00, 44141.03it/s]\n",
      "100%|███████████████████████████████████████████████████████████████████████████████| 30/30 [00:00<00:00, 17156.96it/s]\n"
     ]
    },
    {
     "name": "stdout",
     "output_type": "stream",
     "text": [
      "User: 70\n"
     ]
    },
    {
     "name": "stderr",
     "output_type": "stream",
     "text": [
      "100%|███████████████████████████████████████████████████████████████████████| 167529/167529 [00:03<00:00, 44177.76it/s]\n",
      "100%|███████████████████████████████████████████████████████████████████████| 167543/167543 [00:03<00:00, 44024.45it/s]\n",
      "100%|███████████████████████████████████████████████████████████████████████| 167543/167543 [00:03<00:00, 44053.01it/s]\n",
      "100%|███████████████████████████████████████████████████████████████████████████████| 30/30 [00:00<00:00, 29358.17it/s]\n"
     ]
    },
    {
     "name": "stdout",
     "output_type": "stream",
     "text": [
      "User: 71\n"
     ]
    },
    {
     "name": "stderr",
     "output_type": "stream",
     "text": [
      "100%|███████████████████████████████████████████████████████████████████████| 167543/167543 [00:03<00:00, 44137.05it/s]\n",
      "100%|███████████████████████████████████████████████████████████████████████| 167543/167543 [00:03<00:00, 44108.04it/s]\n",
      "100%|███████████████████████████████████████████████████████████████████████| 167543/167543 [00:03<00:00, 43788.84it/s]\n",
      "100%|███████████████████████████████████████████████████████████████████████████████| 30/30 [00:00<00:00, 30095.46it/s]\n"
     ]
    },
    {
     "name": "stdout",
     "output_type": "stream",
     "text": [
      "User: 72\n"
     ]
    },
    {
     "name": "stderr",
     "output_type": "stream",
     "text": [
      "100%|███████████████████████████████████████████████████████████████████████| 167543/167543 [00:03<00:00, 44155.15it/s]\n",
      "100%|███████████████████████████████████████████████████████████████████████| 167543/167543 [00:03<00:00, 43971.18it/s]\n",
      "100%|███████████████████████████████████████████████████████████████████████| 167543/167543 [00:03<00:00, 44338.96it/s]\n",
      "100%|███████████████████████████████████████████████████████████████████████████████| 30/30 [00:00<00:00, 30095.46it/s]\n"
     ]
    },
    {
     "name": "stdout",
     "output_type": "stream",
     "text": [
      "User: 73\n"
     ]
    },
    {
     "name": "stderr",
     "output_type": "stream",
     "text": [
      "100%|███████████████████████████████████████████████████████████████████████| 167531/167531 [00:03<00:00, 44129.81it/s]\n",
      "100%|███████████████████████████████████████████████████████████████████████| 167535/167535 [00:03<00:00, 43899.53it/s]\n",
      "100%|██████████████████████████████████████████████████████████████████████████████████████████| 20/20 [00:00<?, ?it/s]\n"
     ]
    },
    {
     "name": "stdout",
     "output_type": "stream",
     "text": [
      "User: 74\n"
     ]
    },
    {
     "name": "stderr",
     "output_type": "stream",
     "text": [
      "100%|███████████████████████████████████████████████████████████████████████| 167543/167543 [00:03<00:00, 44371.75it/s]\n",
      "100%|███████████████████████████████████████████████████████████████████████| 167542/167542 [00:03<00:00, 43993.83it/s]\n",
      "100%|██████████████████████████████████████████████████████████████████████████████████████████| 20/20 [00:00<?, ?it/s]\n"
     ]
    },
    {
     "name": "stdout",
     "output_type": "stream",
     "text": [
      "User: 75\n"
     ]
    },
    {
     "name": "stderr",
     "output_type": "stream",
     "text": [
      "100%|███████████████████████████████████████████████████████████████████████| 167541/167541 [00:03<00:00, 44476.88it/s]\n",
      "100%|███████████████████████████████████████████████████████████████████████████████| 10/10 [00:00<00:00, 10034.22it/s]\n"
     ]
    },
    {
     "name": "stdout",
     "output_type": "stream",
     "text": [
      "User: 76\n"
     ]
    },
    {
     "name": "stderr",
     "output_type": "stream",
     "text": [
      "100%|███████████████████████████████████████████████████████████████████████| 167541/167541 [00:03<00:00, 44153.52it/s]\n",
      "100%|███████████████████████████████████████████████████████████████████████| 167542/167542 [00:03<00:00, 44026.34it/s]\n",
      "100%|███████████████████████████████████████████████████████████████████████| 167543/167543 [00:03<00:00, 44157.24it/s]\n",
      "100%|███████████████████████████████████████████████████████████████████████████████| 30/30 [00:00<00:00, 29433.71it/s]\n"
     ]
    },
    {
     "name": "stdout",
     "output_type": "stream",
     "text": [
      "User: 77\n"
     ]
    },
    {
     "name": "stderr",
     "output_type": "stream",
     "text": [
      "100%|███████████████████████████████████████████████████████████████████████| 167540/167540 [00:03<00:00, 44324.62it/s]\n",
      "100%|███████████████████████████████████████████████████████████████████████| 167543/167543 [00:03<00:00, 43988.10it/s]\n",
      "100%|███████████████████████████████████████████████████████████████████████████████| 20/20 [00:00<00:00, 20054.05it/s]\n"
     ]
    },
    {
     "name": "stdout",
     "output_type": "stream",
     "text": [
      "User: 78\n"
     ]
    },
    {
     "name": "stderr",
     "output_type": "stream",
     "text": [
      "100%|███████████████████████████████████████████████████████████████████████| 167541/167541 [00:03<00:00, 44232.70it/s]\n",
      "100%|███████████████████████████████████████████████████████████████████████| 167541/167541 [00:03<00:00, 44065.18it/s]\n",
      "100%|███████████████████████████████████████████████████████████████████████| 167542/167542 [00:03<00:00, 43794.41it/s]\n",
      "100%|███████████████████████████████████████████████████████████████████████████████| 30/30 [00:00<00:00, 30088.26it/s]\n"
     ]
    },
    {
     "name": "stdout",
     "output_type": "stream",
     "text": [
      "User: 79\n"
     ]
    },
    {
     "name": "stderr",
     "output_type": "stream",
     "text": [
      "100%|███████████████████████████████████████████████████████████████████████| 167539/167539 [00:03<00:00, 44426.10it/s]\n",
      "100%|██████████████████████████████████████████████████████████████████████████████████████████| 10/10 [00:00<?, ?it/s]\n"
     ]
    },
    {
     "name": "stdout",
     "output_type": "stream",
     "text": [
      "User: 80\n"
     ]
    },
    {
     "name": "stderr",
     "output_type": "stream",
     "text": [
      "100%|███████████████████████████████████████████████████████████████████████| 167543/167543 [00:03<00:00, 44293.09it/s]\n",
      "100%|███████████████████████████████████████████████████████████████████████| 167527/167527 [00:03<00:00, 44158.00it/s]\n",
      "100%|███████████████████████████████████████████████████████████████████████| 167537/167537 [00:03<00:00, 43828.40it/s]\n",
      "100%|███████████████████████████████████████████████████████████████████████████████| 30/30 [00:00<00:00, 30073.88it/s]\n"
     ]
    },
    {
     "name": "stdout",
     "output_type": "stream",
     "text": [
      "User: 81\n"
     ]
    },
    {
     "name": "stderr",
     "output_type": "stream",
     "text": [
      "100%|███████████████████████████████████████████████████████████████████████| 167543/167543 [00:03<00:00, 43790.26it/s]\n",
      "100%|███████████████████████████████████████████████████████████████████████| 167543/167543 [00:03<00:00, 43796.98it/s]\n",
      "100%|███████████████████████████████████████████████████████████████████████| 167543/167543 [00:03<00:00, 44372.57it/s]\n",
      "100%|███████████████████████████████████████████████████████████████████████████████| 30/30 [00:00<00:00, 30727.50it/s]\n"
     ]
    },
    {
     "name": "stdout",
     "output_type": "stream",
     "text": [
      "User: 82\n"
     ]
    },
    {
     "name": "stderr",
     "output_type": "stream",
     "text": [
      "100%|███████████████████████████████████████████████████████████████████████| 167541/167541 [00:03<00:00, 43794.03it/s]\n",
      "100%|██████████████████████████████████████████████████████████████████████████████████████████| 10/10 [00:00<?, ?it/s]\n"
     ]
    },
    {
     "name": "stdout",
     "output_type": "stream",
     "text": [
      "User: 83\n"
     ]
    },
    {
     "name": "stderr",
     "output_type": "stream",
     "text": [
      "100%|███████████████████████████████████████████████████████████████████████| 167542/167542 [00:03<00:00, 43735.35it/s]\n",
      "100%|███████████████████████████████████████████████████████████████████████| 167542/167542 [00:03<00:00, 44003.79it/s]\n",
      "100%|███████████████████████████████████████████████████████████████████████████████| 20/20 [00:00<00:00, 20068.44it/s]\n"
     ]
    },
    {
     "name": "stdout",
     "output_type": "stream",
     "text": [
      "User: 84\n"
     ]
    },
    {
     "name": "stderr",
     "output_type": "stream",
     "text": [
      "100%|███████████████████████████████████████████████████████████████████████| 167543/167543 [00:03<00:00, 43897.47it/s]\n",
      "100%|███████████████████████████████████████████████████████████████████████| 167543/167543 [00:03<00:00, 43485.70it/s]\n",
      "100%|███████████████████████████████████████████████████████████████████████| 167543/167543 [00:03<00:00, 44335.98it/s]\n",
      "100%|███████████████████████████████████████████████████████████████████████████████| 30/30 [00:00<00:00, 30066.70it/s]\n"
     ]
    },
    {
     "name": "stdout",
     "output_type": "stream",
     "text": [
      "User: 85\n"
     ]
    },
    {
     "name": "stderr",
     "output_type": "stream",
     "text": [
      "100%|███████████████████████████████████████████████████████████████████████| 167542/167542 [00:03<00:00, 44503.53it/s]\n",
      "100%|██████████████████████████████████████████████████████████████████████████████████████████| 10/10 [00:00<?, ?it/s]\n"
     ]
    },
    {
     "name": "stdout",
     "output_type": "stream",
     "text": [
      "User: 86\n"
     ]
    },
    {
     "name": "stderr",
     "output_type": "stream",
     "text": [
      "100%|███████████████████████████████████████████████████████████████████████| 167543/167543 [00:03<00:00, 44731.45it/s]\n",
      "100%|███████████████████████████████████████████████████████████████████████| 167537/167537 [00:03<00:00, 44414.11it/s]\n",
      "100%|███████████████████████████████████████████████████████████████████████████████| 20/20 [00:00<00:00, 20063.64it/s]\n"
     ]
    },
    {
     "name": "stdout",
     "output_type": "stream",
     "text": [
      "User: 87\n"
     ]
    },
    {
     "name": "stderr",
     "output_type": "stream",
     "text": [
      "100%|███████████████████████████████████████████████████████████████████████| 167543/167543 [00:03<00:00, 44281.64it/s]\n",
      "100%|███████████████████████████████████████████████████████████████████████| 167543/167543 [00:03<00:00, 44292.56it/s]\n",
      "100%|███████████████████████████████████████████████████████████████████████| 167543/167543 [00:03<00:00, 44175.31it/s]\n",
      "100%|███████████████████████████████████████████████████████████████████████████████| 30/30 [00:00<00:00, 15036.94it/s]\n"
     ]
    },
    {
     "name": "stdout",
     "output_type": "stream",
     "text": [
      "User: 88\n"
     ]
    },
    {
     "name": "stderr",
     "output_type": "stream",
     "text": [
      "100%|███████████████████████████████████████████████████████████████████████| 167543/167543 [00:03<00:00, 44423.65it/s]\n",
      "100%|███████████████████████████████████████████████████████████████████████| 167543/167543 [00:03<00:00, 44156.54it/s]\n",
      "100%|███████████████████████████████████████████████████████████████████████████████| 20/20 [00:00<00:00, 19599.55it/s]\n"
     ]
    },
    {
     "name": "stdout",
     "output_type": "stream",
     "text": [
      "User: 89\n"
     ]
    },
    {
     "name": "stderr",
     "output_type": "stream",
     "text": [
      "100%|███████████████████████████████████████████████████████████████████████| 167543/167543 [00:03<00:00, 43718.16it/s]\n",
      "100%|███████████████████████████████████████████████████████████████████████| 167543/167543 [00:03<00:00, 44337.42it/s]\n",
      "100%|███████████████████████████████████████████████████████████████████████| 167543/167543 [00:03<00:00, 44192.10it/s]\n",
      "100%|███████████████████████████████████████████████████████████████████████████████| 30/30 [00:00<00:00, 30023.65it/s]\n"
     ]
    },
    {
     "name": "stdout",
     "output_type": "stream",
     "text": [
      "User: 90\n"
     ]
    },
    {
     "name": "stderr",
     "output_type": "stream",
     "text": [
      "100%|███████████████████████████████████████████████████████████████████████| 167539/167539 [00:03<00:00, 44058.21it/s]\n",
      "100%|███████████████████████████████████████████████████████████████████████| 167543/167543 [00:03<00:00, 42654.12it/s]\n",
      "100%|███████████████████████████████████████████████████████████████████████████████| 20/20 [00:00<00:00, 20054.05it/s]\n"
     ]
    },
    {
     "name": "stdout",
     "output_type": "stream",
     "text": [
      "User: 91\n"
     ]
    },
    {
     "name": "stderr",
     "output_type": "stream",
     "text": [
      "100%|███████████████████████████████████████████████████████████████████████| 167542/167542 [00:03<00:00, 42983.71it/s]\n",
      "100%|███████████████████████████████████████████████████████████████████████| 167543/167543 [00:03<00:00, 42998.10it/s]\n",
      "100%|███████████████████████████████████████████████████████████████████████████████| 20/20 [00:00<00:00, 19636.25it/s]\n"
     ]
    },
    {
     "name": "stdout",
     "output_type": "stream",
     "text": [
      "User: 92\n"
     ]
    },
    {
     "name": "stderr",
     "output_type": "stream",
     "text": [
      "100%|███████████████████████████████████████████████████████████████████████| 167543/167543 [00:03<00:00, 43798.30it/s]\n",
      "100%|███████████████████████████████████████████████████████████████████████| 167543/167543 [00:03<00:00, 45075.51it/s]\n",
      "100%|███████████████████████████████████████████████████████████████████████████████| 20/20 [00:00<00:00, 20025.32it/s]\n"
     ]
    },
    {
     "name": "stdout",
     "output_type": "stream",
     "text": [
      "User: 93\n"
     ]
    },
    {
     "name": "stderr",
     "output_type": "stream",
     "text": [
      "100%|███████████████████████████████████████████████████████████████████████| 167543/167543 [00:03<00:00, 44890.93it/s]\n",
      "100%|███████████████████████████████████████████████████████████████████████| 167543/167543 [00:03<00:00, 42968.31it/s]\n",
      "100%|███████████████████████████████████████████████████████████████████████| 167543/167543 [00:03<00:00, 44097.60it/s]\n",
      "100%|███████████████████████████████████████████████████████████████████████████████| 30/30 [00:00<00:00, 30481.86it/s]\n"
     ]
    },
    {
     "name": "stdout",
     "output_type": "stream",
     "text": [
      "User: 94\n"
     ]
    },
    {
     "name": "stderr",
     "output_type": "stream",
     "text": [
      "100%|███████████████████████████████████████████████████████████████████████| 167543/167543 [00:03<00:00, 44889.53it/s]\n",
      "100%|███████████████████████████████████████████████████████████████████████| 167543/167543 [00:03<00:00, 45171.27it/s]\n",
      "100%|███████████████████████████████████████████████████████████████████████| 167543/167543 [00:03<00:00, 44908.71it/s]\n",
      "100%|███████████████████████████████████████████████████████████████████████████████| 30/30 [00:00<00:00, 30088.26it/s]\n"
     ]
    },
    {
     "name": "stdout",
     "output_type": "stream",
     "text": [
      "User: 95\n"
     ]
    },
    {
     "name": "stderr",
     "output_type": "stream",
     "text": [
      "100%|███████████████████████████████████████████████████████████████████████| 167543/167543 [00:03<00:00, 45711.80it/s]\n",
      "100%|███████████████████████████████████████████████████████████████████████| 167543/167543 [00:03<00:00, 44860.92it/s]\n",
      "100%|███████████████████████████████████████████████████████████████████████| 167541/167541 [00:03<00:00, 44850.26it/s]\n",
      "100%|███████████████████████████████████████████████████████████████████████████████| 30/30 [00:00<00:00, 15127.33it/s]\n"
     ]
    },
    {
     "name": "stdout",
     "output_type": "stream",
     "text": [
      "User: 96\n"
     ]
    },
    {
     "name": "stderr",
     "output_type": "stream",
     "text": [
      "100%|███████████████████████████████████████████████████████████████████████| 167543/167543 [00:03<00:00, 45419.03it/s]\n",
      "100%|███████████████████████████████████████████████████████████████████████| 167543/167543 [00:03<00:00, 45588.03it/s]\n",
      "100%|███████████████████████████████████████████████████████████████████████████████| 20/20 [00:00<00:00, 19751.84it/s]\n"
     ]
    },
    {
     "name": "stdout",
     "output_type": "stream",
     "text": [
      "User: 97\n"
     ]
    },
    {
     "name": "stderr",
     "output_type": "stream",
     "text": [
      "100%|███████████████████████████████████████████████████████████████████████| 167543/167543 [00:03<00:00, 45490.80it/s]\n",
      "100%|██████████████████████████████████████████████████████████████████████████████████████████| 10/10 [00:00<?, ?it/s]\n"
     ]
    },
    {
     "name": "stdout",
     "output_type": "stream",
     "text": [
      "User: 98\n"
     ]
    },
    {
     "name": "stderr",
     "output_type": "stream",
     "text": [
      "100%|███████████████████████████████████████████████████████████████████████| 167543/167543 [00:03<00:00, 45202.77it/s]\n",
      "100%|██████████████████████████████████████████████████████████████████████████████████████████| 10/10 [00:00<?, ?it/s]\n"
     ]
    },
    {
     "name": "stdout",
     "output_type": "stream",
     "text": [
      "User: 99\n"
     ]
    },
    {
     "name": "stderr",
     "output_type": "stream",
     "text": [
      "100%|███████████████████████████████████████████████████████████████████████| 167529/167529 [00:03<00:00, 45232.63it/s]\n",
      "100%|███████████████████████████████████████████████████████████████████████████████| 10/10 [00:00<00:00, 10027.02it/s]\n"
     ]
    },
    {
     "name": "stdout",
     "output_type": "stream",
     "text": [
      "User: 100\n"
     ]
    },
    {
     "name": "stderr",
     "output_type": "stream",
     "text": [
      "100%|███████████████████████████████████████████████████████████████████████| 167542/167542 [00:03<00:00, 45573.64it/s]\n",
      "100%|███████████████████████████████████████████████████████████████████████| 167543/167543 [00:03<00:00, 44921.60it/s]\n",
      "100%|███████████████████████████████████████████████████████████████████████████████| 20/20 [00:00<00:00, 19585.82it/s]\n"
     ]
    },
    {
     "name": "stdout",
     "output_type": "stream",
     "text": [
      "User: 101\n"
     ]
    },
    {
     "name": "stderr",
     "output_type": "stream",
     "text": [
      "100%|███████████████████████████████████████████████████████████████████████| 167543/167543 [00:03<00:00, 45048.44it/s]\n",
      "100%|███████████████████████████████████████████████████████████████████████| 167543/167543 [00:03<00:00, 45090.67it/s]\n",
      "100%|███████████████████████████████████████████████████████████████████████████████| 20/20 [00:00<00:00, 20600.71it/s]\n"
     ]
    },
    {
     "name": "stdout",
     "output_type": "stream",
     "text": [
      "User: 102\n"
     ]
    },
    {
     "name": "stderr",
     "output_type": "stream",
     "text": [
      "100%|███████████████████████████████████████████████████████████████████████| 167543/167543 [00:03<00:00, 45119.24it/s]\n",
      "100%|██████████████████████████████████████████████████████████████████████████████████████████| 10/10 [00:00<?, ?it/s]\n"
     ]
    },
    {
     "name": "stdout",
     "output_type": "stream",
     "text": [
      "User: 103\n"
     ]
    },
    {
     "name": "stderr",
     "output_type": "stream",
     "text": [
      "100%|███████████████████████████████████████████████████████████████████████| 167543/167543 [00:03<00:00, 45306.63it/s]\n",
      "100%|███████████████████████████████████████████████████████████████████████| 167543/167543 [00:03<00:00, 45228.50it/s]\n",
      "100%|███████████████████████████████████████████████████████████████████████| 167543/167543 [00:03<00:00, 44872.74it/s]\n",
      "100%|███████████████████████████████████████████████████████████████████████████████| 30/30 [00:00<00:00, 30088.26it/s]\n"
     ]
    },
    {
     "name": "stdout",
     "output_type": "stream",
     "text": [
      "User: 104\n"
     ]
    },
    {
     "name": "stderr",
     "output_type": "stream",
     "text": [
      "100%|███████████████████████████████████████████████████████████████████████| 167543/167543 [00:03<00:00, 45208.85it/s]\n",
      "100%|████████████████████████████████████████████████████████████████████████████████| 10/10 [00:00<00:00, 9965.08it/s]\n"
     ]
    },
    {
     "name": "stdout",
     "output_type": "stream",
     "text": [
      "User: 105\n"
     ]
    },
    {
     "name": "stderr",
     "output_type": "stream",
     "text": [
      "100%|███████████████████████████████████████████████████████████████████████| 167533/167533 [00:03<00:00, 45219.70it/s]\n",
      "100%|███████████████████████████████████████████████████████████████████████| 167542/167542 [00:03<00:00, 43768.40it/s]\n",
      "100%|███████████████████████████████████████████████████████████████████████| 167541/167541 [00:03<00:00, 42958.65it/s]\n",
      "100%|███████████████████████████████████████████████████████████████████████████████| 30/30 [00:00<00:00, 30030.82it/s]\n"
     ]
    },
    {
     "name": "stdout",
     "output_type": "stream",
     "text": [
      "User: 106\n"
     ]
    },
    {
     "name": "stderr",
     "output_type": "stream",
     "text": [
      "100%|███████████████████████████████████████████████████████████████████████| 167543/167543 [00:03<00:00, 43909.13it/s]\n",
      "100%|████████████████████████████████████████████████████████████████████████████████| 10/10 [00:00<00:00, 9825.03it/s]\n"
     ]
    },
    {
     "name": "stdout",
     "output_type": "stream",
     "text": [
      "User: 107\n"
     ]
    },
    {
     "name": "stderr",
     "output_type": "stream",
     "text": [
      "100%|███████████████████████████████████████████████████████████████████████| 167543/167543 [00:03<00:00, 43491.65it/s]\n",
      "100%|███████████████████████████████████████████████████████████████████████| 167543/167543 [00:03<00:00, 44797.60it/s]\n",
      "100%|███████████████████████████████████████████████████████████████████████| 167543/167543 [00:03<00:00, 44734.89it/s]\n",
      "100%|███████████████████████████████████████████████████████████████████████████████| 30/30 [00:00<00:00, 29399.33it/s]\n"
     ]
    },
    {
     "name": "stdout",
     "output_type": "stream",
     "text": [
      "User: 108\n"
     ]
    },
    {
     "name": "stderr",
     "output_type": "stream",
     "text": [
      "100%|███████████████████████████████████████████████████████████████████████| 167543/167543 [00:03<00:00, 44958.01it/s]\n",
      "100%|███████████████████████████████████████████████████████████████████████| 167543/167543 [00:03<00:00, 45044.81it/s]\n",
      "100%|███████████████████████████████████████████████████████████████████████| 167543/167543 [00:03<00:00, 44650.38it/s]\n",
      "100%|███████████████████████████████████████████████████████████████████████████████| 30/30 [00:00<00:00, 30496.64it/s]\n"
     ]
    },
    {
     "name": "stdout",
     "output_type": "stream",
     "text": [
      "User: 109\n"
     ]
    },
    {
     "name": "stderr",
     "output_type": "stream",
     "text": [
      "100%|███████████████████████████████████████████████████████████████████████| 167543/167543 [00:03<00:00, 44643.80it/s]\n",
      "100%|███████████████████████████████████████████████████████████████████████| 167543/167543 [00:03<00:00, 44658.04it/s]\n",
      "100%|███████████████████████████████████████████████████████████████████████| 167543/167543 [00:03<00:00, 44910.61it/s]\n",
      "100%|███████████████████████████████████████████████████████████████████████████████| 30/30 [00:00<00:00, 30009.33it/s]\n"
     ]
    },
    {
     "name": "stdout",
     "output_type": "stream",
     "text": [
      "User: 110\n"
     ]
    },
    {
     "name": "stderr",
     "output_type": "stream",
     "text": [
      "100%|███████████████████████████████████████████████████████████████████████| 167543/167543 [00:03<00:00, 43857.11it/s]\n",
      "100%|███████████████████████████████████████████████████████████████████████| 167543/167543 [00:03<00:00, 44776.39it/s]\n",
      "100%|███████████████████████████████████████████████████████████████████████| 167531/167531 [00:03<00:00, 44119.17it/s]\n",
      "100%|███████████████████████████████████████████████████████████████████████████████| 30/30 [00:00<00:00, 30081.07it/s]\n"
     ]
    },
    {
     "name": "stdout",
     "output_type": "stream",
     "text": [
      "User: 111\n"
     ]
    },
    {
     "name": "stderr",
     "output_type": "stream",
     "text": [
      "100%|███████████████████████████████████████████████████████████████████████| 167543/167543 [00:03<00:00, 44609.44it/s]\n",
      "100%|███████████████████████████████████████████████████████████████████████████████| 10/10 [00:00<00:00, 10034.22it/s]\n"
     ]
    },
    {
     "name": "stdout",
     "output_type": "stream",
     "text": [
      "User: 112\n"
     ]
    },
    {
     "name": "stderr",
     "output_type": "stream",
     "text": [
      "100%|███████████████████████████████████████████████████████████████████████| 167543/167543 [00:03<00:00, 44399.04it/s]\n",
      "100%|███████████████████████████████████████████████████████████████████████████████| 10/10 [00:00<00:00, 10114.07it/s]\n"
     ]
    },
    {
     "name": "stdout",
     "output_type": "stream",
     "text": [
      "User: 113\n"
     ]
    },
    {
     "name": "stderr",
     "output_type": "stream",
     "text": [
      "100%|███████████████████████████████████████████████████████████████████████| 167543/167543 [00:03<00:00, 44802.07it/s]\n",
      "100%|███████████████████████████████████████████████████████████████████████| 167541/167541 [00:03<00:00, 44782.19it/s]\n",
      "100%|██████████████████████████████████████████████████████████████████████████████████████████| 20/20 [00:00<?, ?it/s]\n"
     ]
    },
    {
     "name": "stdout",
     "output_type": "stream",
     "text": [
      "User: 114\n"
     ]
    },
    {
     "name": "stderr",
     "output_type": "stream",
     "text": [
      "100%|███████████████████████████████████████████████████████████████████████| 167539/167539 [00:03<00:00, 44765.99it/s]\n",
      "100%|███████████████████████████████████████████████████████████████████████| 167543/167543 [00:03<00:00, 44765.71it/s]\n",
      "100%|███████████████████████████████████████████████████████████████████████████████| 20/20 [00:00<00:00, 20375.54it/s]\n"
     ]
    },
    {
     "name": "stdout",
     "output_type": "stream",
     "text": [
      "User: 115\n"
     ]
    },
    {
     "name": "stderr",
     "output_type": "stream",
     "text": [
      "100%|███████████████████████████████████████████████████████████████████████| 167543/167543 [00:03<00:00, 44762.32it/s]\n",
      "100%|███████████████████████████████████████████████████████████████████████████████| 10/10 [00:00<00:00, 10031.82it/s]\n"
     ]
    },
    {
     "name": "stdout",
     "output_type": "stream",
     "text": [
      "User: 116\n"
     ]
    },
    {
     "name": "stderr",
     "output_type": "stream",
     "text": [
      "100%|███████████████████████████████████████████████████████████████████████| 167543/167543 [00:03<00:00, 44898.78it/s]\n",
      "100%|███████████████████████████████████████████████████████████████████████| 167543/167543 [00:03<00:00, 44652.67it/s]\n",
      "100%|███████████████████████████████████████████████████████████████████████| 167543/167543 [00:03<00:00, 43713.83it/s]\n",
      "100%|███████████████████████████████████████████████████████████████████████████████| 30/30 [00:00<00:00, 30023.65it/s]\n"
     ]
    },
    {
     "name": "stdout",
     "output_type": "stream",
     "text": [
      "User: 117\n"
     ]
    },
    {
     "name": "stderr",
     "output_type": "stream",
     "text": [
      "100%|███████████████████████████████████████████████████████████████████████| 167543/167543 [00:03<00:00, 44343.00it/s]\n",
      "100%|███████████████████████████████████████████████████████████████████████████████| 10/10 [00:00<00:00, 10247.51it/s]\n"
     ]
    },
    {
     "name": "stdout",
     "output_type": "stream",
     "text": [
      "User: 118\n"
     ]
    },
    {
     "name": "stderr",
     "output_type": "stream",
     "text": [
      "100%|███████████████████████████████████████████████████████████████████████| 167543/167543 [00:03<00:00, 44275.80it/s]\n",
      "100%|███████████████████████████████████████████████████████████████████████| 167543/167543 [00:03<00:00, 44004.85it/s]\n",
      "100%|███████████████████████████████████████████████████████████████████████| 167543/167543 [00:03<00:00, 44323.22it/s]\n",
      "100%|███████████████████████████████████████████████████████████████████████████████| 30/30 [00:00<00:00, 30088.26it/s]\n"
     ]
    },
    {
     "name": "stdout",
     "output_type": "stream",
     "text": [
      "User: 119\n"
     ]
    },
    {
     "name": "stderr",
     "output_type": "stream",
     "text": [
      "100%|███████████████████████████████████████████████████████████████████████| 167543/167543 [00:03<00:00, 44290.71it/s]\n",
      "100%|███████████████████████████████████████████████████████████████████████| 167542/167542 [00:03<00:00, 44317.63it/s]\n",
      "100%|███████████████████████████████████████████████████████████████████████████████| 20/20 [00:00<00:00, 19627.07it/s]\n"
     ]
    },
    {
     "name": "stdout",
     "output_type": "stream",
     "text": [
      "User: 120\n"
     ]
    },
    {
     "name": "stderr",
     "output_type": "stream",
     "text": [
      "100%|███████████████████████████████████████████████████████████████████████| 167543/167543 [00:03<00:00, 43929.41it/s]\n",
      "100%|███████████████████████████████████████████████████████████████████████| 167542/167542 [00:03<00:00, 44335.32it/s]\n",
      "100%|███████████████████████████████████████████████████████████████████████████████| 20/20 [00:00<00:00, 20063.64it/s]\n"
     ]
    },
    {
     "name": "stdout",
     "output_type": "stream",
     "text": [
      "User: 121\n"
     ]
    },
    {
     "name": "stderr",
     "output_type": "stream",
     "text": [
      "100%|███████████████████████████████████████████████████████████████████████| 167543/167543 [00:03<00:00, 44217.52it/s]\n",
      "100%|███████████████████████████████████████████████████████████████████████| 167483/167483 [00:03<00:00, 44393.33it/s]\n",
      "100%|███████████████████████████████████████████████████████████████████████| 167543/167543 [00:03<00:00, 43768.63it/s]\n",
      "100%|███████████████████████████████████████████████████████████████████████████████| 30/30 [00:00<00:00, 29732.78it/s]\n"
     ]
    },
    {
     "name": "stdout",
     "output_type": "stream",
     "text": [
      "User: 122\n"
     ]
    },
    {
     "name": "stderr",
     "output_type": "stream",
     "text": [
      "100%|███████████████████████████████████████████████████████████████████████| 167543/167543 [00:03<00:00, 44841.17it/s]\n",
      "100%|██████████████████████████████████████████████████████████████████████████████████████████| 10/10 [00:00<?, ?it/s]\n"
     ]
    },
    {
     "name": "stdout",
     "output_type": "stream",
     "text": [
      "User: 123\n"
     ]
    },
    {
     "name": "stderr",
     "output_type": "stream",
     "text": [
      "100%|███████████████████████████████████████████████████████████████████████| 167543/167543 [00:03<00:00, 44364.15it/s]\n",
      "100%|███████████████████████████████████████████████████████████████████████| 167543/167543 [00:03<00:00, 44391.99it/s]\n",
      "100%|███████████████████████████████████████████████████████████████████████| 167543/167543 [00:03<00:00, 44272.39it/s]\n",
      "100%|███████████████████████████████████████████████████████████████████████████████| 30/30 [00:00<00:00, 15040.54it/s]\n"
     ]
    },
    {
     "name": "stdout",
     "output_type": "stream",
     "text": [
      "User: 124\n"
     ]
    },
    {
     "name": "stderr",
     "output_type": "stream",
     "text": [
      "100%|███████████████████████████████████████████████████████████████████████| 167543/167543 [00:03<00:00, 42380.83it/s]\n",
      "100%|██████████████████████████████████████████████████████████████████████████████████████████| 10/10 [00:00<?, ?it/s]\n"
     ]
    },
    {
     "name": "stdout",
     "output_type": "stream",
     "text": [
      "User: 125\n"
     ]
    },
    {
     "name": "stderr",
     "output_type": "stream",
     "text": [
      "100%|███████████████████████████████████████████████████████████████████████| 167543/167543 [00:03<00:00, 43652.11it/s]\n",
      "100%|███████████████████████████████████████████████████████████████████████| 167543/167543 [00:03<00:00, 44488.95it/s]\n",
      "100%|███████████████████████████████████████████████████████████████████████████████| 20/20 [00:00<00:00, 20039.68it/s]\n"
     ]
    },
    {
     "name": "stdout",
     "output_type": "stream",
     "text": [
      "User: 126\n"
     ]
    },
    {
     "name": "stderr",
     "output_type": "stream",
     "text": [
      "100%|███████████████████████████████████████████████████████████████████████| 167521/167521 [00:03<00:00, 44998.41it/s]\n",
      "100%|███████████████████████████████████████████████████████████████████████| 167542/167542 [00:03<00:00, 44399.62it/s]\n",
      "100%|███████████████████████████████████████████████████████████████████████████████| 20/20 [00:00<00:00, 20044.46it/s]\n"
     ]
    },
    {
     "name": "stdout",
     "output_type": "stream",
     "text": [
      "User: 127\n"
     ]
    },
    {
     "name": "stderr",
     "output_type": "stream",
     "text": [
      "100%|███████████████████████████████████████████████████████████████████████| 167543/167543 [00:03<00:00, 45394.31it/s]\n",
      "100%|███████████████████████████████████████████████████████████████████████████████| 10/10 [00:00<00:00, 10019.84it/s]\n"
     ]
    },
    {
     "name": "stdout",
     "output_type": "stream",
     "text": [
      "User: 128\n"
     ]
    },
    {
     "name": "stderr",
     "output_type": "stream",
     "text": [
      "100%|███████████████████████████████████████████████████████████████████████| 167528/167528 [00:03<00:00, 45154.22it/s]\n",
      "100%|███████████████████████████████████████████████████████████████████████| 167540/167540 [00:03<00:00, 45243.54it/s]\n",
      "100%|███████████████████████████████████████████████████████████████████████| 167543/167543 [00:03<00:00, 44680.16it/s]\n",
      "100%|███████████████████████████████████████████████████████████████████████████████| 30/30 [00:00<00:00, 29620.79it/s]\n"
     ]
    },
    {
     "name": "stdout",
     "output_type": "stream",
     "text": [
      "User: 129\n"
     ]
    },
    {
     "name": "stderr",
     "output_type": "stream",
     "text": [
      "100%|███████████████████████████████████████████████████████████████████████| 167543/167543 [00:04<00:00, 41607.58it/s]\n",
      "100%|███████████████████████████████████████████████████████████████████████████████| 10/10 [00:00<00:00, 10024.63it/s]\n"
     ]
    },
    {
     "name": "stdout",
     "output_type": "stream",
     "text": [
      "User: 130\n"
     ]
    },
    {
     "name": "stderr",
     "output_type": "stream",
     "text": [
      "100%|███████████████████████████████████████████████████████████████████████| 167543/167543 [00:03<00:00, 44263.17it/s]\n",
      "100%|███████████████████████████████████████████████████████████████████████| 167543/167543 [00:03<00:00, 43325.26it/s]\n",
      "100%|██████████████████████████████████████████████████████████████████████████████████████████| 20/20 [00:00<?, ?it/s]\n"
     ]
    },
    {
     "name": "stdout",
     "output_type": "stream",
     "text": [
      "User: 131\n"
     ]
    },
    {
     "name": "stderr",
     "output_type": "stream",
     "text": [
      "100%|███████████████████████████████████████████████████████████████████████| 167543/167543 [00:03<00:00, 43424.19it/s]\n",
      "100%|███████████████████████████████████████████████████████████████████████| 167543/167543 [00:03<00:00, 43070.44it/s]\n",
      "100%|██████████████████████████████████████████████████████████████████████████████████████████| 20/20 [00:00<?, ?it/s]\n"
     ]
    },
    {
     "name": "stdout",
     "output_type": "stream",
     "text": [
      "User: 132\n"
     ]
    },
    {
     "name": "stderr",
     "output_type": "stream",
     "text": [
      "100%|███████████████████████████████████████████████████████████████████████| 167541/167541 [00:03<00:00, 44962.83it/s]\n",
      "100%|███████████████████████████████████████████████████████████████████████| 167542/167542 [00:03<00:00, 43230.33it/s]\n",
      "100%|███████████████████████████████████████████████████████████████████████| 167541/167541 [00:03<00:00, 44665.09it/s]\n",
      "100%|██████████████████████████████████████████████████████████████████████████████████████████| 30/30 [00:00<?, ?it/s]\n"
     ]
    },
    {
     "name": "stdout",
     "output_type": "stream",
     "text": [
      "User: 133\n"
     ]
    },
    {
     "name": "stderr",
     "output_type": "stream",
     "text": [
      "100%|███████████████████████████████████████████████████████████████████████| 167543/167543 [00:03<00:00, 42104.93it/s]\n",
      "100%|███████████████████████████████████████████████████████████████████████| 167543/167543 [00:03<00:00, 44891.51it/s]\n",
      "100%|███████████████████████████████████████████████████████████████████████| 167543/167543 [00:03<00:00, 43049.76it/s]\n",
      "100%|███████████████████████████████████████████████████████████████████████████████| 30/30 [00:00<00:00, 30073.88it/s]\n"
     ]
    },
    {
     "name": "stdout",
     "output_type": "stream",
     "text": [
      "User: 134\n"
     ]
    },
    {
     "name": "stderr",
     "output_type": "stream",
     "text": [
      "100%|███████████████████████████████████████████████████████████████████████| 167539/167539 [00:03<00:00, 42762.48it/s]\n",
      "100%|███████████████████████████████████████████████████████████████████████| 167543/167543 [00:03<00:00, 42850.82it/s]\n",
      "100%|██████████████████████████████████████████████████████████████████████████████████████████| 20/20 [00:00<?, ?it/s]\n"
     ]
    },
    {
     "name": "stdout",
     "output_type": "stream",
     "text": [
      "User: 135\n"
     ]
    },
    {
     "name": "stderr",
     "output_type": "stream",
     "text": [
      "100%|███████████████████████████████████████████████████████████████████████| 167541/167541 [00:03<00:00, 43696.01it/s]\n",
      "100%|███████████████████████████████████████████████████████████████████████| 167543/167543 [00:03<00:00, 43643.55it/s]\n",
      "100%|██████████████████████████████████████████████████████████████████████████████████████████| 20/20 [00:00<?, ?it/s]\n"
     ]
    },
    {
     "name": "stdout",
     "output_type": "stream",
     "text": [
      "User: 136\n"
     ]
    },
    {
     "name": "stderr",
     "output_type": "stream",
     "text": [
      "100%|███████████████████████████████████████████████████████████████████████| 167543/167543 [00:04<00:00, 40961.98it/s]\n",
      "100%|███████████████████████████████████████████████████████████████████████| 167543/167543 [00:03<00:00, 43194.99it/s]\n",
      "100%|███████████████████████████████████████████████████████████████████████████████| 20/20 [00:00<00:00, 20058.84it/s]\n"
     ]
    },
    {
     "name": "stdout",
     "output_type": "stream",
     "text": [
      "User: 137\n"
     ]
    },
    {
     "name": "stderr",
     "output_type": "stream",
     "text": [
      "100%|███████████████████████████████████████████████████████████████████████| 167541/167541 [00:03<00:00, 43029.90it/s]\n",
      "100%|███████████████████████████████████████████████████████████████████████████████| 10/10 [00:00<00:00, 10335.89it/s]\n"
     ]
    },
    {
     "name": "stdout",
     "output_type": "stream",
     "text": [
      "User: 138\n"
     ]
    },
    {
     "name": "stderr",
     "output_type": "stream",
     "text": [
      "100%|███████████████████████████████████████████████████████████████████████| 167543/167543 [00:03<00:00, 42104.43it/s]\n",
      "100%|███████████████████████████████████████████████████████████████████████| 167543/167543 [00:03<00:00, 44080.25it/s]\n",
      "100%|███████████████████████████████████████████████████████████████████████| 167542/167542 [00:03<00:00, 44401.02it/s]\n",
      "100%|███████████████████████████████████████████████████████████████████████████████| 30/30 [00:00<00:00, 15013.62it/s]\n"
     ]
    },
    {
     "name": "stdout",
     "output_type": "stream",
     "text": [
      "User: 139\n"
     ]
    },
    {
     "name": "stderr",
     "output_type": "stream",
     "text": [
      "100%|███████████████████████████████████████████████████████████████████████| 167543/167543 [00:03<00:00, 43466.97it/s]\n",
      "100%|███████████████████████████████████████████████████████████████████████| 167542/167542 [00:03<00:00, 44053.99it/s]\n",
      "100%|███████████████████████████████████████████████████████████████████████████████| 20/20 [00:00<00:00, 20615.90it/s]\n"
     ]
    },
    {
     "name": "stdout",
     "output_type": "stream",
     "text": [
      "User: 140\n"
     ]
    },
    {
     "name": "stderr",
     "output_type": "stream",
     "text": [
      "100%|███████████████████████████████████████████████████████████████████████| 167543/167543 [00:03<00:00, 43184.30it/s]\n",
      "100%|███████████████████████████████████████████████████████████████████████| 167534/167534 [00:03<00:00, 43420.47it/s]\n",
      "100%|███████████████████████████████████████████████████████████████████████| 167541/167541 [00:03<00:00, 44983.64it/s]\n",
      "100%|██████████████████████████████████████████████████████████████████████████████████████████| 30/30 [00:00<?, ?it/s]\n"
     ]
    },
    {
     "name": "stdout",
     "output_type": "stream",
     "text": [
      "User: 141\n"
     ]
    },
    {
     "name": "stderr",
     "output_type": "stream",
     "text": [
      "100%|███████████████████████████████████████████████████████████████████████| 167543/167543 [00:03<00:00, 44217.14it/s]\n",
      "100%|███████████████████████████████████████████████████████████████████████| 167543/167543 [00:03<00:00, 44228.04it/s]\n",
      "100%|███████████████████████████████████████████████████████████████████████████████| 20/20 [00:00<00:00, 20262.34it/s]\n"
     ]
    },
    {
     "name": "stdout",
     "output_type": "stream",
     "text": [
      "User: 142\n"
     ]
    },
    {
     "name": "stderr",
     "output_type": "stream",
     "text": [
      "100%|███████████████████████████████████████████████████████████████████████| 167543/167543 [00:03<00:00, 44332.12it/s]\n",
      "100%|███████████████████████████████████████████████████████████████████████| 167540/167540 [00:03<00:00, 44002.92it/s]\n",
      "100%|███████████████████████████████████████████████████████████████████████| 167543/167543 [00:03<00:00, 44223.04it/s]\n",
      "100%|███████████████████████████████████████████████████████████████████████████████| 30/30 [00:00<00:00, 30109.86it/s]\n"
     ]
    },
    {
     "name": "stdout",
     "output_type": "stream",
     "text": [
      "User: 143\n"
     ]
    },
    {
     "name": "stderr",
     "output_type": "stream",
     "text": [
      "100%|███████████████████████████████████████████████████████████████████████| 167542/167542 [00:03<00:00, 43602.98it/s]\n",
      "100%|███████████████████████████████████████████████████████████████████████| 167543/167543 [00:03<00:00, 44051.18it/s]\n",
      "100%|███████████████████████████████████████████████████████████████████████████████| 20/20 [00:00<00:00, 20030.11it/s]\n"
     ]
    },
    {
     "name": "stdout",
     "output_type": "stream",
     "text": [
      "User: 144\n"
     ]
    },
    {
     "name": "stderr",
     "output_type": "stream",
     "text": [
      "100%|███████████████████████████████████████████████████████████████████████| 167543/167543 [00:03<00:00, 42419.73it/s]\n",
      "100%|███████████████████████████████████████████████████████████████████████| 167543/167543 [00:03<00:00, 44026.17it/s]\n",
      "100%|███████████████████████████████████████████████████████████████████████| 167543/167543 [00:03<00:00, 44194.99it/s]\n",
      "100%|███████████████████████████████████████████████████████████████████████████████| 30/30 [00:00<00:00, 30073.88it/s]\n"
     ]
    },
    {
     "name": "stdout",
     "output_type": "stream",
     "text": [
      "User: 145\n"
     ]
    },
    {
     "name": "stderr",
     "output_type": "stream",
     "text": [
      "100%|███████████████████████████████████████████████████████████████████████| 167543/167543 [00:03<00:00, 44087.25it/s]\n",
      "100%|███████████████████████████████████████████████████████████████████████| 167541/167541 [00:03<00:00, 43947.78it/s]\n",
      "100%|███████████████████████████████████████████████████████████████████████████████| 20/20 [00:00<00:00, 20054.05it/s]\n"
     ]
    },
    {
     "name": "stdout",
     "output_type": "stream",
     "text": [
      "User: 146\n"
     ]
    },
    {
     "name": "stderr",
     "output_type": "stream",
     "text": [
      "100%|███████████████████████████████████████████████████████████████████████| 167543/167543 [00:03<00:00, 44211.89it/s]\n",
      "100%|███████████████████████████████████████████████████████████████████████| 167539/167539 [00:03<00:00, 43903.41it/s]\n",
      "100%|███████████████████████████████████████████████████████████████████████| 167541/167541 [00:03<00:00, 44094.92it/s]\n",
      "100%|███████████████████████████████████████████████████████████████████████████████| 30/30 [00:00<00:00, 29995.02it/s]\n"
     ]
    },
    {
     "name": "stdout",
     "output_type": "stream",
     "text": [
      "User: 147\n"
     ]
    },
    {
     "name": "stderr",
     "output_type": "stream",
     "text": [
      "100%|███████████████████████████████████████████████████████████████████████| 167543/167543 [00:03<00:00, 43932.26it/s]\n",
      "100%|███████████████████████████████████████████████████████████████████████| 167543/167543 [00:03<00:00, 43237.38it/s]\n",
      "100%|██████████████████████████████████████████████████████████████████████████████████████████| 20/20 [00:00<?, ?it/s]\n"
     ]
    },
    {
     "name": "stdout",
     "output_type": "stream",
     "text": [
      "User: 148\n"
     ]
    },
    {
     "name": "stderr",
     "output_type": "stream",
     "text": [
      "100%|███████████████████████████████████████████████████████████████████████| 167543/167543 [00:03<00:00, 44674.70it/s]\n",
      "100%|███████████████████████████████████████████████████████████████████████| 167445/167445 [00:03<00:00, 44687.58it/s]\n",
      "100%|███████████████████████████████████████████████████████████████████████| 167543/167543 [00:03<00:00, 44517.95it/s]\n",
      "100%|███████████████████████████████████████████████████████████████████████████████| 30/30 [00:00<00:00, 30066.70it/s]\n"
     ]
    },
    {
     "name": "stdout",
     "output_type": "stream",
     "text": [
      "User: 149\n"
     ]
    },
    {
     "name": "stderr",
     "output_type": "stream",
     "text": [
      "100%|███████████████████████████████████████████████████████████████████████| 167537/167537 [00:03<00:00, 44200.60it/s]\n",
      "100%|██████████████████████████████████████████████████████████████████████████████████████████| 10/10 [00:00<?, ?it/s]\n"
     ]
    },
    {
     "name": "stdout",
     "output_type": "stream",
     "text": [
      "User: 150\n"
     ]
    },
    {
     "name": "stderr",
     "output_type": "stream",
     "text": [
      "100%|███████████████████████████████████████████████████████████████████████| 167541/167541 [00:03<00:00, 43735.96it/s]\n",
      "100%|███████████████████████████████████████████████████████████████████████| 167543/167543 [00:03<00:00, 43055.45it/s]\n",
      "100%|██████████████████████████████████████████████████████████████████████████████████████████| 20/20 [00:00<?, ?it/s]\n"
     ]
    },
    {
     "name": "stdout",
     "output_type": "stream",
     "text": [
      "User: 151\n"
     ]
    },
    {
     "name": "stderr",
     "output_type": "stream",
     "text": [
      "100%|███████████████████████████████████████████████████████████████████████| 167538/167538 [00:03<00:00, 42946.99it/s]\n",
      "100%|███████████████████████████████████████████████████████████████████████| 167524/167524 [00:03<00:00, 43783.87it/s]\n",
      "100%|███████████████████████████████████████████████████████████████████████| 167543/167543 [00:03<00:00, 43934.40it/s]\n",
      "100%|███████████████████████████████████████████████████████████████████████████████| 30/30 [00:00<00:00, 30073.88it/s]\n"
     ]
    },
    {
     "name": "stdout",
     "output_type": "stream",
     "text": [
      "User: 152\n"
     ]
    },
    {
     "name": "stderr",
     "output_type": "stream",
     "text": [
      "100%|███████████████████████████████████████████████████████████████████████| 167543/167543 [00:03<00:00, 44094.91it/s]\n",
      "100%|███████████████████████████████████████████████████████████████████████████████| 10/10 [00:00<00:00, 10034.22it/s]\n"
     ]
    },
    {
     "name": "stdout",
     "output_type": "stream",
     "text": [
      "User: 153\n"
     ]
    },
    {
     "name": "stderr",
     "output_type": "stream",
     "text": [
      "100%|███████████████████████████████████████████████████████████████████████| 167543/167543 [00:03<00:00, 44497.46it/s]\n",
      "100%|██████████████████████████████████████████████████████████████████████████████████████████| 10/10 [00:00<?, ?it/s]\n"
     ]
    },
    {
     "name": "stdout",
     "output_type": "stream",
     "text": [
      "User: 154\n"
     ]
    },
    {
     "name": "stderr",
     "output_type": "stream",
     "text": [
      "100%|███████████████████████████████████████████████████████████████████████| 167543/167543 [00:03<00:00, 43512.30it/s]\n",
      "100%|██████████████████████████████████████████████████████████████████████████████████████████| 10/10 [00:00<?, ?it/s]\n"
     ]
    },
    {
     "name": "stdout",
     "output_type": "stream",
     "text": [
      "User: 155\n"
     ]
    },
    {
     "name": "stderr",
     "output_type": "stream",
     "text": [
      "100%|███████████████████████████████████████████████████████████████████████| 167543/167543 [00:03<00:00, 43659.87it/s]\n",
      "100%|███████████████████████████████████████████████████████████████████████| 167543/167543 [00:03<00:00, 43699.60it/s]\n",
      "100%|███████████████████████████████████████████████████████████████████████████████| 20/20 [00:00<00:00, 20030.11it/s]\n"
     ]
    },
    {
     "name": "stdout",
     "output_type": "stream",
     "text": [
      "User: 156\n"
     ]
    },
    {
     "name": "stderr",
     "output_type": "stream",
     "text": [
      "100%|███████████████████████████████████████████████████████████████████████| 167543/167543 [00:03<00:00, 43919.01it/s]\n",
      "100%|███████████████████████████████████████████████████████████████████████| 167542/167542 [00:03<00:00, 43485.67it/s]\n",
      "100%|██████████████████████████████████████████████████████████████████████████████████████████| 20/20 [00:00<?, ?it/s]\n"
     ]
    },
    {
     "name": "stdout",
     "output_type": "stream",
     "text": [
      "User: 157\n"
     ]
    },
    {
     "name": "stderr",
     "output_type": "stream",
     "text": [
      "100%|███████████████████████████████████████████████████████████████████████| 167526/167526 [00:03<00:00, 43939.48it/s]\n",
      "100%|███████████████████████████████████████████████████████████████████████| 167543/167543 [00:03<00:00, 44158.84it/s]\n",
      "100%|███████████████████████████████████████████████████████████████████████████████| 20/20 [00:00<00:00, 19608.71it/s]\n"
     ]
    },
    {
     "name": "stdout",
     "output_type": "stream",
     "text": [
      "User: 158\n"
     ]
    },
    {
     "name": "stderr",
     "output_type": "stream",
     "text": [
      "100%|███████████████████████████████████████████████████████████████████████| 167543/167543 [00:03<00:00, 44242.79it/s]\n",
      "100%|███████████████████████████████████████████████████████████████████████████████| 10/10 [00:00<00:00, 10022.23it/s]\n"
     ]
    },
    {
     "name": "stdout",
     "output_type": "stream",
     "text": [
      "User: 159\n"
     ]
    },
    {
     "name": "stderr",
     "output_type": "stream",
     "text": [
      "100%|███████████████████████████████████████████████████████████████████████| 167543/167543 [00:03<00:00, 44322.03it/s]\n",
      "100%|███████████████████████████████████████████████████████████████████████████████| 10/10 [00:00<00:00, 10017.44it/s]\n"
     ]
    },
    {
     "name": "stdout",
     "output_type": "stream",
     "text": [
      "User: 160\n"
     ]
    },
    {
     "name": "stderr",
     "output_type": "stream",
     "text": [
      "100%|███████████████████████████████████████████████████████████████████████| 167543/167543 [00:03<00:00, 44277.63it/s]\n",
      "100%|███████████████████████████████████████████████████████████████████████| 167543/167543 [00:03<00:00, 44512.54it/s]\n",
      "100%|███████████████████████████████████████████████████████████████████████| 167543/167543 [00:03<00:00, 44363.12it/s]\n",
      "100%|███████████████████████████████████████████████████████████████████████████████| 30/30 [00:00<00:00, 30073.88it/s]\n"
     ]
    },
    {
     "name": "stdout",
     "output_type": "stream",
     "text": [
      "User: 161\n"
     ]
    },
    {
     "name": "stderr",
     "output_type": "stream",
     "text": [
      "100%|███████████████████████████████████████████████████████████████████████| 167543/167543 [00:03<00:00, 44431.35it/s]\n",
      "100%|██████████████████████████████████████████████████████████████████████████████████████████| 10/10 [00:00<?, ?it/s]\n"
     ]
    },
    {
     "name": "stdout",
     "output_type": "stream",
     "text": [
      "User: 162\n"
     ]
    },
    {
     "name": "stderr",
     "output_type": "stream",
     "text": [
      "100%|███████████████████████████████████████████████████████████████████████| 167543/167543 [00:03<00:00, 44050.34it/s]\n",
      "100%|███████████████████████████████████████████████████████████████████████| 167540/167540 [00:03<00:00, 43990.20it/s]\n",
      "100%|███████████████████████████████████████████████████████████████████████████████| 20/20 [00:00<00:00, 20049.25it/s]\n"
     ]
    },
    {
     "name": "stdout",
     "output_type": "stream",
     "text": [
      "User: 163\n"
     ]
    },
    {
     "name": "stderr",
     "output_type": "stream",
     "text": [
      "100%|███████████████████████████████████████████████████████████████████████| 167543/167543 [00:03<00:00, 43753.72it/s]\n",
      "100%|███████████████████████████████████████████████████████████████████████████████| 10/10 [00:00<00:00, 10225.02it/s]\n"
     ]
    },
    {
     "name": "stdout",
     "output_type": "stream",
     "text": [
      "User: 164\n"
     ]
    },
    {
     "name": "stderr",
     "output_type": "stream",
     "text": [
      "100%|███████████████████████████████████████████████████████████████████████| 167532/167532 [00:03<00:00, 43668.65it/s]\n",
      "100%|██████████████████████████████████████████████████████████████████████████████████████████| 10/10 [00:00<?, ?it/s]\n"
     ]
    },
    {
     "name": "stdout",
     "output_type": "stream",
     "text": [
      "User: 165\n"
     ]
    },
    {
     "name": "stderr",
     "output_type": "stream",
     "text": [
      "100%|███████████████████████████████████████████████████████████████████████| 167496/167496 [00:03<00:00, 43905.34it/s]\n",
      "100%|███████████████████████████████████████████████████████████████████████| 167542/167542 [00:03<00:00, 44491.09it/s]\n",
      "100%|███████████████████████████████████████████████████████████████████████████████| 20/20 [00:00<00:00, 20485.00it/s]\n"
     ]
    },
    {
     "name": "stdout",
     "output_type": "stream",
     "text": [
      "User: 166\n"
     ]
    },
    {
     "name": "stderr",
     "output_type": "stream",
     "text": [
      "100%|███████████████████████████████████████████████████████████████████████| 167534/167534 [00:03<00:00, 44221.89it/s]\n",
      "100%|██████████████████████████████████████████████████████████████████████████████████████████| 10/10 [00:00<?, ?it/s]\n"
     ]
    },
    {
     "name": "stdout",
     "output_type": "stream",
     "text": [
      "User: 167\n"
     ]
    },
    {
     "name": "stderr",
     "output_type": "stream",
     "text": [
      "100%|███████████████████████████████████████████████████████████████████████| 167543/167543 [00:03<00:00, 43620.70it/s]\n",
      "100%|███████████████████████████████████████████████████████████████████████| 167543/167543 [00:03<00:00, 43703.18it/s]\n",
      "100%|███████████████████████████████████████████████████████████████████████| 167543/167543 [00:03<00:00, 43857.91it/s]\n",
      "100%|███████████████████████████████████████████████████████████████████████████████| 30/30 [00:00<00:00, 15036.94it/s]\n"
     ]
    },
    {
     "name": "stdout",
     "output_type": "stream",
     "text": [
      "User: 168\n"
     ]
    },
    {
     "name": "stderr",
     "output_type": "stream",
     "text": [
      "100%|███████████████████████████████████████████████████████████████████████| 167543/167543 [00:03<00:00, 43623.95it/s]\n",
      "100%|██████████████████████████████████████████████████████████████████████████████████████████| 10/10 [00:00<?, ?it/s]\n"
     ]
    },
    {
     "name": "stdout",
     "output_type": "stream",
     "text": [
      "User: 169\n"
     ]
    },
    {
     "name": "stderr",
     "output_type": "stream",
     "text": [
      "100%|███████████████████████████████████████████████████████████████████████| 167543/167543 [00:03<00:00, 44344.95it/s]\n",
      "100%|███████████████████████████████████████████████████████████████████████| 167543/167543 [00:03<00:00, 44271.24it/s]\n",
      "100%|███████████████████████████████████████████████████████████████████████████████| 20/20 [00:00<00:00, 20010.99it/s]\n"
     ]
    },
    {
     "name": "stdout",
     "output_type": "stream",
     "text": [
      "User: 170\n"
     ]
    },
    {
     "name": "stderr",
     "output_type": "stream",
     "text": [
      "100%|███████████████████████████████████████████████████████████████████████| 167543/167543 [00:03<00:00, 44398.18it/s]\n",
      "100%|███████████████████████████████████████████████████████████████████████| 167543/167543 [00:03<00:00, 44330.75it/s]\n",
      "100%|██████████████████████████████████████████████████████████████████████████████████████████| 20/20 [00:00<?, ?it/s]\n"
     ]
    },
    {
     "name": "stdout",
     "output_type": "stream",
     "text": [
      "User: 171\n"
     ]
    },
    {
     "name": "stderr",
     "output_type": "stream",
     "text": [
      "100%|███████████████████████████████████████████████████████████████████████| 167543/167543 [00:03<00:00, 44439.09it/s]\n",
      "100%|███████████████████████████████████████████████████████████████████████| 167543/167543 [00:03<00:00, 44235.12it/s]\n",
      "100%|███████████████████████████████████████████████████████████████████████████████| 20/20 [00:00<00:00, 20010.99it/s]\n"
     ]
    },
    {
     "name": "stdout",
     "output_type": "stream",
     "text": [
      "User: 172\n"
     ]
    },
    {
     "name": "stderr",
     "output_type": "stream",
     "text": [
      "100%|███████████████████████████████████████████████████████████████████████| 167543/167543 [00:03<00:00, 44538.51it/s]\n",
      "100%|███████████████████████████████████████████████████████████████████████████████| 10/10 [00:00<00:00, 10027.02it/s]\n"
     ]
    },
    {
     "name": "stdout",
     "output_type": "stream",
     "text": [
      "User: 173\n"
     ]
    },
    {
     "name": "stderr",
     "output_type": "stream",
     "text": [
      "100%|███████████████████████████████████████████████████████████████████████| 167541/167541 [00:03<00:00, 44391.57it/s]\n",
      "100%|███████████████████████████████████████████████████████████████████████| 167542/167542 [00:03<00:00, 44640.44it/s]\n",
      "100%|███████████████████████████████████████████████████████████████████████████████| 20/20 [00:00<00:00, 20049.25it/s]\n"
     ]
    },
    {
     "name": "stdout",
     "output_type": "stream",
     "text": [
      "User: 174\n"
     ]
    },
    {
     "name": "stderr",
     "output_type": "stream",
     "text": [
      "100%|███████████████████████████████████████████████████████████████████████| 167543/167543 [00:03<00:00, 44653.10it/s]\n",
      "100%|███████████████████████████████████████████████████████████████████████| 167543/167543 [00:03<00:00, 44158.55it/s]\n",
      "100%|██████████████████████████████████████████████████████████████████████████████████████████| 20/20 [00:00<?, ?it/s]\n"
     ]
    },
    {
     "name": "stdout",
     "output_type": "stream",
     "text": [
      "User: 175\n"
     ]
    },
    {
     "name": "stderr",
     "output_type": "stream",
     "text": [
      "100%|███████████████████████████████████████████████████████████████████████| 167543/167543 [00:03<00:00, 44336.36it/s]\n",
      "100%|███████████████████████████████████████████████████████████████████████| 167543/167543 [00:03<00:00, 44186.07it/s]\n",
      "100%|██████████████████████████████████████████████████████████████████████████████████████████| 20/20 [00:00<?, ?it/s]\n"
     ]
    },
    {
     "name": "stdout",
     "output_type": "stream",
     "text": [
      "User: 176\n"
     ]
    },
    {
     "name": "stderr",
     "output_type": "stream",
     "text": [
      "100%|███████████████████████████████████████████████████████████████████████| 167543/167543 [00:03<00:00, 44253.57it/s]\n",
      "100%|███████████████████████████████████████████████████████████████████████| 167543/167543 [00:03<00:00, 43993.85it/s]\n",
      "100%|███████████████████████████████████████████████████████████████████████| 167541/167541 [00:03<00:00, 43816.61it/s]\n",
      "100%|███████████████████████████████████████████████████████████████████████████████| 30/30 [00:00<00:00, 30088.26it/s]\n"
     ]
    },
    {
     "name": "stdout",
     "output_type": "stream",
     "text": [
      "User: 177\n"
     ]
    },
    {
     "name": "stderr",
     "output_type": "stream",
     "text": [
      "100%|███████████████████████████████████████████████████████████████████████| 167542/167542 [00:03<00:00, 44762.56it/s]\n",
      "100%|███████████████████████████████████████████████████████████████████████| 167541/167541 [00:03<00:00, 44791.05it/s]\n",
      "100%|███████████████████████████████████████████████████████████████████████████████| 20/20 [00:00<00:00, 20034.89it/s]\n"
     ]
    },
    {
     "name": "stdout",
     "output_type": "stream",
     "text": [
      "User: 178\n"
     ]
    },
    {
     "name": "stderr",
     "output_type": "stream",
     "text": [
      "100%|███████████████████████████████████████████████████████████████████████| 167543/167543 [00:03<00:00, 44628.62it/s]\n",
      "100%|███████████████████████████████████████████████████████████████████████| 167542/167542 [00:03<00:00, 44507.62it/s]\n",
      "100%|███████████████████████████████████████████████████████████████████████| 167542/167542 [00:03<00:00, 44132.98it/s]\n",
      "100%|███████████████████████████████████████████████████████████████████████████████| 30/30 [00:00<00:00, 30052.33it/s]\n"
     ]
    },
    {
     "name": "stdout",
     "output_type": "stream",
     "text": [
      "User: 179\n"
     ]
    },
    {
     "name": "stderr",
     "output_type": "stream",
     "text": [
      "100%|███████████████████████████████████████████████████████████████████████| 167540/167540 [00:03<00:00, 44778.78it/s]\n",
      "100%|███████████████████████████████████████████████████████████████████████| 167543/167543 [00:03<00:00, 45015.90it/s]\n",
      "100%|███████████████████████████████████████████████████████████████████████████████| 20/20 [00:00<00:00, 20058.84it/s]\n"
     ]
    },
    {
     "name": "stdout",
     "output_type": "stream",
     "text": [
      "User: 180\n"
     ]
    },
    {
     "name": "stderr",
     "output_type": "stream",
     "text": [
      "100%|███████████████████████████████████████████████████████████████████████| 167541/167541 [00:03<00:00, 44630.91it/s]\n",
      "100%|███████████████████████████████████████████████████████████████████████| 167539/167539 [00:03<00:00, 44188.45it/s]\n",
      "100%|███████████████████████████████████████████████████████████████████████████████| 20/20 [00:00<00:00, 20590.59it/s]\n"
     ]
    },
    {
     "name": "stdout",
     "output_type": "stream",
     "text": [
      "User: 181\n"
     ]
    },
    {
     "name": "stderr",
     "output_type": "stream",
     "text": [
      "100%|███████████████████████████████████████████████████████████████████████| 167542/167542 [00:03<00:00, 44578.54it/s]\n",
      "100%|███████████████████████████████████████████████████████████████████████| 167543/167543 [00:03<00:00, 44596.90it/s]\n",
      "100%|███████████████████████████████████████████████████████████████████████████████| 20/20 [00:00<00:00, 20068.44it/s]\n"
     ]
    },
    {
     "name": "stdout",
     "output_type": "stream",
     "text": [
      "User: 182\n"
     ]
    },
    {
     "name": "stderr",
     "output_type": "stream",
     "text": [
      "100%|███████████████████████████████████████████████████████████████████████| 167543/167543 [00:03<00:00, 43060.61it/s]\n",
      "100%|██████████████████████████████████████████████████████████████████████████████████████████| 10/10 [00:00<?, ?it/s]\n"
     ]
    },
    {
     "name": "stdout",
     "output_type": "stream",
     "text": [
      "User: 183\n"
     ]
    },
    {
     "name": "stderr",
     "output_type": "stream",
     "text": [
      "100%|███████████████████████████████████████████████████████████████████████| 167543/167543 [00:03<00:00, 44182.17it/s]\n",
      "100%|███████████████████████████████████████████████████████████████████████| 167543/167543 [00:03<00:00, 44082.22it/s]\n",
      "100%|██████████████████████████████████████████████████████████████████████████████████████████| 20/20 [00:00<?, ?it/s]\n",
      "  0%|                                                                                       | 0/167543 [00:00<?, ?it/s]"
     ]
    },
    {
     "name": "stdout",
     "output_type": "stream",
     "text": [
      "User: 184\n"
     ]
    },
    {
     "name": "stderr",
     "output_type": "stream",
     "text": [
      "100%|███████████████████████████████████████████████████████████████████████| 167543/167543 [00:03<00:00, 44098.85it/s]\n",
      "100%|███████████████████████████████████████████████████████████████████████████████| 10/10 [00:00<00:00, 10027.02it/s]\n"
     ]
    },
    {
     "name": "stdout",
     "output_type": "stream",
     "text": [
      "User: 185\n"
     ]
    },
    {
     "name": "stderr",
     "output_type": "stream",
     "text": [
      "100%|███████████████████████████████████████████████████████████████████████| 167542/167542 [00:03<00:00, 44200.75it/s]\n",
      "100%|███████████████████████████████████████████████████████████████████████████████| 10/10 [00:00<00:00, 10029.42it/s]\n"
     ]
    },
    {
     "name": "stdout",
     "output_type": "stream",
     "text": [
      "User: 186\n"
     ]
    },
    {
     "name": "stderr",
     "output_type": "stream",
     "text": [
      "100%|███████████████████████████████████████████████████████████████████████| 167543/167543 [00:03<00:00, 44215.36it/s]\n",
      "100%|██████████████████████████████████████████████████████████████████████████████████████████| 10/10 [00:00<?, ?it/s]\n"
     ]
    },
    {
     "name": "stdout",
     "output_type": "stream",
     "text": [
      "User: 187\n"
     ]
    },
    {
     "name": "stderr",
     "output_type": "stream",
     "text": [
      "100%|███████████████████████████████████████████████████████████████████████| 167541/167541 [00:03<00:00, 44012.16it/s]\n",
      "100%|███████████████████████████████████████████████████████████████████████| 167532/167532 [00:03<00:00, 44325.74it/s]\n",
      "100%|███████████████████████████████████████████████████████████████████████████████| 20/20 [00:00<00:00, 20044.46it/s]\n"
     ]
    },
    {
     "name": "stdout",
     "output_type": "stream",
     "text": [
      "User: 188\n"
     ]
    },
    {
     "name": "stderr",
     "output_type": "stream",
     "text": [
      "100%|███████████████████████████████████████████████████████████████████████| 167543/167543 [00:03<00:00, 42743.27it/s]\n",
      "100%|███████████████████████████████████████████████████████████████████████| 167543/167543 [00:03<00:00, 43490.32it/s]\n",
      "100%|███████████████████████████████████████████████████████████████████████| 167543/167543 [00:03<00:00, 42552.16it/s]\n",
      "100%|███████████████████████████████████████████████████████████████████████████████| 30/30 [00:00<00:00, 30081.07it/s]\n"
     ]
    },
    {
     "name": "stdout",
     "output_type": "stream",
     "text": [
      "User: 189\n"
     ]
    },
    {
     "name": "stderr",
     "output_type": "stream",
     "text": [
      "100%|███████████████████████████████████████████████████████████████████████| 167543/167543 [00:03<00:00, 44268.20it/s]\n",
      "100%|███████████████████████████████████████████████████████████████████████████████| 10/10 [00:00<00:00, 10027.02it/s]\n"
     ]
    },
    {
     "name": "stdout",
     "output_type": "stream",
     "text": [
      "User: 190\n"
     ]
    },
    {
     "name": "stderr",
     "output_type": "stream",
     "text": [
      "100%|███████████████████████████████████████████████████████████████████████| 167543/167543 [00:03<00:00, 44366.88it/s]\n",
      "100%|██████████████████████████████████████████████████████████████████████████████████████████| 10/10 [00:00<?, ?it/s]\n"
     ]
    },
    {
     "name": "stdout",
     "output_type": "stream",
     "text": [
      "User: 191\n"
     ]
    },
    {
     "name": "stderr",
     "output_type": "stream",
     "text": [
      "100%|███████████████████████████████████████████████████████████████████████| 167543/167543 [00:03<00:00, 44461.78it/s]\n",
      "100%|████████████████████████████████████████████████████████████████████████████████| 10/10 [00:00<00:00, 9995.96it/s]\n"
     ]
    },
    {
     "name": "stdout",
     "output_type": "stream",
     "text": [
      "User: 192\n"
     ]
    },
    {
     "name": "stderr",
     "output_type": "stream",
     "text": [
      "100%|███████████████████████████████████████████████████████████████████████| 167543/167543 [00:03<00:00, 44613.28it/s]\n",
      "100%|███████████████████████████████████████████████████████████████████████| 167543/167543 [00:03<00:00, 44216.75it/s]\n",
      "100%|███████████████████████████████████████████████████████████████████████| 167543/167543 [00:03<00:00, 44271.10it/s]\n",
      "100%|███████████████████████████████████████████████████████████████████████████████| 30/30 [00:00<00:00, 30073.88it/s]\n"
     ]
    },
    {
     "name": "stdout",
     "output_type": "stream",
     "text": [
      "User: 193\n"
     ]
    },
    {
     "name": "stderr",
     "output_type": "stream",
     "text": [
      "100%|███████████████████████████████████████████████████████████████████████| 167534/167534 [00:03<00:00, 44545.49it/s]\n",
      "100%|███████████████████████████████████████████████████████████████████████| 167543/167543 [00:03<00:00, 44064.27it/s]\n",
      "100%|███████████████████████████████████████████████████████████████████████████████| 20/20 [00:00<00:00, 20039.68it/s]\n"
     ]
    },
    {
     "name": "stdout",
     "output_type": "stream",
     "text": [
      "User: 194\n"
     ]
    },
    {
     "name": "stderr",
     "output_type": "stream",
     "text": [
      "100%|███████████████████████████████████████████████████████████████████████| 167539/167539 [00:03<00:00, 43989.45it/s]\n",
      "100%|██████████████████████████████████████████████████████████████████████████████████████████| 10/10 [00:00<?, ?it/s]\n"
     ]
    },
    {
     "name": "stdout",
     "output_type": "stream",
     "text": [
      "User: 195\n"
     ]
    },
    {
     "name": "stderr",
     "output_type": "stream",
     "text": [
      "100%|███████████████████████████████████████████████████████████████████████| 167543/167543 [00:03<00:00, 44562.03it/s]\n",
      "100%|███████████████████████████████████████████████████████████████████████| 167543/167543 [00:03<00:00, 43543.85it/s]\n",
      "100%|███████████████████████████████████████████████████████████████████████| 167543/167543 [00:03<00:00, 44398.20it/s]\n",
      "100%|███████████████████████████████████████████████████████████████████████████████| 30/30 [00:00<00:00, 30697.52it/s]\n"
     ]
    },
    {
     "name": "stdout",
     "output_type": "stream",
     "text": [
      "User: 196\n"
     ]
    },
    {
     "name": "stderr",
     "output_type": "stream",
     "text": [
      "100%|███████████████████████████████████████████████████████████████████████| 167543/167543 [00:03<00:00, 43908.76it/s]\n",
      "100%|██████████████████████████████████████████████████████████████████████████████████████████| 10/10 [00:00<?, ?it/s]\n"
     ]
    },
    {
     "name": "stdout",
     "output_type": "stream",
     "text": [
      "User: 197\n"
     ]
    },
    {
     "name": "stderr",
     "output_type": "stream",
     "text": [
      "100%|███████████████████████████████████████████████████████████████████████| 167543/167543 [00:03<00:00, 44399.84it/s]\n",
      "100%|███████████████████████████████████████████████████████████████████████| 167542/167542 [00:03<00:00, 43166.66it/s]\n",
      "100%|███████████████████████████████████████████████████████████████████████████████| 20/20 [00:00<00:00, 20063.64it/s]\n"
     ]
    },
    {
     "name": "stdout",
     "output_type": "stream",
     "text": [
      "User: 198\n"
     ]
    },
    {
     "name": "stderr",
     "output_type": "stream",
     "text": [
      "100%|███████████████████████████████████████████████████████████████████████| 167543/167543 [00:03<00:00, 43847.16it/s]\n",
      "100%|███████████████████████████████████████████████████████████████████████████████| 10/10 [00:00<00:00, 10029.42it/s]\n"
     ]
    },
    {
     "name": "stdout",
     "output_type": "stream",
     "text": [
      "User: 199\n"
     ]
    },
    {
     "name": "stderr",
     "output_type": "stream",
     "text": [
      "100%|███████████████████████████████████████████████████████████████████████| 167543/167543 [00:03<00:00, 44388.04it/s]\n",
      "100%|███████████████████████████████████████████████████████████████████████| 167543/167543 [00:03<00:00, 44067.59it/s]\n",
      "100%|███████████████████████████████████████████████████████████████████████████████| 20/20 [00:00<00:00, 20058.84it/s]\n"
     ]
    },
    {
     "name": "stdout",
     "output_type": "stream",
     "text": [
      "User: 200\n"
     ]
    },
    {
     "name": "stderr",
     "output_type": "stream",
     "text": [
      "100%|███████████████████████████████████████████████████████████████████████| 167543/167543 [00:03<00:00, 44141.55it/s]\n",
      "100%|██████████████████████████████████████████████████████████████████████████████████████████| 10/10 [00:00<?, ?it/s]\n"
     ]
    },
    {
     "name": "stdout",
     "output_type": "stream",
     "text": [
      "User: 201\n"
     ]
    },
    {
     "name": "stderr",
     "output_type": "stream",
     "text": [
      "100%|███████████████████████████████████████████████████████████████████████| 167543/167543 [00:03<00:00, 44224.95it/s]\n",
      "100%|███████████████████████████████████████████████████████████████████████████████| 10/10 [00:00<00:00, 10027.02it/s]\n"
     ]
    },
    {
     "name": "stdout",
     "output_type": "stream",
     "text": [
      "User: 202\n"
     ]
    },
    {
     "name": "stderr",
     "output_type": "stream",
     "text": [
      "100%|███████████████████████████████████████████████████████████████████████| 167543/167543 [00:03<00:00, 44361.79it/s]\n",
      "100%|███████████████████████████████████████████████████████████████████████| 167543/167543 [00:03<00:00, 43937.62it/s]\n",
      "100%|██████████████████████████████████████████████████████████████████████████████████████████| 20/20 [00:00<?, ?it/s]\n"
     ]
    },
    {
     "name": "stdout",
     "output_type": "stream",
     "text": [
      "User: 203\n"
     ]
    },
    {
     "name": "stderr",
     "output_type": "stream",
     "text": [
      "100%|███████████████████████████████████████████████████████████████████████| 167543/167543 [00:03<00:00, 44142.27it/s]\n",
      "100%|██████████████████████████████████████████████████████████████████████████████████████████| 10/10 [00:00<?, ?it/s]\n"
     ]
    },
    {
     "name": "stdout",
     "output_type": "stream",
     "text": [
      "User: 204\n"
     ]
    },
    {
     "name": "stderr",
     "output_type": "stream",
     "text": [
      "100%|███████████████████████████████████████████████████████████████████████| 167543/167543 [00:03<00:00, 44103.11it/s]\n",
      "100%|███████████████████████████████████████████████████████████████████████| 167543/167543 [00:03<00:00, 44330.62it/s]\n",
      "100%|███████████████████████████████████████████████████████████████████████████████| 20/20 [00:00<00:00, 19640.85it/s]\n"
     ]
    },
    {
     "name": "stdout",
     "output_type": "stream",
     "text": [
      "User: 205\n"
     ]
    },
    {
     "name": "stderr",
     "output_type": "stream",
     "text": [
      "100%|███████████████████████████████████████████████████████████████████████| 167541/167541 [00:03<00:00, 44107.73it/s]\n",
      "100%|███████████████████████████████████████████████████████████████████████| 167543/167543 [00:03<00:00, 44164.22it/s]\n",
      "100%|███████████████████████████████████████████████████████████████████████████████| 20/20 [00:00<00:00, 20058.84it/s]\n"
     ]
    },
    {
     "name": "stdout",
     "output_type": "stream",
     "text": [
      "User: 206\n"
     ]
    },
    {
     "name": "stderr",
     "output_type": "stream",
     "text": [
      "100%|███████████████████████████████████████████████████████████████████████| 167542/167542 [00:03<00:00, 42887.94it/s]\n",
      "100%|███████████████████████████████████████████████████████████████████████| 167543/167543 [00:03<00:00, 43696.83it/s]\n",
      "100%|███████████████████████████████████████████████████████████████████████████████| 20/20 [00:00<00:00, 19636.25it/s]\n"
     ]
    },
    {
     "name": "stdout",
     "output_type": "stream",
     "text": [
      "User: 207\n"
     ]
    },
    {
     "name": "stderr",
     "output_type": "stream",
     "text": [
      "100%|███████████████████████████████████████████████████████████████████████| 167543/167543 [00:03<00:00, 43622.80it/s]\n",
      "100%|██████████████████████████████████████████████████████████████████████████████████████████| 10/10 [00:00<?, ?it/s]\n"
     ]
    },
    {
     "name": "stdout",
     "output_type": "stream",
     "text": [
      "User: 208\n"
     ]
    },
    {
     "name": "stderr",
     "output_type": "stream",
     "text": [
      "100%|███████████████████████████████████████████████████████████████████████| 167543/167543 [00:03<00:00, 43166.25it/s]\n",
      "100%|███████████████████████████████████████████████████████████████████████| 167543/167543 [00:03<00:00, 44041.11it/s]\n",
      "100%|███████████████████████████████████████████████████████████████████████████████| 20/20 [00:00<00:00, 20044.46it/s]\n"
     ]
    },
    {
     "name": "stdout",
     "output_type": "stream",
     "text": [
      "User: 209\n"
     ]
    },
    {
     "name": "stderr",
     "output_type": "stream",
     "text": [
      "100%|███████████████████████████████████████████████████████████████████████| 167542/167542 [00:03<00:00, 44373.32it/s]\n",
      "100%|███████████████████████████████████████████████████████████████████████████████| 10/10 [00:00<00:00, 10015.05it/s]\n"
     ]
    },
    {
     "name": "stdout",
     "output_type": "stream",
     "text": [
      "User: 210\n"
     ]
    },
    {
     "name": "stderr",
     "output_type": "stream",
     "text": [
      "100%|███████████████████████████████████████████████████████████████████████| 167543/167543 [00:03<00:00, 44591.49it/s]\n",
      "100%|███████████████████████████████████████████████████████████████████████| 167541/167541 [00:03<00:00, 44234.35it/s]\n",
      "100%|██████████████████████████████████████████████████████████████████████████████████████████| 20/20 [00:00<?, ?it/s]\n"
     ]
    },
    {
     "name": "stdout",
     "output_type": "stream",
     "text": [
      "User: 211\n"
     ]
    },
    {
     "name": "stderr",
     "output_type": "stream",
     "text": [
      "100%|███████████████████████████████████████████████████████████████████████| 167542/167542 [00:03<00:00, 44706.14it/s]\n",
      "100%|███████████████████████████████████████████████████████████████████████| 167543/167543 [00:03<00:00, 44603.46it/s]\n",
      "100%|███████████████████████████████████████████████████████████████████████████████| 20/20 [00:00<00:00, 20006.22it/s]\n"
     ]
    },
    {
     "name": "stdout",
     "output_type": "stream",
     "text": [
      "User: 212\n"
     ]
    },
    {
     "name": "stderr",
     "output_type": "stream",
     "text": [
      "100%|███████████████████████████████████████████████████████████████████████| 167543/167543 [00:03<00:00, 44458.41it/s]\n",
      "100%|███████████████████████████████████████████████████████████████████████| 167538/167538 [00:03<00:00, 44254.70it/s]\n",
      "100%|███████████████████████████████████████████████████████████████████████████████| 20/20 [00:00<00:00, 19719.34it/s]\n"
     ]
    },
    {
     "name": "stdout",
     "output_type": "stream",
     "text": [
      "User: 213\n"
     ]
    },
    {
     "name": "stderr",
     "output_type": "stream",
     "text": [
      "100%|███████████████████████████████████████████████████████████████████████| 167538/167538 [00:03<00:00, 44470.35it/s]\n",
      "100%|███████████████████████████████████████████████████████████████████████| 167534/167534 [00:03<00:00, 44495.64it/s]\n",
      "100%|██████████████████████████████████████████████████████████████████████████████████████████| 20/20 [00:00<?, ?it/s]\n"
     ]
    },
    {
     "name": "stdout",
     "output_type": "stream",
     "text": [
      "User: 214\n"
     ]
    },
    {
     "name": "stderr",
     "output_type": "stream",
     "text": [
      "100%|███████████████████████████████████████████████████████████████████████| 167539/167539 [00:03<00:00, 44569.83it/s]\n",
      "100%|██████████████████████████████████████████████████████████████████████████████████████████| 10/10 [00:00<?, ?it/s]\n"
     ]
    },
    {
     "name": "stdout",
     "output_type": "stream",
     "text": [
      "User: 215\n"
     ]
    },
    {
     "name": "stderr",
     "output_type": "stream",
     "text": [
      "100%|███████████████████████████████████████████████████████████████████████| 167536/167536 [00:03<00:00, 44608.71it/s]\n",
      "100%|███████████████████████████████████████████████████████████████████████| 167543/167543 [00:03<00:00, 44474.40it/s]\n",
      "100%|███████████████████████████████████████████████████████████████████████| 167541/167541 [00:03<00:00, 44494.09it/s]\n",
      "100%|███████████████████████████████████████████████████████████████████████████████| 30/30 [00:00<00:00, 30095.46it/s]\n"
     ]
    },
    {
     "name": "stdout",
     "output_type": "stream",
     "text": [
      "User: 216\n"
     ]
    },
    {
     "name": "stderr",
     "output_type": "stream",
     "text": [
      "100%|███████████████████████████████████████████████████████████████████████| 167543/167543 [00:03<00:00, 44631.00it/s]\n",
      "100%|███████████████████████████████████████████████████████████████████████████████| 10/10 [00:00<00:00, 10027.02it/s]\n"
     ]
    },
    {
     "name": "stdout",
     "output_type": "stream",
     "text": [
      "User: 217\n"
     ]
    },
    {
     "name": "stderr",
     "output_type": "stream",
     "text": [
      "100%|███████████████████████████████████████████████████████████████████████| 167543/167543 [00:03<00:00, 44465.91it/s]\n",
      "100%|███████████████████████████████████████████████████████████████████████| 167543/167543 [00:03<00:00, 44392.59it/s]\n",
      "100%|███████████████████████████████████████████████████████████████████████| 167543/167543 [00:03<00:00, 44523.39it/s]\n",
      "100%|███████████████████████████████████████████████████████████████████████████████| 30/30 [00:00<00:00, 30660.12it/s]\n"
     ]
    },
    {
     "name": "stdout",
     "output_type": "stream",
     "text": [
      "User: 218\n"
     ]
    },
    {
     "name": "stderr",
     "output_type": "stream",
     "text": [
      "100%|███████████████████████████████████████████████████████████████████████| 167543/167543 [00:03<00:00, 44480.96it/s]\n",
      "100%|███████████████████████████████████████████████████████████████████████████████| 10/10 [00:00<00:00, 10024.63it/s]\n"
     ]
    },
    {
     "name": "stdout",
     "output_type": "stream",
     "text": [
      "User: 219\n"
     ]
    },
    {
     "name": "stderr",
     "output_type": "stream",
     "text": [
      "100%|███████████████████████████████████████████████████████████████████████| 167543/167543 [00:03<00:00, 44658.72it/s]\n",
      "100%|██████████████████████████████████████████████████████████████████████████████████████████| 10/10 [00:00<?, ?it/s]\n"
     ]
    },
    {
     "name": "stdout",
     "output_type": "stream",
     "text": [
      "User: 220\n"
     ]
    },
    {
     "name": "stderr",
     "output_type": "stream",
     "text": [
      "100%|███████████████████████████████████████████████████████████████████████| 167538/167538 [00:03<00:00, 44446.01it/s]\n",
      "100%|███████████████████████████████████████████████████████████████████████| 167543/167543 [00:03<00:00, 44736.82it/s]\n",
      "100%|███████████████████████████████████████████████████████████████████████| 167531/167531 [00:03<00:00, 44518.13it/s]\n",
      "100%|███████████████████████████████████████████████████████████████████████████████| 30/30 [00:00<00:00, 15036.94it/s]\n"
     ]
    },
    {
     "name": "stdout",
     "output_type": "stream",
     "text": [
      "User: 221\n"
     ]
    },
    {
     "name": "stderr",
     "output_type": "stream",
     "text": [
      "100%|███████████████████████████████████████████████████████████████████████| 167543/167543 [00:03<00:00, 44380.54it/s]\n",
      "100%|███████████████████████████████████████████████████████████████████████| 167525/167525 [00:03<00:00, 44488.22it/s]\n",
      "100%|███████████████████████████████████████████████████████████████████████████████| 20/20 [00:00<00:00, 20063.64it/s]\n"
     ]
    },
    {
     "name": "stdout",
     "output_type": "stream",
     "text": [
      "User: 222\n"
     ]
    },
    {
     "name": "stderr",
     "output_type": "stream",
     "text": [
      "100%|███████████████████████████████████████████████████████████████████████| 167543/167543 [00:03<00:00, 44571.42it/s]\n",
      "100%|██████████████████████████████████████████████████████████████████████████████████████████| 10/10 [00:00<?, ?it/s]\n"
     ]
    },
    {
     "name": "stdout",
     "output_type": "stream",
     "text": [
      "User: 223\n"
     ]
    },
    {
     "name": "stderr",
     "output_type": "stream",
     "text": [
      "100%|███████████████████████████████████████████████████████████████████████| 167543/167543 [00:03<00:00, 44403.43it/s]\n",
      "100%|███████████████████████████████████████████████████████████████████████| 167534/167534 [00:03<00:00, 44423.98it/s]\n",
      "100%|███████████████████████████████████████████████████████████████████████| 167543/167543 [00:03<00:00, 44524.04it/s]\n",
      "100%|███████████████████████████████████████████████████████████████████████████████| 30/30 [00:00<00:00, 15038.74it/s]\n"
     ]
    },
    {
     "name": "stdout",
     "output_type": "stream",
     "text": [
      "User: 224\n"
     ]
    },
    {
     "name": "stderr",
     "output_type": "stream",
     "text": [
      "100%|███████████████████████████████████████████████████████████████████████| 167542/167542 [00:03<00:00, 44238.90it/s]\n",
      "100%|████████████████████████████████████████████████████████████████████████████████| 10/10 [00:00<00:00, 9998.34it/s]\n"
     ]
    },
    {
     "name": "stdout",
     "output_type": "stream",
     "text": [
      "User: 225\n"
     ]
    },
    {
     "name": "stderr",
     "output_type": "stream",
     "text": [
      "100%|███████████████████████████████████████████████████████████████████████| 167543/167543 [00:03<00:00, 44683.45it/s]\n",
      "100%|███████████████████████████████████████████████████████████████████████| 167543/167543 [00:03<00:00, 44282.92it/s]\n",
      "100%|███████████████████████████████████████████████████████████████████████| 167542/167542 [00:03<00:00, 44466.74it/s]\n",
      "100%|███████████████████████████████████████████████████████████████████████████████| 30/30 [00:00<00:00, 30870.74it/s]\n"
     ]
    },
    {
     "name": "stdout",
     "output_type": "stream",
     "text": [
      "User: 226\n"
     ]
    },
    {
     "name": "stderr",
     "output_type": "stream",
     "text": [
      "100%|███████████████████████████████████████████████████████████████████████| 167542/167542 [00:03<00:00, 44459.81it/s]\n",
      "100%|███████████████████████████████████████████████████████████████████████| 167543/167543 [00:03<00:00, 44584.49it/s]\n",
      "100%|███████████████████████████████████████████████████████████████████████| 167543/167543 [00:03<00:00, 44259.42it/s]\n",
      "100%|███████████████████████████████████████████████████████████████████████████████| 30/30 [00:00<00:00, 30088.26it/s]\n"
     ]
    },
    {
     "name": "stdout",
     "output_type": "stream",
     "text": [
      "User: 227\n"
     ]
    },
    {
     "name": "stderr",
     "output_type": "stream",
     "text": [
      "100%|███████████████████████████████████████████████████████████████████████| 167543/167543 [00:03<00:00, 44352.05it/s]\n",
      "100%|██████████████████████████████████████████████████████████████████████████████████████████| 10/10 [00:00<?, ?it/s]\n"
     ]
    },
    {
     "name": "stdout",
     "output_type": "stream",
     "text": [
      "User: 228\n"
     ]
    },
    {
     "name": "stderr",
     "output_type": "stream",
     "text": [
      "100%|███████████████████████████████████████████████████████████████████████| 167542/167542 [00:03<00:00, 44163.62it/s]\n",
      "100%|███████████████████████████████████████████████████████████████████████████████| 10/10 [00:00<00:00, 10036.62it/s]\n"
     ]
    },
    {
     "name": "stdout",
     "output_type": "stream",
     "text": [
      "User: 229\n"
     ]
    },
    {
     "name": "stderr",
     "output_type": "stream",
     "text": [
      "100%|███████████████████████████████████████████████████████████████████████| 167543/167543 [00:03<00:00, 44327.15it/s]\n",
      "100%|███████████████████████████████████████████████████████████████████████| 167543/167543 [00:03<00:00, 44150.72it/s]\n",
      "100%|███████████████████████████████████████████████████████████████████████| 167541/167541 [00:03<00:00, 44162.89it/s]\n",
      "100%|███████████████████████████████████████████████████████████████████████████████| 30/30 [00:00<00:00, 30037.99it/s]\n"
     ]
    },
    {
     "name": "stdout",
     "output_type": "stream",
     "text": [
      "User: 230\n"
     ]
    },
    {
     "name": "stderr",
     "output_type": "stream",
     "text": [
      "100%|███████████████████████████████████████████████████████████████████████| 167543/167543 [00:03<00:00, 44150.32it/s]\n",
      "100%|███████████████████████████████████████████████████████████████████████| 167543/167543 [00:03<00:00, 44535.75it/s]\n",
      "100%|███████████████████████████████████████████████████████████████████████████████| 20/20 [00:00<00:00, 20058.84it/s]\n"
     ]
    },
    {
     "name": "stdout",
     "output_type": "stream",
     "text": [
      "User: 231\n"
     ]
    },
    {
     "name": "stderr",
     "output_type": "stream",
     "text": [
      "100%|███████████████████████████████████████████████████████████████████████| 167543/167543 [00:03<00:00, 44223.12it/s]\n",
      "100%|███████████████████████████████████████████████████████████████████████| 167543/167543 [00:03<00:00, 44195.24it/s]\n",
      "100%|███████████████████████████████████████████████████████████████████████| 167525/167525 [00:03<00:00, 44291.26it/s]\n",
      "100%|███████████████████████████████████████████████████████████████████████████████| 30/30 [00:00<00:00, 30073.88it/s]\n"
     ]
    },
    {
     "name": "stdout",
     "output_type": "stream",
     "text": [
      "User: 232\n"
     ]
    },
    {
     "name": "stderr",
     "output_type": "stream",
     "text": [
      "100%|███████████████████████████████████████████████████████████████████████| 167543/167543 [00:03<00:00, 44350.47it/s]\n",
      "100%|███████████████████████████████████████████████████████████████████████| 167539/167539 [00:03<00:00, 44136.98it/s]\n",
      "100%|███████████████████████████████████████████████████████████████████████████████| 20/20 [00:00<00:00, 20068.44it/s]\n"
     ]
    },
    {
     "name": "stdout",
     "output_type": "stream",
     "text": [
      "User: 233\n"
     ]
    },
    {
     "name": "stderr",
     "output_type": "stream",
     "text": [
      "100%|███████████████████████████████████████████████████████████████████████| 167543/167543 [00:03<00:00, 44280.79it/s]\n",
      "100%|███████████████████████████████████████████████████████████████████████████████| 10/10 [00:00<00:00, 10260.04it/s]\n"
     ]
    },
    {
     "name": "stdout",
     "output_type": "stream",
     "text": [
      "User: 234\n"
     ]
    },
    {
     "name": "stderr",
     "output_type": "stream",
     "text": [
      "100%|███████████████████████████████████████████████████████████████████████| 167543/167543 [00:03<00:00, 44098.95it/s]\n",
      "100%|██████████████████████████████████████████████████████████████████████████████████████████| 10/10 [00:00<?, ?it/s]\n"
     ]
    },
    {
     "name": "stdout",
     "output_type": "stream",
     "text": [
      "User: 235\n"
     ]
    },
    {
     "name": "stderr",
     "output_type": "stream",
     "text": [
      "100%|███████████████████████████████████████████████████████████████████████| 167543/167543 [00:03<00:00, 44321.08it/s]\n",
      "100%|███████████████████████████████████████████████████████████████████████| 167532/167532 [00:03<00:00, 44061.00it/s]\n",
      "100%|███████████████████████████████████████████████████████████████████████████████| 20/20 [00:00<00:00, 20049.25it/s]\n"
     ]
    },
    {
     "name": "stdout",
     "output_type": "stream",
     "text": [
      "User: 236\n"
     ]
    },
    {
     "name": "stderr",
     "output_type": "stream",
     "text": [
      "100%|███████████████████████████████████████████████████████████████████████| 167543/167543 [00:03<00:00, 44244.88it/s]\n",
      "100%|███████████████████████████████████████████████████████████████████████████████| 10/10 [00:00<00:00, 10003.11it/s]\n"
     ]
    },
    {
     "name": "stdout",
     "output_type": "stream",
     "text": [
      "User: 237\n"
     ]
    },
    {
     "name": "stderr",
     "output_type": "stream",
     "text": [
      "100%|███████████████████████████████████████████████████████████████████████| 167543/167543 [00:03<00:00, 43606.64it/s]\n",
      "100%|███████████████████████████████████████████████████████████████████████| 167543/167543 [00:03<00:00, 43958.61it/s]\n",
      "100%|███████████████████████████████████████████████████████████████████████████████| 20/20 [00:00<00:00, 20010.99it/s]\n"
     ]
    },
    {
     "name": "stdout",
     "output_type": "stream",
     "text": [
      "User: 238\n"
     ]
    },
    {
     "name": "stderr",
     "output_type": "stream",
     "text": [
      "100%|███████████████████████████████████████████████████████████████████████| 167543/167543 [00:03<00:00, 44079.12it/s]\n",
      "100%|███████████████████████████████████████████████████████████████████████████████| 10/10 [00:00<00:00, 10034.22it/s]\n"
     ]
    },
    {
     "name": "stdout",
     "output_type": "stream",
     "text": [
      "User: 239\n"
     ]
    },
    {
     "name": "stderr",
     "output_type": "stream",
     "text": [
      "100%|███████████████████████████████████████████████████████████████████████| 167543/167543 [00:03<00:00, 44621.85it/s]\n",
      "100%|███████████████████████████████████████████████████████████████████████| 167541/167541 [00:03<00:00, 44421.14it/s]\n",
      "100%|███████████████████████████████████████████████████████████████████████| 167536/167536 [00:03<00:00, 44121.63it/s]\n",
      "100%|███████████████████████████████████████████████████████████████████████████████| 30/30 [00:00<00:00, 30109.86it/s]\n"
     ]
    },
    {
     "name": "stdout",
     "output_type": "stream",
     "text": [
      "User: 240\n"
     ]
    },
    {
     "name": "stderr",
     "output_type": "stream",
     "text": [
      "100%|███████████████████████████████████████████████████████████████████████| 167543/167543 [00:03<00:00, 44393.41it/s]\n",
      "100%|███████████████████████████████████████████████████████████████████████| 167543/167543 [00:03<00:00, 44165.76it/s]\n",
      "100%|███████████████████████████████████████████████████████████████████████| 167543/167543 [00:03<00:00, 44466.88it/s]\n",
      "100%|███████████████████████████████████████████████████████████████████████████████| 30/30 [00:00<00:00, 30095.46it/s]\n"
     ]
    },
    {
     "name": "stdout",
     "output_type": "stream",
     "text": [
      "User: 241\n"
     ]
    },
    {
     "name": "stderr",
     "output_type": "stream",
     "text": [
      "100%|███████████████████████████████████████████████████████████████████████| 167534/167534 [00:03<00:00, 44393.80it/s]\n",
      "100%|███████████████████████████████████████████████████████████████████████| 167543/167543 [00:03<00:00, 43998.94it/s]\n",
      "100%|██████████████████████████████████████████████████████████████████████████████████████████| 20/20 [00:00<?, ?it/s]\n"
     ]
    },
    {
     "name": "stdout",
     "output_type": "stream",
     "text": [
      "User: 242\n"
     ]
    },
    {
     "name": "stderr",
     "output_type": "stream",
     "text": [
      "100%|███████████████████████████████████████████████████████████████████████| 167543/167543 [00:03<00:00, 44105.66it/s]\n",
      "100%|███████████████████████████████████████████████████████████████████████| 167543/167543 [00:03<00:00, 44315.36it/s]\n",
      "100%|██████████████████████████████████████████████████████████████████████████████████████████| 20/20 [00:00<?, ?it/s]\n"
     ]
    },
    {
     "name": "stdout",
     "output_type": "stream",
     "text": [
      "User: 243\n"
     ]
    },
    {
     "name": "stderr",
     "output_type": "stream",
     "text": [
      "100%|███████████████████████████████████████████████████████████████████████| 167542/167542 [00:03<00:00, 42841.48it/s]\n",
      "100%|███████████████████████████████████████████████████████████████████████████████| 10/10 [00:00<00:00, 10036.62it/s]\n"
     ]
    },
    {
     "name": "stdout",
     "output_type": "stream",
     "text": [
      "User: 244\n"
     ]
    },
    {
     "name": "stderr",
     "output_type": "stream",
     "text": [
      "100%|███████████████████████████████████████████████████████████████████████| 167540/167540 [00:03<00:00, 43820.49it/s]\n",
      "100%|███████████████████████████████████████████████████████████████████████| 167536/167536 [00:03<00:00, 44343.85it/s]\n",
      "100%|███████████████████████████████████████████████████████████████████████| 167535/167535 [00:03<00:00, 44314.72it/s]\n",
      "100%|███████████████████████████████████████████████████████████████████████████████| 30/30 [00:00<00:00, 29613.82it/s]\n"
     ]
    },
    {
     "name": "stdout",
     "output_type": "stream",
     "text": [
      "User: 245\n"
     ]
    },
    {
     "name": "stderr",
     "output_type": "stream",
     "text": [
      "100%|███████████████████████████████████████████████████████████████████████| 167543/167543 [00:03<00:00, 44584.31it/s]\n",
      "100%|███████████████████████████████████████████████████████████████████████| 167542/167542 [00:03<00:00, 44528.46it/s]\n",
      "100%|███████████████████████████████████████████████████████████████████████████████| 20/20 [00:00<00:00, 20054.05it/s]\n"
     ]
    },
    {
     "name": "stdout",
     "output_type": "stream",
     "text": [
      "User: 246\n"
     ]
    },
    {
     "name": "stderr",
     "output_type": "stream",
     "text": [
      "100%|███████████████████████████████████████████████████████████████████████| 167517/167517 [00:03<00:00, 44609.53it/s]\n",
      "100%|███████████████████████████████████████████████████████████████████████████████| 10/10 [00:00<00:00, 10015.05it/s]\n"
     ]
    },
    {
     "name": "stdout",
     "output_type": "stream",
     "text": [
      "User: 247\n"
     ]
    },
    {
     "name": "stderr",
     "output_type": "stream",
     "text": [
      "100%|███████████████████████████████████████████████████████████████████████| 167543/167543 [00:03<00:00, 44468.96it/s]\n",
      "100%|███████████████████████████████████████████████████████████████████████| 167543/167543 [00:03<00:00, 44291.48it/s]\n",
      "100%|███████████████████████████████████████████████████████████████████████████████| 20/20 [00:00<00:00, 19567.55it/s]\n"
     ]
    },
    {
     "name": "stdout",
     "output_type": "stream",
     "text": [
      "User: 248\n"
     ]
    },
    {
     "name": "stderr",
     "output_type": "stream",
     "text": [
      "100%|███████████████████████████████████████████████████████████████████████| 167543/167543 [00:03<00:00, 44601.13it/s]\n",
      "100%|███████████████████████████████████████████████████████████████████████| 167543/167543 [00:03<00:00, 44276.87it/s]\n",
      "100%|███████████████████████████████████████████████████████████████████████████████| 20/20 [00:00<00:00, 20063.64it/s]\n"
     ]
    },
    {
     "name": "stdout",
     "output_type": "stream",
     "text": [
      "User: 249\n"
     ]
    },
    {
     "name": "stderr",
     "output_type": "stream",
     "text": [
      "100%|███████████████████████████████████████████████████████████████████████| 167542/167542 [00:03<00:00, 44413.74it/s]\n",
      "100%|██████████████████████████████████████████████████████████████████████████████████████████| 10/10 [00:00<?, ?it/s]\n"
     ]
    },
    {
     "name": "stdout",
     "output_type": "stream",
     "text": [
      "User: 250\n"
     ]
    },
    {
     "name": "stderr",
     "output_type": "stream",
     "text": [
      "100%|███████████████████████████████████████████████████████████████████████| 167543/167543 [00:03<00:00, 44233.93it/s]\n",
      "100%|███████████████████████████████████████████████████████████████████████████████| 10/10 [00:00<00:00, 10034.22it/s]\n"
     ]
    },
    {
     "name": "stdout",
     "output_type": "stream",
     "text": [
      "User: 251\n"
     ]
    },
    {
     "name": "stderr",
     "output_type": "stream",
     "text": [
      "100%|███████████████████████████████████████████████████████████████████████| 167542/167542 [00:03<00:00, 44396.75it/s]\n",
      "100%|███████████████████████████████████████████████████████████████████████| 167543/167543 [00:03<00:00, 44586.30it/s]\n",
      "100%|███████████████████████████████████████████████████████████████████████████████| 20/20 [00:00<00:00, 20054.05it/s]\n"
     ]
    },
    {
     "name": "stdout",
     "output_type": "stream",
     "text": [
      "User: 252\n"
     ]
    },
    {
     "name": "stderr",
     "output_type": "stream",
     "text": [
      "100%|███████████████████████████████████████████████████████████████████████| 167543/167543 [00:03<00:00, 44193.32it/s]\n",
      "100%|███████████████████████████████████████████████████████████████████████| 167543/167543 [00:03<00:00, 44496.55it/s]\n",
      "100%|███████████████████████████████████████████████████████████████████████████████| 20/20 [00:00<00:00, 20054.05it/s]\n"
     ]
    },
    {
     "name": "stdout",
     "output_type": "stream",
     "text": [
      "User: 253\n"
     ]
    },
    {
     "name": "stderr",
     "output_type": "stream",
     "text": [
      "100%|███████████████████████████████████████████████████████████████████████| 167543/167543 [00:03<00:00, 44479.18it/s]\n",
      "100%|███████████████████████████████████████████████████████████████████████| 167543/167543 [00:03<00:00, 44255.93it/s]\n",
      "100%|███████████████████████████████████████████████████████████████████████████████| 20/20 [00:00<00:00, 20025.32it/s]\n"
     ]
    },
    {
     "name": "stdout",
     "output_type": "stream",
     "text": [
      "User: 254\n"
     ]
    },
    {
     "name": "stderr",
     "output_type": "stream",
     "text": [
      "100%|███████████████████████████████████████████████████████████████████████| 167543/167543 [00:03<00:00, 44287.41it/s]\n",
      "100%|██████████████████████████████████████████████████████████████████████████████████████████| 10/10 [00:00<?, ?it/s]\n"
     ]
    },
    {
     "name": "stdout",
     "output_type": "stream",
     "text": [
      "User: 255\n"
     ]
    },
    {
     "name": "stderr",
     "output_type": "stream",
     "text": [
      "100%|███████████████████████████████████████████████████████████████████████| 167543/167543 [00:03<00:00, 44349.10it/s]\n",
      "100%|███████████████████████████████████████████████████████████████████████████████| 10/10 [00:00<00:00, 10022.23it/s]\n"
     ]
    },
    {
     "name": "stdout",
     "output_type": "stream",
     "text": [
      "User: 256\n"
     ]
    },
    {
     "name": "stderr",
     "output_type": "stream",
     "text": [
      "100%|███████████████████████████████████████████████████████████████████████| 167543/167543 [00:03<00:00, 44257.33it/s]\n",
      "100%|███████████████████████████████████████████████████████████████████████| 167542/167542 [00:03<00:00, 43933.04it/s]\n",
      "100%|███████████████████████████████████████████████████████████████████████| 167543/167543 [00:03<00:00, 44166.25it/s]\n",
      "100%|███████████████████████████████████████████████████████████████████████████████| 30/30 [00:00<00:00, 30095.46it/s]\n"
     ]
    },
    {
     "name": "stdout",
     "output_type": "stream",
     "text": [
      "User: 257\n"
     ]
    },
    {
     "name": "stderr",
     "output_type": "stream",
     "text": [
      "100%|███████████████████████████████████████████████████████████████████████| 167516/167516 [00:03<00:00, 44046.33it/s]\n",
      "100%|███████████████████████████████████████████████████████████████████████████████| 10/10 [00:00<00:00, 10031.82it/s]\n"
     ]
    },
    {
     "name": "stdout",
     "output_type": "stream",
     "text": [
      "User: 258\n"
     ]
    },
    {
     "name": "stderr",
     "output_type": "stream",
     "text": [
      "100%|███████████████████████████████████████████████████████████████████████| 167543/167543 [00:03<00:00, 44179.90it/s]\n",
      "100%|███████████████████████████████████████████████████████████████████████| 167539/167539 [00:03<00:00, 44188.30it/s]\n",
      "100%|███████████████████████████████████████████████████████████████████████| 167543/167543 [00:03<00:00, 44088.81it/s]\n",
      "100%|███████████████████████████████████████████████████████████████████████████████| 30/30 [00:00<00:00, 30073.88it/s]\n"
     ]
    },
    {
     "name": "stdout",
     "output_type": "stream",
     "text": [
      "User: 259\n"
     ]
    },
    {
     "name": "stderr",
     "output_type": "stream",
     "text": [
      "100%|███████████████████████████████████████████████████████████████████████| 167534/167534 [00:03<00:00, 44331.82it/s]\n",
      "100%|███████████████████████████████████████████████████████████████████████| 167543/167543 [00:03<00:00, 44217.62it/s]\n",
      "100%|██████████████████████████████████████████████████████████████████████████████████████████| 20/20 [00:00<?, ?it/s]\n"
     ]
    },
    {
     "name": "stdout",
     "output_type": "stream",
     "text": [
      "User: 260\n"
     ]
    },
    {
     "name": "stderr",
     "output_type": "stream",
     "text": [
      "100%|███████████████████████████████████████████████████████████████████████| 167524/167524 [00:03<00:00, 43559.51it/s]\n",
      "100%|███████████████████████████████████████████████████████████████████████████████| 10/10 [00:00<00:00, 10027.02it/s]\n"
     ]
    },
    {
     "name": "stdout",
     "output_type": "stream",
     "text": [
      "User: 261\n"
     ]
    },
    {
     "name": "stderr",
     "output_type": "stream",
     "text": [
      "100%|███████████████████████████████████████████████████████████████████████| 167543/167543 [00:03<00:00, 44300.60it/s]\n",
      "100%|███████████████████████████████████████████████████████████████████████| 167543/167543 [00:03<00:00, 44172.37it/s]\n",
      "100%|███████████████████████████████████████████████████████████████████████| 167536/167536 [00:03<00:00, 44047.86it/s]\n",
      "100%|███████████████████████████████████████████████████████████████████████████████| 30/30 [00:00<00:00, 30016.49it/s]\n"
     ]
    },
    {
     "name": "stdout",
     "output_type": "stream",
     "text": [
      "User: 262\n"
     ]
    },
    {
     "name": "stderr",
     "output_type": "stream",
     "text": [
      "100%|███████████████████████████████████████████████████████████████████████| 167543/167543 [00:03<00:00, 44318.31it/s]\n",
      "100%|███████████████████████████████████████████████████████████████████████████████| 10/10 [00:00<00:00, 10335.89it/s]\n"
     ]
    },
    {
     "name": "stdout",
     "output_type": "stream",
     "text": [
      "User: 263\n"
     ]
    },
    {
     "name": "stderr",
     "output_type": "stream",
     "text": [
      "100%|███████████████████████████████████████████████████████████████████████| 167543/167543 [00:03<00:00, 44177.95it/s]\n",
      "100%|███████████████████████████████████████████████████████████████████████| 167543/167543 [00:03<00:00, 44249.64it/s]\n",
      "100%|███████████████████████████████████████████████████████████████████████| 167543/167543 [00:03<00:00, 43332.97it/s]\n",
      "100%|███████████████████████████████████████████████████████████████████████████████| 30/30 [00:00<00:00, 30081.07it/s]\n"
     ]
    },
    {
     "name": "stdout",
     "output_type": "stream",
     "text": [
      "User: 264\n"
     ]
    },
    {
     "name": "stderr",
     "output_type": "stream",
     "text": [
      "100%|███████████████████████████████████████████████████████████████████████| 167543/167543 [00:03<00:00, 43352.32it/s]\n",
      "100%|███████████████████████████████████████████████████████████████████████| 167543/167543 [00:03<00:00, 43494.33it/s]\n",
      "100%|███████████████████████████████████████████████████████████████████████| 167543/167543 [00:03<00:00, 43892.27it/s]\n",
      "100%|███████████████████████████████████████████████████████████████████████████████| 30/30 [00:00<00:00, 30102.66it/s]\n"
     ]
    },
    {
     "name": "stdout",
     "output_type": "stream",
     "text": [
      "User: 265\n"
     ]
    },
    {
     "name": "stderr",
     "output_type": "stream",
     "text": [
      "100%|███████████████████████████████████████████████████████████████████████| 167541/167541 [00:03<00:00, 44366.82it/s]\n",
      "100%|███████████████████████████████████████████████████████████████████████| 167542/167542 [00:03<00:00, 44106.87it/s]\n",
      "100%|███████████████████████████████████████████████████████████████████████████████| 20/20 [00:00<00:00, 20044.46it/s]\n"
     ]
    },
    {
     "name": "stdout",
     "output_type": "stream",
     "text": [
      "User: 266\n"
     ]
    },
    {
     "name": "stderr",
     "output_type": "stream",
     "text": [
      "100%|███████████████████████████████████████████████████████████████████████| 167540/167540 [00:03<00:00, 44079.71it/s]\n",
      "100%|███████████████████████████████████████████████████████████████████████| 167543/167543 [00:03<00:00, 43924.94it/s]\n",
      "100%|███████████████████████████████████████████████████████████████████████| 167543/167543 [00:03<00:00, 43378.00it/s]\n",
      "100%|███████████████████████████████████████████████████████████████████████████████| 30/30 [00:00<00:00, 30037.99it/s]\n"
     ]
    },
    {
     "name": "stdout",
     "output_type": "stream",
     "text": [
      "User: 267\n"
     ]
    },
    {
     "name": "stderr",
     "output_type": "stream",
     "text": [
      "100%|███████████████████████████████████████████████████████████████████████| 167542/167542 [00:03<00:00, 43786.15it/s]\n",
      "100%|███████████████████████████████████████████████████████████████████████████████| 10/10 [00:00<00:00, 10027.02it/s]\n"
     ]
    },
    {
     "name": "stdout",
     "output_type": "stream",
     "text": [
      "User: 268\n"
     ]
    },
    {
     "name": "stderr",
     "output_type": "stream",
     "text": [
      "100%|███████████████████████████████████████████████████████████████████████| 167543/167543 [00:03<00:00, 43897.82it/s]\n",
      "100%|███████████████████████████████████████████████████████████████████████| 167543/167543 [00:03<00:00, 43396.26it/s]\n",
      "100%|███████████████████████████████████████████████████████████████████████████████| 20/20 [00:00<00:00, 20490.00it/s]\n"
     ]
    },
    {
     "name": "stdout",
     "output_type": "stream",
     "text": [
      "User: 269\n"
     ]
    },
    {
     "name": "stderr",
     "output_type": "stream",
     "text": [
      "100%|███████████████████████████████████████████████████████████████████████| 167543/167543 [00:03<00:00, 44221.26it/s]\n",
      "100%|██████████████████████████████████████████████████████████████████████████████████████████| 10/10 [00:00<?, ?it/s]\n"
     ]
    },
    {
     "name": "stdout",
     "output_type": "stream",
     "text": [
      "User: 270\n"
     ]
    },
    {
     "name": "stderr",
     "output_type": "stream",
     "text": [
      "100%|███████████████████████████████████████████████████████████████████████| 167543/167543 [00:03<00:00, 44263.56it/s]\n",
      "100%|███████████████████████████████████████████████████████████████████████████████| 10/10 [00:00<00:00, 10029.42it/s]\n"
     ]
    },
    {
     "name": "stdout",
     "output_type": "stream",
     "text": [
      "User: 271\n"
     ]
    },
    {
     "name": "stderr",
     "output_type": "stream",
     "text": [
      "100%|███████████████████████████████████████████████████████████████████████| 167540/167540 [00:03<00:00, 43656.04it/s]\n",
      "100%|██████████████████████████████████████████████████████████████████████████████████████████| 10/10 [00:00<?, ?it/s]\n"
     ]
    },
    {
     "name": "stdout",
     "output_type": "stream",
     "text": [
      "User: 272\n"
     ]
    },
    {
     "name": "stderr",
     "output_type": "stream",
     "text": [
      "100%|███████████████████████████████████████████████████████████████████████| 167527/167527 [00:03<00:00, 44235.01it/s]\n",
      "100%|███████████████████████████████████████████████████████████████████████| 167543/167543 [00:03<00:00, 44253.91it/s]\n",
      "100%|███████████████████████████████████████████████████████████████████████| 167543/167543 [00:03<00:00, 43974.60it/s]\n",
      "100%|██████████████████████████████████████████████████████████████████████████████████████████| 30/30 [00:00<?, ?it/s]\n"
     ]
    },
    {
     "name": "stdout",
     "output_type": "stream",
     "text": [
      "User: 273\n"
     ]
    },
    {
     "name": "stderr",
     "output_type": "stream",
     "text": [
      "100%|███████████████████████████████████████████████████████████████████████| 167541/167541 [00:03<00:00, 44197.28it/s]\n",
      "100%|███████████████████████████████████████████████████████████████████████| 167542/167542 [00:03<00:00, 44090.61it/s]\n",
      "100%|██████████████████████████████████████████████████████████████████████████████████████████| 20/20 [00:00<?, ?it/s]\n"
     ]
    },
    {
     "name": "stdout",
     "output_type": "stream",
     "text": [
      "User: 274\n"
     ]
    },
    {
     "name": "stderr",
     "output_type": "stream",
     "text": [
      "100%|███████████████████████████████████████████████████████████████████████| 167543/167543 [00:03<00:00, 44174.68it/s]\n",
      "100%|███████████████████████████████████████████████████████████████████████| 167539/167539 [00:03<00:00, 44238.52it/s]\n",
      "100%|███████████████████████████████████████████████████████████████████████| 167543/167543 [00:03<00:00, 44247.94it/s]\n",
      "100%|███████████████████████████████████████████████████████████████████████████████| 30/30 [00:00<00:00, 30016.49it/s]\n"
     ]
    },
    {
     "name": "stdout",
     "output_type": "stream",
     "text": [
      "User: 275\n"
     ]
    },
    {
     "name": "stderr",
     "output_type": "stream",
     "text": [
      "100%|███████████████████████████████████████████████████████████████████████| 167543/167543 [00:03<00:00, 44026.77it/s]\n",
      "100%|██████████████████████████████████████████████████████████████████████████████████████████| 10/10 [00:00<?, ?it/s]\n"
     ]
    },
    {
     "name": "stdout",
     "output_type": "stream",
     "text": [
      "User: 276\n"
     ]
    },
    {
     "name": "stderr",
     "output_type": "stream",
     "text": [
      "100%|███████████████████████████████████████████████████████████████████████| 167543/167543 [00:03<00:00, 44320.19it/s]\n",
      "100%|███████████████████████████████████████████████████████████████████████| 167543/167543 [00:03<00:00, 44137.81it/s]\n",
      "100%|███████████████████████████████████████████████████████████████████████| 167543/167543 [00:03<00:00, 44110.58it/s]\n",
      "100%|███████████████████████████████████████████████████████████████████████████████| 30/30 [00:00<00:00, 30023.65it/s]\n"
     ]
    },
    {
     "name": "stdout",
     "output_type": "stream",
     "text": [
      "User: 277\n"
     ]
    },
    {
     "name": "stderr",
     "output_type": "stream",
     "text": [
      "100%|███████████████████████████████████████████████████████████████████████| 167543/167543 [00:03<00:00, 44047.49it/s]\n",
      "100%|██████████████████████████████████████████████████████████████████████████████████████████| 10/10 [00:00<?, ?it/s]\n"
     ]
    },
    {
     "name": "stdout",
     "output_type": "stream",
     "text": [
      "User: 278\n"
     ]
    },
    {
     "name": "stderr",
     "output_type": "stream",
     "text": [
      "100%|███████████████████████████████████████████████████████████████████████| 167543/167543 [00:03<00:00, 44070.09it/s]\n",
      "100%|███████████████████████████████████████████████████████████████████████| 167543/167543 [00:03<00:00, 44359.93it/s]\n",
      "100%|███████████████████████████████████████████████████████████████████████| 167543/167543 [00:03<00:00, 44324.87it/s]\n",
      "100%|███████████████████████████████████████████████████████████████████████████████| 30/30 [00:00<00:00, 30009.33it/s]\n"
     ]
    },
    {
     "name": "stdout",
     "output_type": "stream",
     "text": [
      "User: 279\n"
     ]
    },
    {
     "name": "stderr",
     "output_type": "stream",
     "text": [
      "100%|███████████████████████████████████████████████████████████████████████| 167543/167543 [00:03<00:00, 44144.31it/s]\n",
      "100%|███████████████████████████████████████████████████████████████████████| 167542/167542 [00:03<00:00, 44242.18it/s]\n",
      "100%|███████████████████████████████████████████████████████████████████████| 167543/167543 [00:03<00:00, 44482.19it/s]\n",
      "100%|███████████████████████████████████████████████████████████████████████████████| 30/30 [00:00<00:00, 30697.52it/s]\n"
     ]
    },
    {
     "name": "stdout",
     "output_type": "stream",
     "text": [
      "User: 280\n"
     ]
    },
    {
     "name": "stderr",
     "output_type": "stream",
     "text": [
      "100%|███████████████████████████████████████████████████████████████████████| 167543/167543 [00:03<00:00, 44141.51it/s]\n",
      "100%|███████████████████████████████████████████████████████████████████████| 167541/167541 [00:03<00:00, 44159.02it/s]\n",
      "100%|███████████████████████████████████████████████████████████████████████| 167543/167543 [00:03<00:00, 44258.44it/s]\n",
      "100%|███████████████████████████████████████████████████████████████████████████████| 30/30 [00:00<00:00, 30073.88it/s]\n"
     ]
    },
    {
     "name": "stdout",
     "output_type": "stream",
     "text": [
      "User: 281\n"
     ]
    },
    {
     "name": "stderr",
     "output_type": "stream",
     "text": [
      "100%|███████████████████████████████████████████████████████████████████████| 167543/167543 [00:03<00:00, 44257.16it/s]\n",
      "100%|███████████████████████████████████████████████████████████████████████| 167543/167543 [00:03<00:00, 44365.55it/s]\n",
      "100%|███████████████████████████████████████████████████████████████████████| 167543/167543 [00:03<00:00, 44337.06it/s]\n",
      "100%|███████████████████████████████████████████████████████████████████████████████| 30/30 [00:00<00:00, 30073.88it/s]\n"
     ]
    },
    {
     "name": "stdout",
     "output_type": "stream",
     "text": [
      "User: 282\n"
     ]
    },
    {
     "name": "stderr",
     "output_type": "stream",
     "text": [
      "100%|███████████████████████████████████████████████████████████████████████| 167543/167543 [00:03<00:00, 44289.79it/s]\n",
      "100%|███████████████████████████████████████████████████████████████████████| 167543/167543 [00:03<00:00, 44283.48it/s]\n",
      "100%|███████████████████████████████████████████████████████████████████████| 167543/167543 [00:03<00:00, 44075.33it/s]\n",
      "100%|███████████████████████████████████████████████████████████████████████████████| 30/30 [00:00<00:00, 30073.88it/s]\n"
     ]
    },
    {
     "name": "stdout",
     "output_type": "stream",
     "text": [
      "User: 283\n"
     ]
    },
    {
     "name": "stderr",
     "output_type": "stream",
     "text": [
      "100%|███████████████████████████████████████████████████████████████████████| 167543/167543 [00:03<00:00, 44207.50it/s]\n",
      "100%|███████████████████████████████████████████████████████████████████████| 167541/167541 [00:03<00:00, 44234.77it/s]\n",
      "100%|██████████████████████████████████████████████████████████████████████████████████████████| 20/20 [00:00<?, ?it/s]\n"
     ]
    },
    {
     "name": "stdout",
     "output_type": "stream",
     "text": [
      "User: 284\n"
     ]
    },
    {
     "name": "stderr",
     "output_type": "stream",
     "text": [
      "100%|███████████████████████████████████████████████████████████████████████| 167542/167542 [00:03<00:00, 44221.42it/s]\n",
      "100%|██████████████████████████████████████████████████████████████████████████████████████████| 10/10 [00:00<?, ?it/s]\n"
     ]
    },
    {
     "name": "stdout",
     "output_type": "stream",
     "text": [
      "User: 285\n"
     ]
    },
    {
     "name": "stderr",
     "output_type": "stream",
     "text": [
      "100%|███████████████████████████████████████████████████████████████████████| 167543/167543 [00:03<00:00, 44352.81it/s]\n",
      "100%|███████████████████████████████████████████████████████████████████████| 167543/167543 [00:03<00:00, 44239.24it/s]\n",
      "100%|███████████████████████████████████████████████████████████████████████████████| 20/20 [00:00<00:00, 20054.05it/s]\n"
     ]
    },
    {
     "name": "stdout",
     "output_type": "stream",
     "text": [
      "User: 286\n"
     ]
    },
    {
     "name": "stderr",
     "output_type": "stream",
     "text": [
      "100%|███████████████████████████████████████████████████████████████████████| 167541/167541 [00:03<00:00, 43952.59it/s]\n",
      "100%|███████████████████████████████████████████████████████████████████████| 167543/167543 [00:03<00:00, 44145.73it/s]\n",
      "100%|███████████████████████████████████████████████████████████████████████| 167538/167538 [00:03<00:00, 44174.87it/s]\n",
      "100%|███████████████████████████████████████████████████████████████████████████████| 30/30 [00:00<00:00, 29468.18it/s]\n"
     ]
    },
    {
     "name": "stdout",
     "output_type": "stream",
     "text": [
      "User: 287\n"
     ]
    },
    {
     "name": "stderr",
     "output_type": "stream",
     "text": [
      "100%|███████████████████████████████████████████████████████████████████████| 167543/167543 [00:03<00:00, 44155.41it/s]\n",
      "100%|███████████████████████████████████████████████████████████████████████| 167543/167543 [00:03<00:00, 44133.68it/s]\n",
      "100%|███████████████████████████████████████████████████████████████████████| 167543/167543 [00:03<00:00, 44608.74it/s]\n",
      "100%|███████████████████████████████████████████████████████████████████████████████| 30/30 [00:00<00:00, 30675.07it/s]\n"
     ]
    },
    {
     "name": "stdout",
     "output_type": "stream",
     "text": [
      "User: 288\n"
     ]
    },
    {
     "name": "stderr",
     "output_type": "stream",
     "text": [
      "100%|███████████████████████████████████████████████████████████████████████| 167537/167537 [00:03<00:00, 44299.93it/s]\n",
      "100%|███████████████████████████████████████████████████████████████████████| 167543/167543 [00:03<00:00, 44384.46it/s]\n",
      "100%|███████████████████████████████████████████████████████████████████████| 167540/167540 [00:03<00:00, 44450.83it/s]\n",
      "100%|███████████████████████████████████████████████████████████████████████████████| 30/30 [00:00<00:00, 30109.86it/s]\n"
     ]
    },
    {
     "name": "stdout",
     "output_type": "stream",
     "text": [
      "User: 289\n"
     ]
    },
    {
     "name": "stderr",
     "output_type": "stream",
     "text": [
      "100%|███████████████████████████████████████████████████████████████████████| 167543/167543 [00:03<00:00, 44383.69it/s]\n",
      "100%|███████████████████████████████████████████████████████████████████████| 167543/167543 [00:03<00:00, 44444.71it/s]\n",
      "100%|███████████████████████████████████████████████████████████████████████| 167543/167543 [00:03<00:00, 43794.82it/s]\n",
      "100%|███████████████████████████████████████████████████████████████████████████████| 30/30 [00:00<00:00, 30081.07it/s]\n"
     ]
    },
    {
     "name": "stdout",
     "output_type": "stream",
     "text": [
      "User: 290\n"
     ]
    },
    {
     "name": "stderr",
     "output_type": "stream",
     "text": [
      "100%|███████████████████████████████████████████████████████████████████████| 167542/167542 [00:03<00:00, 44812.62it/s]\n",
      "100%|███████████████████████████████████████████████████████████████████████| 167541/167541 [00:03<00:00, 45316.38it/s]\n",
      "100%|███████████████████████████████████████████████████████████████████████| 167542/167542 [00:03<00:00, 45144.70it/s]\n",
      "100%|███████████████████████████████████████████████████████████████████████████████| 30/30 [00:00<00:00, 29406.20it/s]\n"
     ]
    },
    {
     "name": "stdout",
     "output_type": "stream",
     "text": [
      "User: 291\n"
     ]
    },
    {
     "name": "stderr",
     "output_type": "stream",
     "text": [
      "100%|███████████████████████████████████████████████████████████████████████| 167540/167540 [00:03<00:00, 45281.03it/s]\n",
      "100%|███████████████████████████████████████████████████████████████████████| 167539/167539 [00:03<00:00, 44986.20it/s]\n",
      "100%|███████████████████████████████████████████████████████████████████████| 167499/167499 [00:03<00:00, 44806.88it/s]\n",
      "100%|███████████████████████████████████████████████████████████████████████████████| 30/30 [00:00<00:00, 30088.26it/s]\n"
     ]
    },
    {
     "name": "stdout",
     "output_type": "stream",
     "text": [
      "User: 292\n"
     ]
    },
    {
     "name": "stderr",
     "output_type": "stream",
     "text": [
      "100%|███████████████████████████████████████████████████████████████████████| 167543/167543 [00:03<00:00, 45325.44it/s]\n",
      "100%|███████████████████████████████████████████████████████████████████████████████| 10/10 [00:00<00:00, 10027.02it/s]\n"
     ]
    },
    {
     "name": "stdout",
     "output_type": "stream",
     "text": [
      "User: 293\n"
     ]
    },
    {
     "name": "stderr",
     "output_type": "stream",
     "text": [
      "100%|███████████████████████████████████████████████████████████████████████| 167543/167543 [00:03<00:00, 45197.02it/s]\n",
      "100%|██████████████████████████████████████████████████████████████████████████████████████████| 10/10 [00:00<?, ?it/s]\n"
     ]
    },
    {
     "name": "stdout",
     "output_type": "stream",
     "text": [
      "User: 294\n"
     ]
    },
    {
     "name": "stderr",
     "output_type": "stream",
     "text": [
      "100%|███████████████████████████████████████████████████████████████████████| 167542/167542 [00:03<00:00, 45001.40it/s]\n",
      "100%|███████████████████████████████████████████████████████████████████████| 167543/167543 [00:03<00:00, 45023.65it/s]\n",
      "100%|███████████████████████████████████████████████████████████████████████| 167542/167542 [00:03<00:00, 45057.99it/s]\n",
      "100%|██████████████████████████████████████████████████████████████████████████████████████████| 30/30 [00:00<?, ?it/s]\n"
     ]
    },
    {
     "name": "stdout",
     "output_type": "stream",
     "text": [
      "User: 295\n"
     ]
    },
    {
     "name": "stderr",
     "output_type": "stream",
     "text": [
      "100%|███████████████████████████████████████████████████████████████████████| 167543/167543 [00:03<00:00, 45070.98it/s]\n",
      "100%|██████████████████████████████████████████████████████████████████████████████████████████| 10/10 [00:00<?, ?it/s]\n"
     ]
    },
    {
     "name": "stdout",
     "output_type": "stream",
     "text": [
      "User: 296\n"
     ]
    },
    {
     "name": "stderr",
     "output_type": "stream",
     "text": [
      "100%|███████████████████████████████████████████████████████████████████████| 167541/167541 [00:03<00:00, 45164.71it/s]\n",
      "100%|███████████████████████████████████████████████████████████████████████| 167543/167543 [00:03<00:00, 45026.58it/s]\n",
      "100%|███████████████████████████████████████████████████████████████████████| 167543/167543 [00:03<00:00, 44767.93it/s]\n",
      "100%|███████████████████████████████████████████████████████████████████████████████| 30/30 [00:00<00:00, 30081.07it/s]\n"
     ]
    },
    {
     "name": "stdout",
     "output_type": "stream",
     "text": [
      "User: 297\n"
     ]
    },
    {
     "name": "stderr",
     "output_type": "stream",
     "text": [
      "100%|███████████████████████████████████████████████████████████████████████| 167543/167543 [00:03<00:00, 45025.33it/s]\n",
      "100%|███████████████████████████████████████████████████████████████████████| 167543/167543 [00:03<00:00, 44986.00it/s]\n",
      "100%|███████████████████████████████████████████████████████████████████████████████| 20/20 [00:00<00:00, 20054.05it/s]\n"
     ]
    },
    {
     "name": "stdout",
     "output_type": "stream",
     "text": [
      "User: 298\n"
     ]
    },
    {
     "name": "stderr",
     "output_type": "stream",
     "text": [
      "100%|███████████████████████████████████████████████████████████████████████| 167543/167543 [00:03<00:00, 45450.33it/s]\n",
      "100%|████████████████████████████████████████████████████████████████████████████████| 10/10 [00:00<00:00, 9806.65it/s]\n"
     ]
    },
    {
     "name": "stdout",
     "output_type": "stream",
     "text": [
      "User: 299\n"
     ]
    },
    {
     "name": "stderr",
     "output_type": "stream",
     "text": [
      "100%|█████████████████████████████████████████████████████████████████████████████| 300/300 [00:00<00:00, 33340.17it/s]\n"
     ]
    }
   ],
   "source": [
    "def recommendBuddy(usr,size,amount=1):\n",
    "    songs = pd.DataFrame(columns=data.columns)\n",
    "    rost = Roster(size)\n",
    "    ids = rost.getSimilar(usr,amount)\n",
    "    for i in ids:\n",
    "        songs = songs.append(rost.users[i].getSongs().head(5))\n",
    "    return songs[['artist', 'name']]\n",
    "    \n",
    "usr = User(9999)\n",
    "recs = recommendBuddy(usr,300,2)"
   ]
  },
  {
   "cell_type": "code",
   "execution_count": 42,
   "metadata": {},
   "outputs": [
    {
     "data": {
      "text/html": [
       "<div>\n",
       "<style scoped>\n",
       "    .dataframe tbody tr th:only-of-type {\n",
       "        vertical-align: middle;\n",
       "    }\n",
       "\n",
       "    .dataframe tbody tr th {\n",
       "        vertical-align: top;\n",
       "    }\n",
       "\n",
       "    .dataframe thead th {\n",
       "        text-align: right;\n",
       "    }\n",
       "</style>\n",
       "<table border=\"1\" class=\"dataframe\">\n",
       "  <thead>\n",
       "    <tr style=\"text-align: right;\">\n",
       "      <th></th>\n",
       "      <th>artist</th>\n",
       "      <th>name</th>\n",
       "    </tr>\n",
       "  </thead>\n",
       "  <tbody>\n",
       "    <tr>\n",
       "      <th>138539</th>\n",
       "      <td>Method Man</td>\n",
       "      <td>Judgement Day</td>\n",
       "    </tr>\n",
       "    <tr>\n",
       "      <th>8872</th>\n",
       "      <td>Wale</td>\n",
       "      <td>Bad (feat. Tiara Thomas)</td>\n",
       "    </tr>\n",
       "    <tr>\n",
       "      <th>152495</th>\n",
       "      <td>Twin Temple</td>\n",
       "      <td>Girl Trouble</td>\n",
       "    </tr>\n",
       "    <tr>\n",
       "      <th>74500</th>\n",
       "      <td>Neck Deep</td>\n",
       "      <td>Candour</td>\n",
       "    </tr>\n",
       "    <tr>\n",
       "      <th>53668</th>\n",
       "      <td>Meek Mill</td>\n",
       "      <td>Two Wrongs (feat. Guordan Banks &amp; Pusha T)</td>\n",
       "    </tr>\n",
       "  </tbody>\n",
       "</table>\n",
       "</div>"
      ],
      "text/plain": [
       "             artist                                        name\n",
       "138539   Method Man                               Judgement Day\n",
       "8872           Wale                    Bad (feat. Tiara Thomas)\n",
       "152495  Twin Temple                                Girl Trouble\n",
       "74500     Neck Deep                                     Candour\n",
       "53668     Meek Mill  Two Wrongs (feat. Guordan Banks & Pusha T)"
      ]
     },
     "execution_count": 42,
     "metadata": {},
     "output_type": "execute_result"
    }
   ],
   "source": [
    "# Suggestions for hypothetical user\n",
    "recs"
   ]
  },
  {
   "cell_type": "code",
   "execution_count": 43,
   "metadata": {},
   "outputs": [
    {
     "data": {
      "text/html": [
       "<div>\n",
       "<style scoped>\n",
       "    .dataframe tbody tr th:only-of-type {\n",
       "        vertical-align: middle;\n",
       "    }\n",
       "\n",
       "    .dataframe tbody tr th {\n",
       "        vertical-align: top;\n",
       "    }\n",
       "\n",
       "    .dataframe thead th {\n",
       "        text-align: right;\n",
       "    }\n",
       "</style>\n",
       "<table border=\"1\" class=\"dataframe\">\n",
       "  <thead>\n",
       "    <tr style=\"text-align: right;\">\n",
       "      <th></th>\n",
       "      <th>artist</th>\n",
       "      <th>name</th>\n",
       "    </tr>\n",
       "  </thead>\n",
       "  <tbody>\n",
       "    <tr>\n",
       "      <th>162681</th>\n",
       "      <td>Triathalon</td>\n",
       "      <td>It's You</td>\n",
       "    </tr>\n",
       "    <tr>\n",
       "      <th>125164</th>\n",
       "      <td>Lil Cray</td>\n",
       "      <td>I Got It</td>\n",
       "    </tr>\n",
       "    <tr>\n",
       "      <th>104414</th>\n",
       "      <td>Alex Winston</td>\n",
       "      <td>Down Low</td>\n",
       "    </tr>\n",
       "    <tr>\n",
       "      <th>45623</th>\n",
       "      <td>Flatland Cavalry</td>\n",
       "      <td>Coyote (The Ballad of Roy Johnson) [feat. Will...</td>\n",
       "    </tr>\n",
       "    <tr>\n",
       "      <th>10580</th>\n",
       "      <td>Simply Red</td>\n",
       "      <td>You Make Me Feel Brand New - Live at Sydney Op...</td>\n",
       "    </tr>\n",
       "    <tr>\n",
       "      <th>142336</th>\n",
       "      <td>The Score</td>\n",
       "      <td>Unstoppable - Stripped</td>\n",
       "    </tr>\n",
       "    <tr>\n",
       "      <th>157288</th>\n",
       "      <td>Raymond Lam</td>\n",
       "      <td>幼稚完 - (劇集 \"雷霆掃毒\" 片尾曲)</td>\n",
       "    </tr>\n",
       "    <tr>\n",
       "      <th>155925</th>\n",
       "      <td>Chris Quilala</td>\n",
       "      <td>Welcome Here</td>\n",
       "    </tr>\n",
       "    <tr>\n",
       "      <th>26748</th>\n",
       "      <td>Eliot Sumner</td>\n",
       "      <td>After Dark</td>\n",
       "    </tr>\n",
       "    <tr>\n",
       "      <th>83775</th>\n",
       "      <td>Father</td>\n",
       "      <td>Heartthrob</td>\n",
       "    </tr>\n",
       "  </tbody>\n",
       "</table>\n",
       "</div>"
      ],
      "text/plain": [
       "                  artist                                               name\n",
       "162681        Triathalon                                           It's You\n",
       "125164          Lil Cray                                           I Got It\n",
       "104414      Alex Winston                                           Down Low\n",
       "45623   Flatland Cavalry  Coyote (The Ballad of Roy Johnson) [feat. Will...\n",
       "10580         Simply Red  You Make Me Feel Brand New - Live at Sydney Op...\n",
       "142336         The Score                             Unstoppable - Stripped\n",
       "157288       Raymond Lam                              幼稚完 - (劇集 \"雷霆掃毒\" 片尾曲)\n",
       "155925     Chris Quilala                                       Welcome Here\n",
       "26748       Eliot Sumner                                         After Dark\n",
       "83775             Father                                         Heartthrob"
      ]
     },
     "execution_count": 43,
     "metadata": {},
     "output_type": "execute_result"
    }
   ],
   "source": [
    "# Liked songs for hypothetical user\n",
    "usr.getSongs()[['artist', 'name']]"
   ]
  },
  {
   "cell_type": "code",
   "execution_count": null,
   "metadata": {},
   "outputs": [],
   "source": []
  }
 ],
 "metadata": {
  "kernelspec": {
   "display_name": "Python 3",
   "language": "python",
   "name": "python3"
  },
  "language_info": {
   "codemirror_mode": {
    "name": "ipython",
    "version": 3
   },
   "file_extension": ".py",
   "mimetype": "text/x-python",
   "name": "python",
   "nbconvert_exporter": "python",
   "pygments_lexer": "ipython3",
   "version": "3.8.3"
  }
 },
 "nbformat": 4,
 "nbformat_minor": 4
}
